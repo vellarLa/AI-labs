{
  "nbformat": 4,
  "nbformat_minor": 0,
  "metadata": {
    "colab": {
      "provenance": []
    },
    "kernelspec": {
      "name": "python3",
      "display_name": "Python 3"
    },
    "language_info": {
      "name": "python"
    }
  },
  "cells": [
    {
      "cell_type": "markdown",
      "metadata": {
        "id": "5tUiPMiDtTiL"
      },
      "source": [
        "**Лабораторная работа №4: Классификация. Деревья решений**\n",
        "\n",
        "**Выполнила: Мишагина Валерия 6133**\n",
        "\n"
      ]
    },
    {
      "cell_type": "markdown",
      "metadata": {
        "id": "Rx56yf9qOCmF"
      },
      "source": [
        "Датасет -  [Bike Sharing Dateset](https://www.kaggle.com/datasets/rishabhbarman/bike-sharing-dateset)"
      ]
    },
    {
      "cell_type": "markdown",
      "metadata": {
        "id": "VmZfVt6MOh76"
      },
      "source": [
        "**№1.** Считать в `pandas.DataFrame` любой источник данных: CSV, JSON, Excel-файл, HTML-таблицу и т.п."
      ]
    },
    {
      "cell_type": "code",
      "execution_count": 4,
      "metadata": {
        "id": "DsBvAnoCs8N_"
      },
      "outputs": [],
      "source": [
        "import pandas as pd\n",
        "import random\n",
        "import numpy as np\n",
        "from matplotlib import pyplot as plt\n",
        "from sklearn.model_selection import train_test_split\n",
        "from sklearn.neighbors import KNeighborsClassifier\n",
        "from sklearn.metrics import accuracy_score, precision_score, recall_score, f1_score, classification_report\n",
        "from sklearn.preprocessing import StandardScaler\n",
        "import seaborn as sns\n",
        "from sklearn.model_selection import cross_val_score\n",
        "from matplotlib import pyplot as plt\n",
        "from sklearn.model_selection import GridSearchCV\n",
        "from sklearn.tree import DecisionTreeClassifier\n",
        "from sklearn.ensemble import RandomForestClassifier\n",
        "from sklearn.model_selection import GridSearchCV\n",
        "from sklearn.tree import DecisionTreeClassifier"
      ]
    },
    {
      "cell_type": "code",
      "source": [
        "data = pd.read_csv('day.csv')"
      ],
      "metadata": {
        "id": "vT8g4uazDLRo"
      },
      "execution_count": 5,
      "outputs": []
    },
    {
      "cell_type": "markdown",
      "metadata": {
        "id": "uGJ5daSWPgfY"
      },
      "source": [
        "**№2.** Привести описание датасета."
      ]
    },
    {
      "cell_type": "code",
      "source": [
        "# информация о данных в DataFrame, тип данных признаков\n",
        "data.info()"
      ],
      "metadata": {
        "colab": {
          "base_uri": "https://localhost:8080/"
        },
        "id": "ckciKySVDV5x",
        "outputId": "e45825ac-a034-476d-e008-03d4db028e9d"
      },
      "execution_count": 6,
      "outputs": [
        {
          "output_type": "stream",
          "name": "stdout",
          "text": [
            "<class 'pandas.core.frame.DataFrame'>\n",
            "RangeIndex: 731 entries, 0 to 730\n",
            "Data columns (total 16 columns):\n",
            " #   Column      Non-Null Count  Dtype  \n",
            "---  ------      --------------  -----  \n",
            " 0   instant     731 non-null    int64  \n",
            " 1   dteday      731 non-null    object \n",
            " 2   season      731 non-null    int64  \n",
            " 3   yr          731 non-null    int64  \n",
            " 4   mnth        731 non-null    int64  \n",
            " 5   holiday     731 non-null    int64  \n",
            " 6   weekday     731 non-null    int64  \n",
            " 7   workingday  731 non-null    int64  \n",
            " 8   weathersit  731 non-null    int64  \n",
            " 9   temp        731 non-null    float64\n",
            " 10  atemp       731 non-null    float64\n",
            " 11  hum         731 non-null    float64\n",
            " 12  windspeed   731 non-null    float64\n",
            " 13  casual      731 non-null    int64  \n",
            " 14  registered  731 non-null    int64  \n",
            " 15  cnt         731 non-null    int64  \n",
            "dtypes: float64(4), int64(11), object(1)\n",
            "memory usage: 91.5+ KB\n"
          ]
        }
      ]
    },
    {
      "cell_type": "code",
      "source": [
        "data.shape"
      ],
      "metadata": {
        "colab": {
          "base_uri": "https://localhost:8080/"
        },
        "id": "dImGf17DDai3",
        "outputId": "b57b8101-2c9f-4526-e468-19b71119b00e"
      },
      "execution_count": 7,
      "outputs": [
        {
          "output_type": "execute_result",
          "data": {
            "text/plain": [
              "(731, 16)"
            ]
          },
          "metadata": {},
          "execution_count": 7
        }
      ]
    },
    {
      "cell_type": "code",
      "source": [
        "data.head()"
      ],
      "metadata": {
        "colab": {
          "base_uri": "https://localhost:8080/",
          "height": 206
        },
        "id": "g-5puyyEDb4h",
        "outputId": "3182e4f9-95e6-4f5a-cf92-ccd90824664e"
      },
      "execution_count": 8,
      "outputs": [
        {
          "output_type": "execute_result",
          "data": {
            "text/plain": [
              "   instant      dteday  season  yr  mnth  holiday  weekday  workingday  \\\n",
              "0        1  2011-01-01       1   0     1        0        6           0   \n",
              "1        2  2011-01-02       1   0     1        0        0           0   \n",
              "2        3  2011-01-03       1   0     1        0        1           1   \n",
              "3        4  2011-01-04       1   0     1        0        2           1   \n",
              "4        5  2011-01-05       1   0     1        0        3           1   \n",
              "\n",
              "   weathersit      temp     atemp       hum  windspeed  casual  registered  \\\n",
              "0           2  0.344167  0.363625  0.805833   0.160446     331         654   \n",
              "1           2  0.363478  0.353739  0.696087   0.248539     131         670   \n",
              "2           1  0.196364  0.189405  0.437273   0.248309     120        1229   \n",
              "3           1  0.200000  0.212122  0.590435   0.160296     108        1454   \n",
              "4           1  0.226957  0.229270  0.436957   0.186900      82        1518   \n",
              "\n",
              "    cnt  \n",
              "0   985  \n",
              "1   801  \n",
              "2  1349  \n",
              "3  1562  \n",
              "4  1600  "
            ],
            "text/html": [
              "\n",
              "  <div id=\"df-2a2fe1e7-9e5b-48c8-969c-293b948c2f43\" class=\"colab-df-container\">\n",
              "    <div>\n",
              "<style scoped>\n",
              "    .dataframe tbody tr th:only-of-type {\n",
              "        vertical-align: middle;\n",
              "    }\n",
              "\n",
              "    .dataframe tbody tr th {\n",
              "        vertical-align: top;\n",
              "    }\n",
              "\n",
              "    .dataframe thead th {\n",
              "        text-align: right;\n",
              "    }\n",
              "</style>\n",
              "<table border=\"1\" class=\"dataframe\">\n",
              "  <thead>\n",
              "    <tr style=\"text-align: right;\">\n",
              "      <th></th>\n",
              "      <th>instant</th>\n",
              "      <th>dteday</th>\n",
              "      <th>season</th>\n",
              "      <th>yr</th>\n",
              "      <th>mnth</th>\n",
              "      <th>holiday</th>\n",
              "      <th>weekday</th>\n",
              "      <th>workingday</th>\n",
              "      <th>weathersit</th>\n",
              "      <th>temp</th>\n",
              "      <th>atemp</th>\n",
              "      <th>hum</th>\n",
              "      <th>windspeed</th>\n",
              "      <th>casual</th>\n",
              "      <th>registered</th>\n",
              "      <th>cnt</th>\n",
              "    </tr>\n",
              "  </thead>\n",
              "  <tbody>\n",
              "    <tr>\n",
              "      <th>0</th>\n",
              "      <td>1</td>\n",
              "      <td>2011-01-01</td>\n",
              "      <td>1</td>\n",
              "      <td>0</td>\n",
              "      <td>1</td>\n",
              "      <td>0</td>\n",
              "      <td>6</td>\n",
              "      <td>0</td>\n",
              "      <td>2</td>\n",
              "      <td>0.344167</td>\n",
              "      <td>0.363625</td>\n",
              "      <td>0.805833</td>\n",
              "      <td>0.160446</td>\n",
              "      <td>331</td>\n",
              "      <td>654</td>\n",
              "      <td>985</td>\n",
              "    </tr>\n",
              "    <tr>\n",
              "      <th>1</th>\n",
              "      <td>2</td>\n",
              "      <td>2011-01-02</td>\n",
              "      <td>1</td>\n",
              "      <td>0</td>\n",
              "      <td>1</td>\n",
              "      <td>0</td>\n",
              "      <td>0</td>\n",
              "      <td>0</td>\n",
              "      <td>2</td>\n",
              "      <td>0.363478</td>\n",
              "      <td>0.353739</td>\n",
              "      <td>0.696087</td>\n",
              "      <td>0.248539</td>\n",
              "      <td>131</td>\n",
              "      <td>670</td>\n",
              "      <td>801</td>\n",
              "    </tr>\n",
              "    <tr>\n",
              "      <th>2</th>\n",
              "      <td>3</td>\n",
              "      <td>2011-01-03</td>\n",
              "      <td>1</td>\n",
              "      <td>0</td>\n",
              "      <td>1</td>\n",
              "      <td>0</td>\n",
              "      <td>1</td>\n",
              "      <td>1</td>\n",
              "      <td>1</td>\n",
              "      <td>0.196364</td>\n",
              "      <td>0.189405</td>\n",
              "      <td>0.437273</td>\n",
              "      <td>0.248309</td>\n",
              "      <td>120</td>\n",
              "      <td>1229</td>\n",
              "      <td>1349</td>\n",
              "    </tr>\n",
              "    <tr>\n",
              "      <th>3</th>\n",
              "      <td>4</td>\n",
              "      <td>2011-01-04</td>\n",
              "      <td>1</td>\n",
              "      <td>0</td>\n",
              "      <td>1</td>\n",
              "      <td>0</td>\n",
              "      <td>2</td>\n",
              "      <td>1</td>\n",
              "      <td>1</td>\n",
              "      <td>0.200000</td>\n",
              "      <td>0.212122</td>\n",
              "      <td>0.590435</td>\n",
              "      <td>0.160296</td>\n",
              "      <td>108</td>\n",
              "      <td>1454</td>\n",
              "      <td>1562</td>\n",
              "    </tr>\n",
              "    <tr>\n",
              "      <th>4</th>\n",
              "      <td>5</td>\n",
              "      <td>2011-01-05</td>\n",
              "      <td>1</td>\n",
              "      <td>0</td>\n",
              "      <td>1</td>\n",
              "      <td>0</td>\n",
              "      <td>3</td>\n",
              "      <td>1</td>\n",
              "      <td>1</td>\n",
              "      <td>0.226957</td>\n",
              "      <td>0.229270</td>\n",
              "      <td>0.436957</td>\n",
              "      <td>0.186900</td>\n",
              "      <td>82</td>\n",
              "      <td>1518</td>\n",
              "      <td>1600</td>\n",
              "    </tr>\n",
              "  </tbody>\n",
              "</table>\n",
              "</div>\n",
              "    <div class=\"colab-df-buttons\">\n",
              "\n",
              "  <div class=\"colab-df-container\">\n",
              "    <button class=\"colab-df-convert\" onclick=\"convertToInteractive('df-2a2fe1e7-9e5b-48c8-969c-293b948c2f43')\"\n",
              "            title=\"Convert this dataframe to an interactive table.\"\n",
              "            style=\"display:none;\">\n",
              "\n",
              "  <svg xmlns=\"http://www.w3.org/2000/svg\" height=\"24px\" viewBox=\"0 -960 960 960\">\n",
              "    <path d=\"M120-120v-720h720v720H120Zm60-500h600v-160H180v160Zm220 220h160v-160H400v160Zm0 220h160v-160H400v160ZM180-400h160v-160H180v160Zm440 0h160v-160H620v160ZM180-180h160v-160H180v160Zm440 0h160v-160H620v160Z\"/>\n",
              "  </svg>\n",
              "    </button>\n",
              "\n",
              "  <style>\n",
              "    .colab-df-container {\n",
              "      display:flex;\n",
              "      gap: 12px;\n",
              "    }\n",
              "\n",
              "    .colab-df-convert {\n",
              "      background-color: #E8F0FE;\n",
              "      border: none;\n",
              "      border-radius: 50%;\n",
              "      cursor: pointer;\n",
              "      display: none;\n",
              "      fill: #1967D2;\n",
              "      height: 32px;\n",
              "      padding: 0 0 0 0;\n",
              "      width: 32px;\n",
              "    }\n",
              "\n",
              "    .colab-df-convert:hover {\n",
              "      background-color: #E2EBFA;\n",
              "      box-shadow: 0px 1px 2px rgba(60, 64, 67, 0.3), 0px 1px 3px 1px rgba(60, 64, 67, 0.15);\n",
              "      fill: #174EA6;\n",
              "    }\n",
              "\n",
              "    .colab-df-buttons div {\n",
              "      margin-bottom: 4px;\n",
              "    }\n",
              "\n",
              "    [theme=dark] .colab-df-convert {\n",
              "      background-color: #3B4455;\n",
              "      fill: #D2E3FC;\n",
              "    }\n",
              "\n",
              "    [theme=dark] .colab-df-convert:hover {\n",
              "      background-color: #434B5C;\n",
              "      box-shadow: 0px 1px 3px 1px rgba(0, 0, 0, 0.15);\n",
              "      filter: drop-shadow(0px 1px 2px rgba(0, 0, 0, 0.3));\n",
              "      fill: #FFFFFF;\n",
              "    }\n",
              "  </style>\n",
              "\n",
              "    <script>\n",
              "      const buttonEl =\n",
              "        document.querySelector('#df-2a2fe1e7-9e5b-48c8-969c-293b948c2f43 button.colab-df-convert');\n",
              "      buttonEl.style.display =\n",
              "        google.colab.kernel.accessAllowed ? 'block' : 'none';\n",
              "\n",
              "      async function convertToInteractive(key) {\n",
              "        const element = document.querySelector('#df-2a2fe1e7-9e5b-48c8-969c-293b948c2f43');\n",
              "        const dataTable =\n",
              "          await google.colab.kernel.invokeFunction('convertToInteractive',\n",
              "                                                    [key], {});\n",
              "        if (!dataTable) return;\n",
              "\n",
              "        const docLinkHtml = 'Like what you see? Visit the ' +\n",
              "          '<a target=\"_blank\" href=https://colab.research.google.com/notebooks/data_table.ipynb>data table notebook</a>'\n",
              "          + ' to learn more about interactive tables.';\n",
              "        element.innerHTML = '';\n",
              "        dataTable['output_type'] = 'display_data';\n",
              "        await google.colab.output.renderOutput(dataTable, element);\n",
              "        const docLink = document.createElement('div');\n",
              "        docLink.innerHTML = docLinkHtml;\n",
              "        element.appendChild(docLink);\n",
              "      }\n",
              "    </script>\n",
              "  </div>\n",
              "\n",
              "\n",
              "<div id=\"df-633305e8-c086-4b3f-b5a5-3dcd5cf191b6\">\n",
              "  <button class=\"colab-df-quickchart\" onclick=\"quickchart('df-633305e8-c086-4b3f-b5a5-3dcd5cf191b6')\"\n",
              "            title=\"Suggest charts\"\n",
              "            style=\"display:none;\">\n",
              "\n",
              "<svg xmlns=\"http://www.w3.org/2000/svg\" height=\"24px\"viewBox=\"0 0 24 24\"\n",
              "     width=\"24px\">\n",
              "    <g>\n",
              "        <path d=\"M19 3H5c-1.1 0-2 .9-2 2v14c0 1.1.9 2 2 2h14c1.1 0 2-.9 2-2V5c0-1.1-.9-2-2-2zM9 17H7v-7h2v7zm4 0h-2V7h2v10zm4 0h-2v-4h2v4z\"/>\n",
              "    </g>\n",
              "</svg>\n",
              "  </button>\n",
              "\n",
              "<style>\n",
              "  .colab-df-quickchart {\n",
              "      --bg-color: #E8F0FE;\n",
              "      --fill-color: #1967D2;\n",
              "      --hover-bg-color: #E2EBFA;\n",
              "      --hover-fill-color: #174EA6;\n",
              "      --disabled-fill-color: #AAA;\n",
              "      --disabled-bg-color: #DDD;\n",
              "  }\n",
              "\n",
              "  [theme=dark] .colab-df-quickchart {\n",
              "      --bg-color: #3B4455;\n",
              "      --fill-color: #D2E3FC;\n",
              "      --hover-bg-color: #434B5C;\n",
              "      --hover-fill-color: #FFFFFF;\n",
              "      --disabled-bg-color: #3B4455;\n",
              "      --disabled-fill-color: #666;\n",
              "  }\n",
              "\n",
              "  .colab-df-quickchart {\n",
              "    background-color: var(--bg-color);\n",
              "    border: none;\n",
              "    border-radius: 50%;\n",
              "    cursor: pointer;\n",
              "    display: none;\n",
              "    fill: var(--fill-color);\n",
              "    height: 32px;\n",
              "    padding: 0;\n",
              "    width: 32px;\n",
              "  }\n",
              "\n",
              "  .colab-df-quickchart:hover {\n",
              "    background-color: var(--hover-bg-color);\n",
              "    box-shadow: 0 1px 2px rgba(60, 64, 67, 0.3), 0 1px 3px 1px rgba(60, 64, 67, 0.15);\n",
              "    fill: var(--button-hover-fill-color);\n",
              "  }\n",
              "\n",
              "  .colab-df-quickchart-complete:disabled,\n",
              "  .colab-df-quickchart-complete:disabled:hover {\n",
              "    background-color: var(--disabled-bg-color);\n",
              "    fill: var(--disabled-fill-color);\n",
              "    box-shadow: none;\n",
              "  }\n",
              "\n",
              "  .colab-df-spinner {\n",
              "    border: 2px solid var(--fill-color);\n",
              "    border-color: transparent;\n",
              "    border-bottom-color: var(--fill-color);\n",
              "    animation:\n",
              "      spin 1s steps(1) infinite;\n",
              "  }\n",
              "\n",
              "  @keyframes spin {\n",
              "    0% {\n",
              "      border-color: transparent;\n",
              "      border-bottom-color: var(--fill-color);\n",
              "      border-left-color: var(--fill-color);\n",
              "    }\n",
              "    20% {\n",
              "      border-color: transparent;\n",
              "      border-left-color: var(--fill-color);\n",
              "      border-top-color: var(--fill-color);\n",
              "    }\n",
              "    30% {\n",
              "      border-color: transparent;\n",
              "      border-left-color: var(--fill-color);\n",
              "      border-top-color: var(--fill-color);\n",
              "      border-right-color: var(--fill-color);\n",
              "    }\n",
              "    40% {\n",
              "      border-color: transparent;\n",
              "      border-right-color: var(--fill-color);\n",
              "      border-top-color: var(--fill-color);\n",
              "    }\n",
              "    60% {\n",
              "      border-color: transparent;\n",
              "      border-right-color: var(--fill-color);\n",
              "    }\n",
              "    80% {\n",
              "      border-color: transparent;\n",
              "      border-right-color: var(--fill-color);\n",
              "      border-bottom-color: var(--fill-color);\n",
              "    }\n",
              "    90% {\n",
              "      border-color: transparent;\n",
              "      border-bottom-color: var(--fill-color);\n",
              "    }\n",
              "  }\n",
              "</style>\n",
              "\n",
              "  <script>\n",
              "    async function quickchart(key) {\n",
              "      const quickchartButtonEl =\n",
              "        document.querySelector('#' + key + ' button');\n",
              "      quickchartButtonEl.disabled = true;  // To prevent multiple clicks.\n",
              "      quickchartButtonEl.classList.add('colab-df-spinner');\n",
              "      try {\n",
              "        const charts = await google.colab.kernel.invokeFunction(\n",
              "            'suggestCharts', [key], {});\n",
              "      } catch (error) {\n",
              "        console.error('Error during call to suggestCharts:', error);\n",
              "      }\n",
              "      quickchartButtonEl.classList.remove('colab-df-spinner');\n",
              "      quickchartButtonEl.classList.add('colab-df-quickchart-complete');\n",
              "    }\n",
              "    (() => {\n",
              "      let quickchartButtonEl =\n",
              "        document.querySelector('#df-633305e8-c086-4b3f-b5a5-3dcd5cf191b6 button');\n",
              "      quickchartButtonEl.style.display =\n",
              "        google.colab.kernel.accessAllowed ? 'block' : 'none';\n",
              "    })();\n",
              "  </script>\n",
              "</div>\n",
              "    </div>\n",
              "  </div>\n"
            ],
            "application/vnd.google.colaboratory.intrinsic+json": {
              "type": "dataframe",
              "variable_name": "data",
              "summary": "{\n  \"name\": \"data\",\n  \"rows\": 731,\n  \"fields\": [\n    {\n      \"column\": \"instant\",\n      \"properties\": {\n        \"dtype\": \"number\",\n        \"std\": 211,\n        \"min\": 1,\n        \"max\": 731,\n        \"num_unique_values\": 731,\n        \"samples\": [\n          704,\n          34,\n          301\n        ],\n        \"semantic_type\": \"\",\n        \"description\": \"\"\n      }\n    },\n    {\n      \"column\": \"dteday\",\n      \"properties\": {\n        \"dtype\": \"object\",\n        \"num_unique_values\": 731,\n        \"samples\": [\n          \"2012-12-04\",\n          \"2011-02-03\",\n          \"2011-10-28\"\n        ],\n        \"semantic_type\": \"\",\n        \"description\": \"\"\n      }\n    },\n    {\n      \"column\": \"season\",\n      \"properties\": {\n        \"dtype\": \"number\",\n        \"std\": 1,\n        \"min\": 1,\n        \"max\": 4,\n        \"num_unique_values\": 4,\n        \"samples\": [\n          2,\n          4,\n          1\n        ],\n        \"semantic_type\": \"\",\n        \"description\": \"\"\n      }\n    },\n    {\n      \"column\": \"yr\",\n      \"properties\": {\n        \"dtype\": \"number\",\n        \"std\": 0,\n        \"min\": 0,\n        \"max\": 1,\n        \"num_unique_values\": 2,\n        \"samples\": [\n          1,\n          0\n        ],\n        \"semantic_type\": \"\",\n        \"description\": \"\"\n      }\n    },\n    {\n      \"column\": \"mnth\",\n      \"properties\": {\n        \"dtype\": \"number\",\n        \"std\": 3,\n        \"min\": 1,\n        \"max\": 12,\n        \"num_unique_values\": 12,\n        \"samples\": [\n          11,\n          10\n        ],\n        \"semantic_type\": \"\",\n        \"description\": \"\"\n      }\n    },\n    {\n      \"column\": \"holiday\",\n      \"properties\": {\n        \"dtype\": \"number\",\n        \"std\": 0,\n        \"min\": 0,\n        \"max\": 1,\n        \"num_unique_values\": 2,\n        \"samples\": [\n          1,\n          0\n        ],\n        \"semantic_type\": \"\",\n        \"description\": \"\"\n      }\n    },\n    {\n      \"column\": \"weekday\",\n      \"properties\": {\n        \"dtype\": \"number\",\n        \"std\": 2,\n        \"min\": 0,\n        \"max\": 6,\n        \"num_unique_values\": 7,\n        \"samples\": [\n          6,\n          0\n        ],\n        \"semantic_type\": \"\",\n        \"description\": \"\"\n      }\n    },\n    {\n      \"column\": \"workingday\",\n      \"properties\": {\n        \"dtype\": \"number\",\n        \"std\": 0,\n        \"min\": 0,\n        \"max\": 1,\n        \"num_unique_values\": 2,\n        \"samples\": [\n          1,\n          0\n        ],\n        \"semantic_type\": \"\",\n        \"description\": \"\"\n      }\n    },\n    {\n      \"column\": \"weathersit\",\n      \"properties\": {\n        \"dtype\": \"number\",\n        \"std\": 0,\n        \"min\": 1,\n        \"max\": 3,\n        \"num_unique_values\": 3,\n        \"samples\": [\n          2,\n          1\n        ],\n        \"semantic_type\": \"\",\n        \"description\": \"\"\n      }\n    },\n    {\n      \"column\": \"temp\",\n      \"properties\": {\n        \"dtype\": \"number\",\n        \"std\": 0.18305099611148878,\n        \"min\": 0.0591304,\n        \"max\": 0.861667,\n        \"num_unique_values\": 499,\n        \"samples\": [\n          0.544167,\n          0.430435\n        ],\n        \"semantic_type\": \"\",\n        \"description\": \"\"\n      }\n    },\n    {\n      \"column\": \"atemp\",\n      \"properties\": {\n        \"dtype\": \"number\",\n        \"std\": 0.1629611783863113,\n        \"min\": 0.0790696,\n        \"max\": 0.840896,\n        \"num_unique_values\": 690,\n        \"samples\": [\n          0.463375,\n          0.599754\n        ],\n        \"semantic_type\": \"\",\n        \"description\": \"\"\n      }\n    },\n    {\n      \"column\": \"hum\",\n      \"properties\": {\n        \"dtype\": \"number\",\n        \"std\": 0.14242909513835394,\n        \"min\": 0.0,\n        \"max\": 0.9725,\n        \"num_unique_values\": 595,\n        \"samples\": [\n          0.707083,\n          0.718333\n        ],\n        \"semantic_type\": \"\",\n        \"description\": \"\"\n      }\n    },\n    {\n      \"column\": \"windspeed\",\n      \"properties\": {\n        \"dtype\": \"number\",\n        \"std\": 0.07749787068166941,\n        \"min\": 0.0223917,\n        \"max\": 0.507463,\n        \"num_unique_values\": 650,\n        \"samples\": [\n          0.100742,\n          0.139308\n        ],\n        \"semantic_type\": \"\",\n        \"description\": \"\"\n      }\n    },\n    {\n      \"column\": \"casual\",\n      \"properties\": {\n        \"dtype\": \"number\",\n        \"std\": 686,\n        \"min\": 2,\n        \"max\": 3410,\n        \"num_unique_values\": 606,\n        \"samples\": [\n          709,\n          449\n        ],\n        \"semantic_type\": \"\",\n        \"description\": \"\"\n      }\n    },\n    {\n      \"column\": \"registered\",\n      \"properties\": {\n        \"dtype\": \"number\",\n        \"std\": 1560,\n        \"min\": 20,\n        \"max\": 6946,\n        \"num_unique_values\": 679,\n        \"samples\": [\n          4531,\n          2553\n        ],\n        \"semantic_type\": \"\",\n        \"description\": \"\"\n      }\n    },\n    {\n      \"column\": \"cnt\",\n      \"properties\": {\n        \"dtype\": \"number\",\n        \"std\": 1937,\n        \"min\": 22,\n        \"max\": 8714,\n        \"num_unique_values\": 696,\n        \"samples\": [\n          5170,\n          1607\n        ],\n        \"semantic_type\": \"\",\n        \"description\": \"\"\n      }\n    }\n  ]\n}"
            }
          },
          "metadata": {},
          "execution_count": 8
        }
      ]
    },
    {
      "cell_type": "markdown",
      "source": [
        "**Осуществить предобработку данных (избавиться от null, убрать некоторые признаки и т.п.) - \"подчистить данные\"**\n",
        "\n",
        "\n"
      ],
      "metadata": {
        "id": "xWqOqW7Audjf"
      }
    },
    {
      "cell_type": "code",
      "source": [
        "data.isna().sum()"
      ],
      "metadata": {
        "colab": {
          "base_uri": "https://localhost:8080/"
        },
        "id": "u4x_H0uVEMgV",
        "outputId": "cf2a7041-2bc3-4815-9fae-bdedc454a7c2"
      },
      "execution_count": 9,
      "outputs": [
        {
          "output_type": "execute_result",
          "data": {
            "text/plain": [
              "instant       0\n",
              "dteday        0\n",
              "season        0\n",
              "yr            0\n",
              "mnth          0\n",
              "holiday       0\n",
              "weekday       0\n",
              "workingday    0\n",
              "weathersit    0\n",
              "temp          0\n",
              "atemp         0\n",
              "hum           0\n",
              "windspeed     0\n",
              "casual        0\n",
              "registered    0\n",
              "cnt           0\n",
              "dtype: int64"
            ]
          },
          "metadata": {},
          "execution_count": 9
        }
      ]
    },
    {
      "cell_type": "code",
      "source": [
        "data['is_success_day'] = data[\"cnt\"].apply(lambda e:   e > 5500)"
      ],
      "metadata": {
        "id": "aEDeutfmEZXp"
      },
      "execution_count": 10,
      "outputs": []
    },
    {
      "cell_type": "code",
      "source": [
        "data['is_success_day'].value_counts()"
      ],
      "metadata": {
        "colab": {
          "base_uri": "https://localhost:8080/"
        },
        "id": "MBczBs1pE_FP",
        "outputId": "180673eb-8ee2-46f9-cb83-839d3f885e02"
      },
      "execution_count": 11,
      "outputs": [
        {
          "output_type": "execute_result",
          "data": {
            "text/plain": [
              "is_success_day\n",
              "False    508\n",
              "True     223\n",
              "Name: count, dtype: int64"
            ]
          },
          "metadata": {},
          "execution_count": 11
        }
      ]
    },
    {
      "cell_type": "code",
      "source": [
        "data.drop('instant', axis=1, inplace=True)\n",
        "data.drop('dteday', axis=1, inplace=True)\n",
        "data.drop('registered', axis=1, inplace=True)\n",
        "data.drop('cnt', axis=1, inplace=True)"
      ],
      "metadata": {
        "id": "bpCXhRpuux1g"
      },
      "execution_count": 12,
      "outputs": []
    },
    {
      "cell_type": "code",
      "source": [
        "data.info()"
      ],
      "metadata": {
        "colab": {
          "base_uri": "https://localhost:8080/"
        },
        "id": "BGsCmkM2GMnU",
        "outputId": "bbb7f3ba-0857-4b36-c3e9-4eec87be39c7"
      },
      "execution_count": 13,
      "outputs": [
        {
          "output_type": "stream",
          "name": "stdout",
          "text": [
            "<class 'pandas.core.frame.DataFrame'>\n",
            "RangeIndex: 731 entries, 0 to 730\n",
            "Data columns (total 13 columns):\n",
            " #   Column          Non-Null Count  Dtype  \n",
            "---  ------          --------------  -----  \n",
            " 0   season          731 non-null    int64  \n",
            " 1   yr              731 non-null    int64  \n",
            " 2   mnth            731 non-null    int64  \n",
            " 3   holiday         731 non-null    int64  \n",
            " 4   weekday         731 non-null    int64  \n",
            " 5   workingday      731 non-null    int64  \n",
            " 6   weathersit      731 non-null    int64  \n",
            " 7   temp            731 non-null    float64\n",
            " 8   atemp           731 non-null    float64\n",
            " 9   hum             731 non-null    float64\n",
            " 10  windspeed       731 non-null    float64\n",
            " 11  casual          731 non-null    int64  \n",
            " 12  is_success_day  731 non-null    bool   \n",
            "dtypes: bool(1), float64(4), int64(8)\n",
            "memory usage: 69.4 KB\n"
          ]
        }
      ]
    },
    {
      "cell_type": "markdown",
      "source": [
        "**Нормализовать данные** (`StandardScaler` или `MinMaxScaler`)\n",
        "\n"
      ],
      "metadata": {
        "id": "1rUPv5Up2MEF"
      }
    },
    {
      "cell_type": "code",
      "source": [
        "x = data.drop('is_success_day', axis=1)\n",
        "y = data['is_success_day']\n",
        "cols = list(x.columns)"
      ],
      "metadata": {
        "id": "_MlO8a1mGqRV"
      },
      "execution_count": 14,
      "outputs": []
    },
    {
      "cell_type": "code",
      "source": [
        "scaler = StandardScaler()\n",
        "scaler.fit(x[cols])\n",
        "scaled = scaler.transform(x[cols])\n",
        "x = pd.DataFrame(scaled, columns=cols)"
      ],
      "metadata": {
        "id": "WaHG2vsg2RX3"
      },
      "execution_count": 15,
      "outputs": []
    },
    {
      "cell_type": "markdown",
      "source": [
        "**Разбить выборку на обучающую и тестовую**"
      ],
      "metadata": {
        "id": "JSsGGO5HzFB_"
      }
    },
    {
      "cell_type": "code",
      "source": [
        "x_train, x_test, y_train, y_test = train_test_split(x, y, train_size=0.75)"
      ],
      "metadata": {
        "id": "i1v5_If_HBZs"
      },
      "execution_count": 16,
      "outputs": []
    },
    {
      "cell_type": "code",
      "source": [
        "# размерности выборок\n",
        "print(f\"X_train shape: {x_train.shape}\")\n",
        "print(f\"y_train shape: {y_train.shape}\")\n",
        "print(f\"X_test shape: {x_test.shape}\")\n",
        "print(f\"y_test shape: {y_test.shape}\")"
      ],
      "metadata": {
        "colab": {
          "base_uri": "https://localhost:8080/"
        },
        "id": "13yAOPJEHGRb",
        "outputId": "e40baadb-940b-4eae-a8b8-01bb10303a67"
      },
      "execution_count": 17,
      "outputs": [
        {
          "output_type": "stream",
          "name": "stdout",
          "text": [
            "X_train shape: (548, 12)\n",
            "y_train shape: (548,)\n",
            "X_test shape: (183, 12)\n",
            "y_test shape: (183,)\n"
          ]
        }
      ]
    },
    {
      "cell_type": "markdown",
      "source": [
        "# Дерево решений"
      ],
      "metadata": {
        "id": "aeijAzmHHNI6"
      }
    },
    {
      "cell_type": "markdown",
      "source": [
        "**№3.1** С использованием `GridSearchCV` осуществить подбор гиперпараметра `DecisionTreeClassifier` (как минимум `max_depth`, `max_features`, другие параметры - по желанию.)"
      ],
      "metadata": {
        "id": "PZ7QbdOAHOqi"
      }
    },
    {
      "cell_type": "code",
      "source": [
        "grid = {\n",
        "    'max_depth': range(1, x.shape[1]),\n",
        "    'max_features': range(2, 15),\n",
        "    'min_samples_leaf': range(5, 20)\n",
        "}"
      ],
      "metadata": {
        "id": "e0oZ4KczHfbn"
      },
      "execution_count": 18,
      "outputs": []
    },
    {
      "cell_type": "code",
      "source": [
        "model = DecisionTreeClassifier()\n",
        "search = GridSearchCV(model, grid, cv = 5)\n",
        "search.fit(x_train, y_train)"
      ],
      "metadata": {
        "colab": {
          "base_uri": "https://localhost:8080/",
          "height": 118
        },
        "id": "vWJam6emHzOB",
        "outputId": "86ee3b4e-3003-4794-ccb6-3baba141b456"
      },
      "execution_count": 19,
      "outputs": [
        {
          "output_type": "execute_result",
          "data": {
            "text/plain": [
              "GridSearchCV(cv=5, estimator=DecisionTreeClassifier(),\n",
              "             param_grid={'max_depth': range(1, 12),\n",
              "                         'max_features': range(2, 15),\n",
              "                         'min_samples_leaf': range(5, 20)})"
            ],
            "text/html": [
              "<style>#sk-container-id-1 {color: black;background-color: white;}#sk-container-id-1 pre{padding: 0;}#sk-container-id-1 div.sk-toggleable {background-color: white;}#sk-container-id-1 label.sk-toggleable__label {cursor: pointer;display: block;width: 100%;margin-bottom: 0;padding: 0.3em;box-sizing: border-box;text-align: center;}#sk-container-id-1 label.sk-toggleable__label-arrow:before {content: \"▸\";float: left;margin-right: 0.25em;color: #696969;}#sk-container-id-1 label.sk-toggleable__label-arrow:hover:before {color: black;}#sk-container-id-1 div.sk-estimator:hover label.sk-toggleable__label-arrow:before {color: black;}#sk-container-id-1 div.sk-toggleable__content {max-height: 0;max-width: 0;overflow: hidden;text-align: left;background-color: #f0f8ff;}#sk-container-id-1 div.sk-toggleable__content pre {margin: 0.2em;color: black;border-radius: 0.25em;background-color: #f0f8ff;}#sk-container-id-1 input.sk-toggleable__control:checked~div.sk-toggleable__content {max-height: 200px;max-width: 100%;overflow: auto;}#sk-container-id-1 input.sk-toggleable__control:checked~label.sk-toggleable__label-arrow:before {content: \"▾\";}#sk-container-id-1 div.sk-estimator input.sk-toggleable__control:checked~label.sk-toggleable__label {background-color: #d4ebff;}#sk-container-id-1 div.sk-label input.sk-toggleable__control:checked~label.sk-toggleable__label {background-color: #d4ebff;}#sk-container-id-1 input.sk-hidden--visually {border: 0;clip: rect(1px 1px 1px 1px);clip: rect(1px, 1px, 1px, 1px);height: 1px;margin: -1px;overflow: hidden;padding: 0;position: absolute;width: 1px;}#sk-container-id-1 div.sk-estimator {font-family: monospace;background-color: #f0f8ff;border: 1px dotted black;border-radius: 0.25em;box-sizing: border-box;margin-bottom: 0.5em;}#sk-container-id-1 div.sk-estimator:hover {background-color: #d4ebff;}#sk-container-id-1 div.sk-parallel-item::after {content: \"\";width: 100%;border-bottom: 1px solid gray;flex-grow: 1;}#sk-container-id-1 div.sk-label:hover label.sk-toggleable__label {background-color: #d4ebff;}#sk-container-id-1 div.sk-serial::before {content: \"\";position: absolute;border-left: 1px solid gray;box-sizing: border-box;top: 0;bottom: 0;left: 50%;z-index: 0;}#sk-container-id-1 div.sk-serial {display: flex;flex-direction: column;align-items: center;background-color: white;padding-right: 0.2em;padding-left: 0.2em;position: relative;}#sk-container-id-1 div.sk-item {position: relative;z-index: 1;}#sk-container-id-1 div.sk-parallel {display: flex;align-items: stretch;justify-content: center;background-color: white;position: relative;}#sk-container-id-1 div.sk-item::before, #sk-container-id-1 div.sk-parallel-item::before {content: \"\";position: absolute;border-left: 1px solid gray;box-sizing: border-box;top: 0;bottom: 0;left: 50%;z-index: -1;}#sk-container-id-1 div.sk-parallel-item {display: flex;flex-direction: column;z-index: 1;position: relative;background-color: white;}#sk-container-id-1 div.sk-parallel-item:first-child::after {align-self: flex-end;width: 50%;}#sk-container-id-1 div.sk-parallel-item:last-child::after {align-self: flex-start;width: 50%;}#sk-container-id-1 div.sk-parallel-item:only-child::after {width: 0;}#sk-container-id-1 div.sk-dashed-wrapped {border: 1px dashed gray;margin: 0 0.4em 0.5em 0.4em;box-sizing: border-box;padding-bottom: 0.4em;background-color: white;}#sk-container-id-1 div.sk-label label {font-family: monospace;font-weight: bold;display: inline-block;line-height: 1.2em;}#sk-container-id-1 div.sk-label-container {text-align: center;}#sk-container-id-1 div.sk-container {/* jupyter's `normalize.less` sets `[hidden] { display: none; }` but bootstrap.min.css set `[hidden] { display: none !important; }` so we also need the `!important` here to be able to override the default hidden behavior on the sphinx rendered scikit-learn.org. See: https://github.com/scikit-learn/scikit-learn/issues/21755 */display: inline-block !important;position: relative;}#sk-container-id-1 div.sk-text-repr-fallback {display: none;}</style><div id=\"sk-container-id-1\" class=\"sk-top-container\"><div class=\"sk-text-repr-fallback\"><pre>GridSearchCV(cv=5, estimator=DecisionTreeClassifier(),\n",
              "             param_grid={&#x27;max_depth&#x27;: range(1, 12),\n",
              "                         &#x27;max_features&#x27;: range(2, 15),\n",
              "                         &#x27;min_samples_leaf&#x27;: range(5, 20)})</pre><b>In a Jupyter environment, please rerun this cell to show the HTML representation or trust the notebook. <br />On GitHub, the HTML representation is unable to render, please try loading this page with nbviewer.org.</b></div><div class=\"sk-container\" hidden><div class=\"sk-item sk-dashed-wrapped\"><div class=\"sk-label-container\"><div class=\"sk-label sk-toggleable\"><input class=\"sk-toggleable__control sk-hidden--visually\" id=\"sk-estimator-id-1\" type=\"checkbox\" ><label for=\"sk-estimator-id-1\" class=\"sk-toggleable__label sk-toggleable__label-arrow\">GridSearchCV</label><div class=\"sk-toggleable__content\"><pre>GridSearchCV(cv=5, estimator=DecisionTreeClassifier(),\n",
              "             param_grid={&#x27;max_depth&#x27;: range(1, 12),\n",
              "                         &#x27;max_features&#x27;: range(2, 15),\n",
              "                         &#x27;min_samples_leaf&#x27;: range(5, 20)})</pre></div></div></div><div class=\"sk-parallel\"><div class=\"sk-parallel-item\"><div class=\"sk-item\"><div class=\"sk-label-container\"><div class=\"sk-label sk-toggleable\"><input class=\"sk-toggleable__control sk-hidden--visually\" id=\"sk-estimator-id-2\" type=\"checkbox\" ><label for=\"sk-estimator-id-2\" class=\"sk-toggleable__label sk-toggleable__label-arrow\">estimator: DecisionTreeClassifier</label><div class=\"sk-toggleable__content\"><pre>DecisionTreeClassifier()</pre></div></div></div><div class=\"sk-serial\"><div class=\"sk-item\"><div class=\"sk-estimator sk-toggleable\"><input class=\"sk-toggleable__control sk-hidden--visually\" id=\"sk-estimator-id-3\" type=\"checkbox\" ><label for=\"sk-estimator-id-3\" class=\"sk-toggleable__label sk-toggleable__label-arrow\">DecisionTreeClassifier</label><div class=\"sk-toggleable__content\"><pre>DecisionTreeClassifier()</pre></div></div></div></div></div></div></div></div></div></div>"
            ]
          },
          "metadata": {},
          "execution_count": 19
        }
      ]
    },
    {
      "cell_type": "markdown",
      "source": [
        "**№3.2** Вывести значения гиперпараметра и метрик для наилучшей модели `DecisionTreeClassifier`"
      ],
      "metadata": {
        "id": "2fuDIvZvIDHG"
      }
    },
    {
      "cell_type": "code",
      "source": [
        "search.best_params_"
      ],
      "metadata": {
        "colab": {
          "base_uri": "https://localhost:8080/"
        },
        "id": "ZfhGMpCvH7P2",
        "outputId": "df76961a-eacd-4068-bb6e-5b4c74bee9dd"
      },
      "execution_count": 20,
      "outputs": [
        {
          "output_type": "execute_result",
          "data": {
            "text/plain": [
              "{'max_depth': 8, 'max_features': 7, 'min_samples_leaf': 5}"
            ]
          },
          "metadata": {},
          "execution_count": 20
        }
      ]
    },
    {
      "cell_type": "code",
      "source": [
        "best_model = search.best_estimator_"
      ],
      "metadata": {
        "id": "7I4AciREIMiY"
      },
      "execution_count": 21,
      "outputs": []
    },
    {
      "cell_type": "markdown",
      "source": [
        "Для тренировочной выбоки"
      ],
      "metadata": {
        "id": "0jurzTvIIlvH"
      }
    },
    {
      "cell_type": "code",
      "source": [
        "print(f'Accuracy:{accuracy_score(y_train, best_model.predict(x_train))}')\n",
        "print(f'Precision:{precision_score(y_train, best_model.predict(x_train))}')\n",
        "print(f'Recall:{recall_score(y_train, best_model.predict(x_train))}')\n",
        "print(f'F-measure:{f1_score(y_train, best_model.predict(x_train))}')"
      ],
      "metadata": {
        "colab": {
          "base_uri": "https://localhost:8080/"
        },
        "id": "y1n6RykSIX77",
        "outputId": "a83e9b9c-ede9-41f0-bb51-f0c7961b4386"
      },
      "execution_count": 22,
      "outputs": [
        {
          "output_type": "stream",
          "name": "stdout",
          "text": [
            "Accuracy:0.9507299270072993\n",
            "Precision:0.9111111111111111\n",
            "Recall:0.9371428571428572\n",
            "F-measure:0.923943661971831\n"
          ]
        }
      ]
    },
    {
      "cell_type": "markdown",
      "source": [
        "Для тестовой выборки"
      ],
      "metadata": {
        "id": "FNMRco55Ip79"
      }
    },
    {
      "cell_type": "code",
      "source": [
        "print(f'Accuracy:{accuracy_score(y_test, best_model.predict(x_test))}')\n",
        "print(f'Precision:{precision_score(y_test, best_model.predict(x_test))}')\n",
        "print(f'Recall:{recall_score(y_test, best_model.predict(x_test))}')\n",
        "print(f'F-measure:{f1_score(y_test, best_model.predict(x_test))}')"
      ],
      "metadata": {
        "colab": {
          "base_uri": "https://localhost:8080/"
        },
        "id": "QVMqEAupItNu",
        "outputId": "5989714f-fc31-4b75-854c-9b81212a3845"
      },
      "execution_count": 23,
      "outputs": [
        {
          "output_type": "stream",
          "name": "stdout",
          "text": [
            "Accuracy:0.912568306010929\n",
            "Precision:0.82\n",
            "Recall:0.8541666666666666\n",
            "F-measure:0.836734693877551\n"
          ]
        }
      ]
    },
    {
      "cell_type": "markdown",
      "source": [
        "**№3.3** Для полученного наилучшего дерева вывести `feature_importances`, отсортировать их по убыванию"
      ],
      "metadata": {
        "id": "RncC7XO_I8h0"
      }
    },
    {
      "cell_type": "code",
      "source": [
        "best_model.feature_importances_"
      ],
      "metadata": {
        "colab": {
          "base_uri": "https://localhost:8080/"
        },
        "id": "wQ4axRrCJFIw",
        "outputId": "325910f2-1887-4ed8-c9ea-60addd924d69"
      },
      "execution_count": 24,
      "outputs": [
        {
          "output_type": "execute_result",
          "data": {
            "text/plain": [
              "array([0.01574947, 0.40666659, 0.00120384, 0.        , 0.02902693,\n",
              "       0.        , 0.        , 0.24455226, 0.00342001, 0.03861691,\n",
              "       0.02577478, 0.23498922])"
            ]
          },
          "metadata": {},
          "execution_count": 24
        }
      ]
    },
    {
      "cell_type": "code",
      "source": [
        "sorted(zip(x.columns, best_model.feature_importances_), key=lambda x: x[1], reverse=True)"
      ],
      "metadata": {
        "colab": {
          "base_uri": "https://localhost:8080/"
        },
        "id": "_yF9R9I-JMG0",
        "outputId": "6c96050d-ae35-42b5-8ca0-eea7a05c66a3"
      },
      "execution_count": 25,
      "outputs": [
        {
          "output_type": "execute_result",
          "data": {
            "text/plain": [
              "[('yr', 0.40666658638806263),\n",
              " ('temp', 0.24455226155896748),\n",
              " ('casual', 0.23498921920485602),\n",
              " ('hum', 0.038616905403346675),\n",
              " ('weekday', 0.029026931005326537),\n",
              " ('windspeed', 0.02577477977638247),\n",
              " ('season', 0.015749469632930325),\n",
              " ('atemp', 0.003420005199798733),\n",
              " ('mnth', 0.0012038418303291507),\n",
              " ('holiday', 0.0),\n",
              " ('workingday', 0.0),\n",
              " ('weathersit', 0.0)]"
            ]
          },
          "metadata": {},
          "execution_count": 25
        }
      ]
    },
    {
      "cell_type": "markdown",
      "source": [
        "**№3.4** Осуществить фильтрацию признаков (по какому-нибудь значению порога важности признака)."
      ],
      "metadata": {
        "id": "BEUaVLITJh3z"
      }
    },
    {
      "cell_type": "code",
      "source": [
        "features_sort = sorted(zip(x.columns, best_model.feature_importances_), key=lambda x: x[1], reverse=True)"
      ],
      "metadata": {
        "id": "NTxgoDkRJotN"
      },
      "execution_count": 90,
      "outputs": []
    },
    {
      "cell_type": "code",
      "source": [
        "features_new_tree = [key for key, val in features_sort if val > 0.05]\n",
        "features_new_tree"
      ],
      "metadata": {
        "colab": {
          "base_uri": "https://localhost:8080/"
        },
        "id": "urBuW3OTLKDh",
        "outputId": "39eaed0a-3b7f-4f88-a882-b447406bdc8f"
      },
      "execution_count": 91,
      "outputs": [
        {
          "output_type": "execute_result",
          "data": {
            "text/plain": [
              "['yr', 'temp', 'casual']"
            ]
          },
          "metadata": {},
          "execution_count": 91
        }
      ]
    },
    {
      "cell_type": "markdown",
      "source": [
        "**№3.5** Подобрать лучшую модель с использованием `GridSearchCV` на обучающей выборке с отфильтрованными признаками."
      ],
      "metadata": {
        "id": "7pbaiNcBK4MH"
      }
    },
    {
      "cell_type": "code",
      "source": [
        "x_train_filtered = x_train[features_new_tree]\n",
        "x_test_filtered = x_test[features_new_tree]"
      ],
      "metadata": {
        "id": "3Tu2i-wYK80H"
      },
      "execution_count": 92,
      "outputs": []
    },
    {
      "cell_type": "code",
      "source": [
        "model = DecisionTreeClassifier()\n",
        "search_filter = GridSearchCV(model, grid, cv = 5)\n",
        "search_filter.fit(x_train_filtered, y_train)"
      ],
      "metadata": {
        "colab": {
          "base_uri": "https://localhost:8080/",
          "height": 118
        },
        "id": "DTD8lzJgL-f-",
        "outputId": "0e2024d0-9526-4fa7-b924-3ac48561d049"
      },
      "execution_count": 29,
      "outputs": [
        {
          "output_type": "execute_result",
          "data": {
            "text/plain": [
              "GridSearchCV(cv=5, estimator=DecisionTreeClassifier(),\n",
              "             param_grid={'max_depth': range(1, 12),\n",
              "                         'max_features': range(2, 15),\n",
              "                         'min_samples_leaf': range(5, 20)})"
            ],
            "text/html": [
              "<style>#sk-container-id-2 {color: black;background-color: white;}#sk-container-id-2 pre{padding: 0;}#sk-container-id-2 div.sk-toggleable {background-color: white;}#sk-container-id-2 label.sk-toggleable__label {cursor: pointer;display: block;width: 100%;margin-bottom: 0;padding: 0.3em;box-sizing: border-box;text-align: center;}#sk-container-id-2 label.sk-toggleable__label-arrow:before {content: \"▸\";float: left;margin-right: 0.25em;color: #696969;}#sk-container-id-2 label.sk-toggleable__label-arrow:hover:before {color: black;}#sk-container-id-2 div.sk-estimator:hover label.sk-toggleable__label-arrow:before {color: black;}#sk-container-id-2 div.sk-toggleable__content {max-height: 0;max-width: 0;overflow: hidden;text-align: left;background-color: #f0f8ff;}#sk-container-id-2 div.sk-toggleable__content pre {margin: 0.2em;color: black;border-radius: 0.25em;background-color: #f0f8ff;}#sk-container-id-2 input.sk-toggleable__control:checked~div.sk-toggleable__content {max-height: 200px;max-width: 100%;overflow: auto;}#sk-container-id-2 input.sk-toggleable__control:checked~label.sk-toggleable__label-arrow:before {content: \"▾\";}#sk-container-id-2 div.sk-estimator input.sk-toggleable__control:checked~label.sk-toggleable__label {background-color: #d4ebff;}#sk-container-id-2 div.sk-label input.sk-toggleable__control:checked~label.sk-toggleable__label {background-color: #d4ebff;}#sk-container-id-2 input.sk-hidden--visually {border: 0;clip: rect(1px 1px 1px 1px);clip: rect(1px, 1px, 1px, 1px);height: 1px;margin: -1px;overflow: hidden;padding: 0;position: absolute;width: 1px;}#sk-container-id-2 div.sk-estimator {font-family: monospace;background-color: #f0f8ff;border: 1px dotted black;border-radius: 0.25em;box-sizing: border-box;margin-bottom: 0.5em;}#sk-container-id-2 div.sk-estimator:hover {background-color: #d4ebff;}#sk-container-id-2 div.sk-parallel-item::after {content: \"\";width: 100%;border-bottom: 1px solid gray;flex-grow: 1;}#sk-container-id-2 div.sk-label:hover label.sk-toggleable__label {background-color: #d4ebff;}#sk-container-id-2 div.sk-serial::before {content: \"\";position: absolute;border-left: 1px solid gray;box-sizing: border-box;top: 0;bottom: 0;left: 50%;z-index: 0;}#sk-container-id-2 div.sk-serial {display: flex;flex-direction: column;align-items: center;background-color: white;padding-right: 0.2em;padding-left: 0.2em;position: relative;}#sk-container-id-2 div.sk-item {position: relative;z-index: 1;}#sk-container-id-2 div.sk-parallel {display: flex;align-items: stretch;justify-content: center;background-color: white;position: relative;}#sk-container-id-2 div.sk-item::before, #sk-container-id-2 div.sk-parallel-item::before {content: \"\";position: absolute;border-left: 1px solid gray;box-sizing: border-box;top: 0;bottom: 0;left: 50%;z-index: -1;}#sk-container-id-2 div.sk-parallel-item {display: flex;flex-direction: column;z-index: 1;position: relative;background-color: white;}#sk-container-id-2 div.sk-parallel-item:first-child::after {align-self: flex-end;width: 50%;}#sk-container-id-2 div.sk-parallel-item:last-child::after {align-self: flex-start;width: 50%;}#sk-container-id-2 div.sk-parallel-item:only-child::after {width: 0;}#sk-container-id-2 div.sk-dashed-wrapped {border: 1px dashed gray;margin: 0 0.4em 0.5em 0.4em;box-sizing: border-box;padding-bottom: 0.4em;background-color: white;}#sk-container-id-2 div.sk-label label {font-family: monospace;font-weight: bold;display: inline-block;line-height: 1.2em;}#sk-container-id-2 div.sk-label-container {text-align: center;}#sk-container-id-2 div.sk-container {/* jupyter's `normalize.less` sets `[hidden] { display: none; }` but bootstrap.min.css set `[hidden] { display: none !important; }` so we also need the `!important` here to be able to override the default hidden behavior on the sphinx rendered scikit-learn.org. See: https://github.com/scikit-learn/scikit-learn/issues/21755 */display: inline-block !important;position: relative;}#sk-container-id-2 div.sk-text-repr-fallback {display: none;}</style><div id=\"sk-container-id-2\" class=\"sk-top-container\"><div class=\"sk-text-repr-fallback\"><pre>GridSearchCV(cv=5, estimator=DecisionTreeClassifier(),\n",
              "             param_grid={&#x27;max_depth&#x27;: range(1, 12),\n",
              "                         &#x27;max_features&#x27;: range(2, 15),\n",
              "                         &#x27;min_samples_leaf&#x27;: range(5, 20)})</pre><b>In a Jupyter environment, please rerun this cell to show the HTML representation or trust the notebook. <br />On GitHub, the HTML representation is unable to render, please try loading this page with nbviewer.org.</b></div><div class=\"sk-container\" hidden><div class=\"sk-item sk-dashed-wrapped\"><div class=\"sk-label-container\"><div class=\"sk-label sk-toggleable\"><input class=\"sk-toggleable__control sk-hidden--visually\" id=\"sk-estimator-id-4\" type=\"checkbox\" ><label for=\"sk-estimator-id-4\" class=\"sk-toggleable__label sk-toggleable__label-arrow\">GridSearchCV</label><div class=\"sk-toggleable__content\"><pre>GridSearchCV(cv=5, estimator=DecisionTreeClassifier(),\n",
              "             param_grid={&#x27;max_depth&#x27;: range(1, 12),\n",
              "                         &#x27;max_features&#x27;: range(2, 15),\n",
              "                         &#x27;min_samples_leaf&#x27;: range(5, 20)})</pre></div></div></div><div class=\"sk-parallel\"><div class=\"sk-parallel-item\"><div class=\"sk-item\"><div class=\"sk-label-container\"><div class=\"sk-label sk-toggleable\"><input class=\"sk-toggleable__control sk-hidden--visually\" id=\"sk-estimator-id-5\" type=\"checkbox\" ><label for=\"sk-estimator-id-5\" class=\"sk-toggleable__label sk-toggleable__label-arrow\">estimator: DecisionTreeClassifier</label><div class=\"sk-toggleable__content\"><pre>DecisionTreeClassifier()</pre></div></div></div><div class=\"sk-serial\"><div class=\"sk-item\"><div class=\"sk-estimator sk-toggleable\"><input class=\"sk-toggleable__control sk-hidden--visually\" id=\"sk-estimator-id-6\" type=\"checkbox\" ><label for=\"sk-estimator-id-6\" class=\"sk-toggleable__label sk-toggleable__label-arrow\">DecisionTreeClassifier</label><div class=\"sk-toggleable__content\"><pre>DecisionTreeClassifier()</pre></div></div></div></div></div></div></div></div></div></div>"
            ]
          },
          "metadata": {},
          "execution_count": 29
        }
      ]
    },
    {
      "cell_type": "markdown",
      "source": [
        "**№3.6** Вывести полученные гиперпараметры лучшей модели"
      ],
      "metadata": {
        "id": "GD-QxxlCMSD-"
      }
    },
    {
      "cell_type": "code",
      "source": [
        "search.best_params_"
      ],
      "metadata": {
        "colab": {
          "base_uri": "https://localhost:8080/"
        },
        "id": "nKeg00kcMcy-",
        "outputId": "7fb46859-f6f9-49ba-88d2-8d37ede98393"
      },
      "execution_count": 30,
      "outputs": [
        {
          "output_type": "execute_result",
          "data": {
            "text/plain": [
              "{'max_depth': 8, 'max_features': 7, 'min_samples_leaf': 5}"
            ]
          },
          "metadata": {},
          "execution_count": 30
        }
      ]
    },
    {
      "cell_type": "markdown",
      "source": [
        "№3.7 Сравнить метрики до и после фильтрации признаков лучших моделей"
      ],
      "metadata": {
        "id": "YbMFxn8tMXE9"
      }
    },
    {
      "cell_type": "code",
      "source": [
        "best_model_filter = search_filter.best_estimator_"
      ],
      "metadata": {
        "id": "R4cXTWOFMiFf"
      },
      "execution_count": 31,
      "outputs": []
    },
    {
      "cell_type": "markdown",
      "source": [
        "Для тренировочной выбоки"
      ],
      "metadata": {
        "id": "c8UgqT5RTXP-"
      }
    },
    {
      "cell_type": "code",
      "source": [
        "print(f'Accuracy:{accuracy_score(y_train, best_model_filter.predict(x_train_filtered))}')\n",
        "print(f'Precision:{precision_score(y_train, best_model_filter.predict(x_train_filtered))}')\n",
        "print(f'Recall:{recall_score(y_train, best_model_filter.predict(x_train_filtered))}')\n",
        "print(f'F-measure:{f1_score(y_train, best_model_filter.predict(x_train_filtered))}')"
      ],
      "metadata": {
        "colab": {
          "base_uri": "https://localhost:8080/"
        },
        "id": "qCxCsAM8TCE_",
        "outputId": "d5689181-bf6a-4891-f8f0-ab042e900f92"
      },
      "execution_count": 32,
      "outputs": [
        {
          "output_type": "stream",
          "name": "stdout",
          "text": [
            "Accuracy:0.9452554744525548\n",
            "Precision:0.9050279329608939\n",
            "Recall:0.9257142857142857\n",
            "F-measure:0.9152542372881357\n"
          ]
        }
      ]
    },
    {
      "cell_type": "markdown",
      "source": [
        "Для тестовой выборки"
      ],
      "metadata": {
        "id": "LTXUUXuJTdQK"
      }
    },
    {
      "cell_type": "code",
      "source": [
        "print(f'Accuracy:{accuracy_score(y_test, best_model_filter.predict(x_test_filtered))}')\n",
        "print(f'Precision:{precision_score(y_test, best_model_filter.predict(x_test_filtered))}')\n",
        "print(f'Recall:{recall_score(y_test, best_model_filter.predict(x_test_filtered))}')\n",
        "print(f'F-measure:{f1_score(y_test, best_model_filter.predict(x_test_filtered))}')"
      ],
      "metadata": {
        "colab": {
          "base_uri": "https://localhost:8080/"
        },
        "id": "tmfqA80XMuPn",
        "outputId": "03df82d8-c399-4d32-ff96-9a766a29e2a1"
      },
      "execution_count": 33,
      "outputs": [
        {
          "output_type": "stream",
          "name": "stdout",
          "text": [
            "Accuracy:0.9180327868852459\n",
            "Precision:0.851063829787234\n",
            "Recall:0.8333333333333334\n",
            "F-measure:0.8421052631578947\n"
          ]
        }
      ]
    },
    {
      "cell_type": "markdown",
      "source": [
        "Метрики для тренировочной выборки на отфильтрованных данных немного ухудшились, для тестовой - немного улучшились\n",
        "\n",
        "\n"
      ],
      "metadata": {
        "id": "BXqEzTWQP1Ql"
      }
    },
    {
      "cell_type": "markdown",
      "source": [
        "# Случайный лес"
      ],
      "metadata": {
        "id": "kHeQe_QkNhnZ"
      }
    },
    {
      "cell_type": "markdown",
      "source": [
        "**№4.1** Построить случайный лес (`RandomForestClassifier`), c использованием `GridSearchCV` осуществить подбор гиперпараметра"
      ],
      "metadata": {
        "id": "o1jsI78LNmE8"
      }
    },
    {
      "cell_type": "code",
      "source": [
        "forest_model = RandomForestClassifier()"
      ],
      "metadata": {
        "id": "F-KSMfTvOIxM"
      },
      "execution_count": 34,
      "outputs": []
    },
    {
      "cell_type": "code",
      "source": [
        "forest_grid = {\n",
        "    'max_depth': range(1, x.shape[1]),\n",
        "    'n_estimators': range(10, 151, 10)\n",
        "}"
      ],
      "metadata": {
        "id": "vZ8jnCOiQHlJ"
      },
      "execution_count": 35,
      "outputs": []
    },
    {
      "cell_type": "code",
      "source": [
        "forest_search = GridSearchCV(forest_model, forest_grid, cv = 5)\n",
        "forest_search.fit(x_train, y_train)"
      ],
      "metadata": {
        "colab": {
          "base_uri": "https://localhost:8080/",
          "height": 118
        },
        "id": "tBrg5LYcQQvH",
        "outputId": "910fd883-987c-4f19-ae76-be3256f78562"
      },
      "execution_count": 36,
      "outputs": [
        {
          "output_type": "execute_result",
          "data": {
            "text/plain": [
              "GridSearchCV(cv=5, estimator=RandomForestClassifier(),\n",
              "             param_grid={'max_depth': range(1, 12),\n",
              "                         'n_estimators': range(10, 151, 10)})"
            ],
            "text/html": [
              "<style>#sk-container-id-3 {color: black;background-color: white;}#sk-container-id-3 pre{padding: 0;}#sk-container-id-3 div.sk-toggleable {background-color: white;}#sk-container-id-3 label.sk-toggleable__label {cursor: pointer;display: block;width: 100%;margin-bottom: 0;padding: 0.3em;box-sizing: border-box;text-align: center;}#sk-container-id-3 label.sk-toggleable__label-arrow:before {content: \"▸\";float: left;margin-right: 0.25em;color: #696969;}#sk-container-id-3 label.sk-toggleable__label-arrow:hover:before {color: black;}#sk-container-id-3 div.sk-estimator:hover label.sk-toggleable__label-arrow:before {color: black;}#sk-container-id-3 div.sk-toggleable__content {max-height: 0;max-width: 0;overflow: hidden;text-align: left;background-color: #f0f8ff;}#sk-container-id-3 div.sk-toggleable__content pre {margin: 0.2em;color: black;border-radius: 0.25em;background-color: #f0f8ff;}#sk-container-id-3 input.sk-toggleable__control:checked~div.sk-toggleable__content {max-height: 200px;max-width: 100%;overflow: auto;}#sk-container-id-3 input.sk-toggleable__control:checked~label.sk-toggleable__label-arrow:before {content: \"▾\";}#sk-container-id-3 div.sk-estimator input.sk-toggleable__control:checked~label.sk-toggleable__label {background-color: #d4ebff;}#sk-container-id-3 div.sk-label input.sk-toggleable__control:checked~label.sk-toggleable__label {background-color: #d4ebff;}#sk-container-id-3 input.sk-hidden--visually {border: 0;clip: rect(1px 1px 1px 1px);clip: rect(1px, 1px, 1px, 1px);height: 1px;margin: -1px;overflow: hidden;padding: 0;position: absolute;width: 1px;}#sk-container-id-3 div.sk-estimator {font-family: monospace;background-color: #f0f8ff;border: 1px dotted black;border-radius: 0.25em;box-sizing: border-box;margin-bottom: 0.5em;}#sk-container-id-3 div.sk-estimator:hover {background-color: #d4ebff;}#sk-container-id-3 div.sk-parallel-item::after {content: \"\";width: 100%;border-bottom: 1px solid gray;flex-grow: 1;}#sk-container-id-3 div.sk-label:hover label.sk-toggleable__label {background-color: #d4ebff;}#sk-container-id-3 div.sk-serial::before {content: \"\";position: absolute;border-left: 1px solid gray;box-sizing: border-box;top: 0;bottom: 0;left: 50%;z-index: 0;}#sk-container-id-3 div.sk-serial {display: flex;flex-direction: column;align-items: center;background-color: white;padding-right: 0.2em;padding-left: 0.2em;position: relative;}#sk-container-id-3 div.sk-item {position: relative;z-index: 1;}#sk-container-id-3 div.sk-parallel {display: flex;align-items: stretch;justify-content: center;background-color: white;position: relative;}#sk-container-id-3 div.sk-item::before, #sk-container-id-3 div.sk-parallel-item::before {content: \"\";position: absolute;border-left: 1px solid gray;box-sizing: border-box;top: 0;bottom: 0;left: 50%;z-index: -1;}#sk-container-id-3 div.sk-parallel-item {display: flex;flex-direction: column;z-index: 1;position: relative;background-color: white;}#sk-container-id-3 div.sk-parallel-item:first-child::after {align-self: flex-end;width: 50%;}#sk-container-id-3 div.sk-parallel-item:last-child::after {align-self: flex-start;width: 50%;}#sk-container-id-3 div.sk-parallel-item:only-child::after {width: 0;}#sk-container-id-3 div.sk-dashed-wrapped {border: 1px dashed gray;margin: 0 0.4em 0.5em 0.4em;box-sizing: border-box;padding-bottom: 0.4em;background-color: white;}#sk-container-id-3 div.sk-label label {font-family: monospace;font-weight: bold;display: inline-block;line-height: 1.2em;}#sk-container-id-3 div.sk-label-container {text-align: center;}#sk-container-id-3 div.sk-container {/* jupyter's `normalize.less` sets `[hidden] { display: none; }` but bootstrap.min.css set `[hidden] { display: none !important; }` so we also need the `!important` here to be able to override the default hidden behavior on the sphinx rendered scikit-learn.org. See: https://github.com/scikit-learn/scikit-learn/issues/21755 */display: inline-block !important;position: relative;}#sk-container-id-3 div.sk-text-repr-fallback {display: none;}</style><div id=\"sk-container-id-3\" class=\"sk-top-container\"><div class=\"sk-text-repr-fallback\"><pre>GridSearchCV(cv=5, estimator=RandomForestClassifier(),\n",
              "             param_grid={&#x27;max_depth&#x27;: range(1, 12),\n",
              "                         &#x27;n_estimators&#x27;: range(10, 151, 10)})</pre><b>In a Jupyter environment, please rerun this cell to show the HTML representation or trust the notebook. <br />On GitHub, the HTML representation is unable to render, please try loading this page with nbviewer.org.</b></div><div class=\"sk-container\" hidden><div class=\"sk-item sk-dashed-wrapped\"><div class=\"sk-label-container\"><div class=\"sk-label sk-toggleable\"><input class=\"sk-toggleable__control sk-hidden--visually\" id=\"sk-estimator-id-7\" type=\"checkbox\" ><label for=\"sk-estimator-id-7\" class=\"sk-toggleable__label sk-toggleable__label-arrow\">GridSearchCV</label><div class=\"sk-toggleable__content\"><pre>GridSearchCV(cv=5, estimator=RandomForestClassifier(),\n",
              "             param_grid={&#x27;max_depth&#x27;: range(1, 12),\n",
              "                         &#x27;n_estimators&#x27;: range(10, 151, 10)})</pre></div></div></div><div class=\"sk-parallel\"><div class=\"sk-parallel-item\"><div class=\"sk-item\"><div class=\"sk-label-container\"><div class=\"sk-label sk-toggleable\"><input class=\"sk-toggleable__control sk-hidden--visually\" id=\"sk-estimator-id-8\" type=\"checkbox\" ><label for=\"sk-estimator-id-8\" class=\"sk-toggleable__label sk-toggleable__label-arrow\">estimator: RandomForestClassifier</label><div class=\"sk-toggleable__content\"><pre>RandomForestClassifier()</pre></div></div></div><div class=\"sk-serial\"><div class=\"sk-item\"><div class=\"sk-estimator sk-toggleable\"><input class=\"sk-toggleable__control sk-hidden--visually\" id=\"sk-estimator-id-9\" type=\"checkbox\" ><label for=\"sk-estimator-id-9\" class=\"sk-toggleable__label sk-toggleable__label-arrow\">RandomForestClassifier</label><div class=\"sk-toggleable__content\"><pre>RandomForestClassifier()</pre></div></div></div></div></div></div></div></div></div></div>"
            ]
          },
          "metadata": {},
          "execution_count": 36
        }
      ]
    },
    {
      "cell_type": "markdown",
      "source": [
        "**№4.2** Вывести полученные гиперпараметры лучшей модели случайного леса"
      ],
      "metadata": {
        "id": "eJ8h7POYOHNP"
      }
    },
    {
      "cell_type": "code",
      "source": [
        "forest_search.best_params_"
      ],
      "metadata": {
        "colab": {
          "base_uri": "https://localhost:8080/"
        },
        "id": "YXHS980tOQBo",
        "outputId": "9ac0b129-4865-480b-e4a1-5758f2f68dc0"
      },
      "execution_count": 37,
      "outputs": [
        {
          "output_type": "execute_result",
          "data": {
            "text/plain": [
              "{'max_depth': 11, 'n_estimators': 60}"
            ]
          },
          "metadata": {},
          "execution_count": 37
        }
      ]
    },
    {
      "cell_type": "code",
      "source": [
        "best_forest_model = forest_search.best_estimator_"
      ],
      "metadata": {
        "id": "Bgp8ivJ9QZ-e"
      },
      "execution_count": 38,
      "outputs": []
    },
    {
      "cell_type": "markdown",
      "source": [
        "**№4.3** Осуществить фильтрацию признаков"
      ],
      "metadata": {
        "id": "775QqXNlOQZn"
      }
    },
    {
      "cell_type": "code",
      "source": [
        "features_sort = sorted(zip(x.columns, best_forest_model.feature_importances_), key=lambda x: x[1], reverse=True)\n",
        "features_sort"
      ],
      "metadata": {
        "colab": {
          "base_uri": "https://localhost:8080/"
        },
        "id": "rkyqhZSaOVmw",
        "outputId": "3a439cff-915d-4d51-bb4e-6ba41c064204"
      },
      "execution_count": 95,
      "outputs": [
        {
          "output_type": "execute_result",
          "data": {
            "text/plain": [
              "[('yr', 0.365364769607241),\n",
              " ('casual', 0.19326210971855912),\n",
              " ('temp', 0.12186951826535772),\n",
              " ('atemp', 0.08717209308167301),\n",
              " ('hum', 0.0550091552887824),\n",
              " ('mnth', 0.045213354672329835),\n",
              " ('season', 0.04099701809738026),\n",
              " ('windspeed', 0.03805009901970995),\n",
              " ('weekday', 0.02767161471887744),\n",
              " ('weathersit', 0.013107301936329105),\n",
              " ('workingday', 0.011031508716939418),\n",
              " ('holiday', 0.0012514568768209034)]"
            ]
          },
          "metadata": {},
          "execution_count": 95
        }
      ]
    },
    {
      "cell_type": "code",
      "source": [
        "features_new_forest = [key for key, val in features_sort if val > 0.05]\n",
        "features_new_forest"
      ],
      "metadata": {
        "colab": {
          "base_uri": "https://localhost:8080/"
        },
        "id": "PD1dlnYDQ1mU",
        "outputId": "91019511-3c90-4ca8-8bc1-a42014827a99"
      },
      "execution_count": 96,
      "outputs": [
        {
          "output_type": "execute_result",
          "data": {
            "text/plain": [
              "['yr', 'casual', 'temp', 'atemp', 'hum']"
            ]
          },
          "metadata": {},
          "execution_count": 96
        }
      ]
    },
    {
      "cell_type": "markdown",
      "source": [
        "**№4.4** Подобрать лучшую модель с использованием `GridSearchCV` на обучающей выборке с отфильтрованными признаками"
      ],
      "metadata": {
        "id": "JQtrKH_2OV85"
      }
    },
    {
      "cell_type": "code",
      "source": [
        "x_train_filtered_forest = x_train[features_new_forest]\n",
        "x_test_filtered_forest = x_test[features_new_forest]"
      ],
      "metadata": {
        "id": "OGfC-5B0ObYO"
      },
      "execution_count": 97,
      "outputs": []
    },
    {
      "cell_type": "code",
      "source": [
        "forest_search_filter = GridSearchCV(forest_model, forest_grid, cv = 5)\n",
        "forest_search_filter.fit(x_train_filtered_forest, y_train)"
      ],
      "metadata": {
        "colab": {
          "base_uri": "https://localhost:8080/",
          "height": 118
        },
        "id": "Vavb-HdSQ9H2",
        "outputId": "db420b26-cbe5-4528-c438-b14295864f1f"
      },
      "execution_count": 62,
      "outputs": [
        {
          "output_type": "execute_result",
          "data": {
            "text/plain": [
              "GridSearchCV(cv=5, estimator=RandomForestClassifier(),\n",
              "             param_grid={'max_depth': range(1, 12),\n",
              "                         'n_estimators': range(10, 151, 10)})"
            ],
            "text/html": [
              "<style>#sk-container-id-6 {color: black;background-color: white;}#sk-container-id-6 pre{padding: 0;}#sk-container-id-6 div.sk-toggleable {background-color: white;}#sk-container-id-6 label.sk-toggleable__label {cursor: pointer;display: block;width: 100%;margin-bottom: 0;padding: 0.3em;box-sizing: border-box;text-align: center;}#sk-container-id-6 label.sk-toggleable__label-arrow:before {content: \"▸\";float: left;margin-right: 0.25em;color: #696969;}#sk-container-id-6 label.sk-toggleable__label-arrow:hover:before {color: black;}#sk-container-id-6 div.sk-estimator:hover label.sk-toggleable__label-arrow:before {color: black;}#sk-container-id-6 div.sk-toggleable__content {max-height: 0;max-width: 0;overflow: hidden;text-align: left;background-color: #f0f8ff;}#sk-container-id-6 div.sk-toggleable__content pre {margin: 0.2em;color: black;border-radius: 0.25em;background-color: #f0f8ff;}#sk-container-id-6 input.sk-toggleable__control:checked~div.sk-toggleable__content {max-height: 200px;max-width: 100%;overflow: auto;}#sk-container-id-6 input.sk-toggleable__control:checked~label.sk-toggleable__label-arrow:before {content: \"▾\";}#sk-container-id-6 div.sk-estimator input.sk-toggleable__control:checked~label.sk-toggleable__label {background-color: #d4ebff;}#sk-container-id-6 div.sk-label input.sk-toggleable__control:checked~label.sk-toggleable__label {background-color: #d4ebff;}#sk-container-id-6 input.sk-hidden--visually {border: 0;clip: rect(1px 1px 1px 1px);clip: rect(1px, 1px, 1px, 1px);height: 1px;margin: -1px;overflow: hidden;padding: 0;position: absolute;width: 1px;}#sk-container-id-6 div.sk-estimator {font-family: monospace;background-color: #f0f8ff;border: 1px dotted black;border-radius: 0.25em;box-sizing: border-box;margin-bottom: 0.5em;}#sk-container-id-6 div.sk-estimator:hover {background-color: #d4ebff;}#sk-container-id-6 div.sk-parallel-item::after {content: \"\";width: 100%;border-bottom: 1px solid gray;flex-grow: 1;}#sk-container-id-6 div.sk-label:hover label.sk-toggleable__label {background-color: #d4ebff;}#sk-container-id-6 div.sk-serial::before {content: \"\";position: absolute;border-left: 1px solid gray;box-sizing: border-box;top: 0;bottom: 0;left: 50%;z-index: 0;}#sk-container-id-6 div.sk-serial {display: flex;flex-direction: column;align-items: center;background-color: white;padding-right: 0.2em;padding-left: 0.2em;position: relative;}#sk-container-id-6 div.sk-item {position: relative;z-index: 1;}#sk-container-id-6 div.sk-parallel {display: flex;align-items: stretch;justify-content: center;background-color: white;position: relative;}#sk-container-id-6 div.sk-item::before, #sk-container-id-6 div.sk-parallel-item::before {content: \"\";position: absolute;border-left: 1px solid gray;box-sizing: border-box;top: 0;bottom: 0;left: 50%;z-index: -1;}#sk-container-id-6 div.sk-parallel-item {display: flex;flex-direction: column;z-index: 1;position: relative;background-color: white;}#sk-container-id-6 div.sk-parallel-item:first-child::after {align-self: flex-end;width: 50%;}#sk-container-id-6 div.sk-parallel-item:last-child::after {align-self: flex-start;width: 50%;}#sk-container-id-6 div.sk-parallel-item:only-child::after {width: 0;}#sk-container-id-6 div.sk-dashed-wrapped {border: 1px dashed gray;margin: 0 0.4em 0.5em 0.4em;box-sizing: border-box;padding-bottom: 0.4em;background-color: white;}#sk-container-id-6 div.sk-label label {font-family: monospace;font-weight: bold;display: inline-block;line-height: 1.2em;}#sk-container-id-6 div.sk-label-container {text-align: center;}#sk-container-id-6 div.sk-container {/* jupyter's `normalize.less` sets `[hidden] { display: none; }` but bootstrap.min.css set `[hidden] { display: none !important; }` so we also need the `!important` here to be able to override the default hidden behavior on the sphinx rendered scikit-learn.org. See: https://github.com/scikit-learn/scikit-learn/issues/21755 */display: inline-block !important;position: relative;}#sk-container-id-6 div.sk-text-repr-fallback {display: none;}</style><div id=\"sk-container-id-6\" class=\"sk-top-container\"><div class=\"sk-text-repr-fallback\"><pre>GridSearchCV(cv=5, estimator=RandomForestClassifier(),\n",
              "             param_grid={&#x27;max_depth&#x27;: range(1, 12),\n",
              "                         &#x27;n_estimators&#x27;: range(10, 151, 10)})</pre><b>In a Jupyter environment, please rerun this cell to show the HTML representation or trust the notebook. <br />On GitHub, the HTML representation is unable to render, please try loading this page with nbviewer.org.</b></div><div class=\"sk-container\" hidden><div class=\"sk-item sk-dashed-wrapped\"><div class=\"sk-label-container\"><div class=\"sk-label sk-toggleable\"><input class=\"sk-toggleable__control sk-hidden--visually\" id=\"sk-estimator-id-16\" type=\"checkbox\" ><label for=\"sk-estimator-id-16\" class=\"sk-toggleable__label sk-toggleable__label-arrow\">GridSearchCV</label><div class=\"sk-toggleable__content\"><pre>GridSearchCV(cv=5, estimator=RandomForestClassifier(),\n",
              "             param_grid={&#x27;max_depth&#x27;: range(1, 12),\n",
              "                         &#x27;n_estimators&#x27;: range(10, 151, 10)})</pre></div></div></div><div class=\"sk-parallel\"><div class=\"sk-parallel-item\"><div class=\"sk-item\"><div class=\"sk-label-container\"><div class=\"sk-label sk-toggleable\"><input class=\"sk-toggleable__control sk-hidden--visually\" id=\"sk-estimator-id-17\" type=\"checkbox\" ><label for=\"sk-estimator-id-17\" class=\"sk-toggleable__label sk-toggleable__label-arrow\">estimator: RandomForestClassifier</label><div class=\"sk-toggleable__content\"><pre>RandomForestClassifier()</pre></div></div></div><div class=\"sk-serial\"><div class=\"sk-item\"><div class=\"sk-estimator sk-toggleable\"><input class=\"sk-toggleable__control sk-hidden--visually\" id=\"sk-estimator-id-18\" type=\"checkbox\" ><label for=\"sk-estimator-id-18\" class=\"sk-toggleable__label sk-toggleable__label-arrow\">RandomForestClassifier</label><div class=\"sk-toggleable__content\"><pre>RandomForestClassifier()</pre></div></div></div></div></div></div></div></div></div></div>"
            ]
          },
          "metadata": {},
          "execution_count": 62
        }
      ]
    },
    {
      "cell_type": "markdown",
      "source": [
        "**№4.5** Вывести полученные гиперпараметры лучшей модели случайного леса"
      ],
      "metadata": {
        "id": "tPc4YRMtObt9"
      }
    },
    {
      "cell_type": "code",
      "source": [
        "forest_search_filter.best_params_"
      ],
      "metadata": {
        "colab": {
          "base_uri": "https://localhost:8080/"
        },
        "id": "VS_wQLIjOfzZ",
        "outputId": "519d034b-5566-42b4-d47c-fa7a6dea7a6b"
      },
      "execution_count": 63,
      "outputs": [
        {
          "output_type": "execute_result",
          "data": {
            "text/plain": [
              "{'max_depth': 11, 'n_estimators': 60}"
            ]
          },
          "metadata": {},
          "execution_count": 63
        }
      ]
    },
    {
      "cell_type": "code",
      "source": [
        "best_forest_filter_model = forest_search_filter.best_estimator_"
      ],
      "metadata": {
        "id": "YjRVUBXpRYpf"
      },
      "execution_count": 64,
      "outputs": []
    },
    {
      "cell_type": "markdown",
      "source": [
        "**№4.6** Сравнить метрики до и после фильтрации признаков лучших моделей"
      ],
      "metadata": {
        "id": "FNMz3Q_IOgGj"
      }
    },
    {
      "cell_type": "markdown",
      "source": [
        "До фильтрации"
      ],
      "metadata": {
        "id": "hQRXV5BlSP8t"
      }
    },
    {
      "cell_type": "markdown",
      "source": [
        "Для тренировочной выборки"
      ],
      "metadata": {
        "id": "xCzTUibvTZI4"
      }
    },
    {
      "cell_type": "code",
      "source": [
        "print(f'Accuracy:{accuracy_score(y_train, best_forest_model.predict(x_train))}')\n",
        "print(f'Precision:{precision_score(y_train, best_forest_model.predict(x_train))}')\n",
        "print(f'Recall:{recall_score(y_train, best_forest_model.predict(x_train))}')\n",
        "print(f'F-measure:{f1_score(y_train, best_forest_model.predict(x_train))}')"
      ],
      "metadata": {
        "id": "Zka0YXdRUDu9",
        "colab": {
          "base_uri": "https://localhost:8080/"
        },
        "outputId": "c25438d3-070e-4ae9-c77e-3572e093e560"
      },
      "execution_count": 46,
      "outputs": [
        {
          "output_type": "stream",
          "name": "stdout",
          "text": [
            "Accuracy:1.0\n",
            "Precision:1.0\n",
            "Recall:1.0\n",
            "F-measure:1.0\n"
          ]
        }
      ]
    },
    {
      "cell_type": "markdown",
      "source": [
        "Для тестовой выборки"
      ],
      "metadata": {
        "id": "HS-bjKsMTeZx"
      }
    },
    {
      "cell_type": "code",
      "source": [
        "print(f'Accuracy:{accuracy_score(y_test, best_forest_model.predict(x_test))}')\n",
        "print(f'Precision:{precision_score(y_test, best_forest_model.predict(x_test))}')\n",
        "print(f'Recall:{recall_score(y_test, best_forest_model.predict(x_test))}')\n",
        "print(f'F-measure:{f1_score(y_test, best_forest_model.predict(x_test))}')"
      ],
      "metadata": {
        "colab": {
          "base_uri": "https://localhost:8080/"
        },
        "id": "6yg1I6XgOlTF",
        "outputId": "d454f4de-30ec-4871-ef73-c36629b7a70f"
      },
      "execution_count": 47,
      "outputs": [
        {
          "output_type": "stream",
          "name": "stdout",
          "text": [
            "Accuracy:0.9344262295081968\n",
            "Precision:0.875\n",
            "Recall:0.875\n",
            "F-measure:0.875\n"
          ]
        }
      ]
    },
    {
      "cell_type": "markdown",
      "source": [
        "После фильтрации"
      ],
      "metadata": {
        "id": "a7wRa82USRkb"
      }
    },
    {
      "cell_type": "markdown",
      "source": [
        "Для тренировочной выборки"
      ],
      "metadata": {
        "id": "nE5-CNzHTaTq"
      }
    },
    {
      "cell_type": "code",
      "source": [
        "print(f'Accuracy:{accuracy_score(y_train, best_forest_filter_model.predict(x_train_filtered_forest))}')\n",
        "print(f'Precision:{precision_score(y_train, best_forest_filter_model.predict(x_train_filtered_forest))}')\n",
        "print(f'Recall:{recall_score(y_train, best_forest_filter_model.predict(x_train_filtered_forest))}')\n",
        "print(f'F-measure:{f1_score(y_train, best_forest_filter_model.predict(x_train_filtered_forest))}')"
      ],
      "metadata": {
        "id": "fHh4VYhDT76n",
        "colab": {
          "base_uri": "https://localhost:8080/"
        },
        "outputId": "6c63a22f-dccb-4eb2-9bcf-d77c4c030a15"
      },
      "execution_count": 65,
      "outputs": [
        {
          "output_type": "stream",
          "name": "stdout",
          "text": [
            "Accuracy:1.0\n",
            "Precision:1.0\n",
            "Recall:1.0\n",
            "F-measure:1.0\n"
          ]
        }
      ]
    },
    {
      "cell_type": "markdown",
      "source": [
        "Для тестовой выборки"
      ],
      "metadata": {
        "id": "AfpkNBVeTfrr"
      }
    },
    {
      "cell_type": "code",
      "source": [
        "print(f'Accuracy:{accuracy_score(y_test, best_forest_filter_model.predict(x_test_filtered_forest))}')\n",
        "print(f'Precision:{precision_score(y_test, best_forest_filter_model.predict(x_test_filtered_forest))}')\n",
        "print(f'Recall:{recall_score(y_test, best_forest_filter_model.predict(x_test_filtered_forest))}')\n",
        "print(f'F-measure:{f1_score(y_test, best_forest_filter_model.predict(x_test_filtered_forest))}')"
      ],
      "metadata": {
        "colab": {
          "base_uri": "https://localhost:8080/"
        },
        "id": "GG24T1-NRfHw",
        "outputId": "693a71cb-f5da-4e93-f1a9-7cf838a5c3cc"
      },
      "execution_count": 66,
      "outputs": [
        {
          "output_type": "stream",
          "name": "stdout",
          "text": [
            "Accuracy:0.9180327868852459\n",
            "Precision:0.851063829787234\n",
            "Recall:0.8333333333333334\n",
            "F-measure:0.8421052631578947\n"
          ]
        }
      ]
    },
    {
      "cell_type": "markdown",
      "source": [
        "Метрики после фильтрации признаков для тренировочной выборки не изменились - для тестовой - ухудшились"
      ],
      "metadata": {
        "id": "4aA-r2SLSJgv"
      }
    },
    {
      "cell_type": "markdown",
      "source": [
        "# Метод ближайших соседей"
      ],
      "metadata": {
        "id": "GeexlBTWOlvk"
      }
    },
    {
      "cell_type": "markdown",
      "source": [
        "**№5.1** С использованием `GridSearchCV` осуществить подбор гиперпараметра `KNeighborsClassifier` (`n_neighbors`)"
      ],
      "metadata": {
        "id": "td7zVQZWOp_U"
      }
    },
    {
      "cell_type": "code",
      "source": [
        "knn_model = KNeighborsClassifier()"
      ],
      "metadata": {
        "id": "BJaydIhNvi8f"
      },
      "execution_count": 52,
      "outputs": []
    },
    {
      "cell_type": "code",
      "source": [
        "knn_grid = {\n",
        "    'n_neighbors': range(2, 21),\n",
        "}"
      ],
      "metadata": {
        "id": "QqtCi9Y0OxHf"
      },
      "execution_count": 53,
      "outputs": []
    },
    {
      "cell_type": "code",
      "source": [
        "knn_search = GridSearchCV(knn_model, knn_grid, cv = 5)\n",
        "knn_search.fit(x_train, y_train)"
      ],
      "metadata": {
        "id": "h8WHGlyYVu-4",
        "colab": {
          "base_uri": "https://localhost:8080/",
          "height": 118
        },
        "outputId": "369400d6-4740-42b9-c9ad-59efc3b4cc17"
      },
      "execution_count": 54,
      "outputs": [
        {
          "output_type": "execute_result",
          "data": {
            "text/plain": [
              "GridSearchCV(cv=5, estimator=KNeighborsClassifier(),\n",
              "             param_grid={'n_neighbors': range(2, 21)})"
            ],
            "text/html": [
              "<style>#sk-container-id-5 {color: black;background-color: white;}#sk-container-id-5 pre{padding: 0;}#sk-container-id-5 div.sk-toggleable {background-color: white;}#sk-container-id-5 label.sk-toggleable__label {cursor: pointer;display: block;width: 100%;margin-bottom: 0;padding: 0.3em;box-sizing: border-box;text-align: center;}#sk-container-id-5 label.sk-toggleable__label-arrow:before {content: \"▸\";float: left;margin-right: 0.25em;color: #696969;}#sk-container-id-5 label.sk-toggleable__label-arrow:hover:before {color: black;}#sk-container-id-5 div.sk-estimator:hover label.sk-toggleable__label-arrow:before {color: black;}#sk-container-id-5 div.sk-toggleable__content {max-height: 0;max-width: 0;overflow: hidden;text-align: left;background-color: #f0f8ff;}#sk-container-id-5 div.sk-toggleable__content pre {margin: 0.2em;color: black;border-radius: 0.25em;background-color: #f0f8ff;}#sk-container-id-5 input.sk-toggleable__control:checked~div.sk-toggleable__content {max-height: 200px;max-width: 100%;overflow: auto;}#sk-container-id-5 input.sk-toggleable__control:checked~label.sk-toggleable__label-arrow:before {content: \"▾\";}#sk-container-id-5 div.sk-estimator input.sk-toggleable__control:checked~label.sk-toggleable__label {background-color: #d4ebff;}#sk-container-id-5 div.sk-label input.sk-toggleable__control:checked~label.sk-toggleable__label {background-color: #d4ebff;}#sk-container-id-5 input.sk-hidden--visually {border: 0;clip: rect(1px 1px 1px 1px);clip: rect(1px, 1px, 1px, 1px);height: 1px;margin: -1px;overflow: hidden;padding: 0;position: absolute;width: 1px;}#sk-container-id-5 div.sk-estimator {font-family: monospace;background-color: #f0f8ff;border: 1px dotted black;border-radius: 0.25em;box-sizing: border-box;margin-bottom: 0.5em;}#sk-container-id-5 div.sk-estimator:hover {background-color: #d4ebff;}#sk-container-id-5 div.sk-parallel-item::after {content: \"\";width: 100%;border-bottom: 1px solid gray;flex-grow: 1;}#sk-container-id-5 div.sk-label:hover label.sk-toggleable__label {background-color: #d4ebff;}#sk-container-id-5 div.sk-serial::before {content: \"\";position: absolute;border-left: 1px solid gray;box-sizing: border-box;top: 0;bottom: 0;left: 50%;z-index: 0;}#sk-container-id-5 div.sk-serial {display: flex;flex-direction: column;align-items: center;background-color: white;padding-right: 0.2em;padding-left: 0.2em;position: relative;}#sk-container-id-5 div.sk-item {position: relative;z-index: 1;}#sk-container-id-5 div.sk-parallel {display: flex;align-items: stretch;justify-content: center;background-color: white;position: relative;}#sk-container-id-5 div.sk-item::before, #sk-container-id-5 div.sk-parallel-item::before {content: \"\";position: absolute;border-left: 1px solid gray;box-sizing: border-box;top: 0;bottom: 0;left: 50%;z-index: -1;}#sk-container-id-5 div.sk-parallel-item {display: flex;flex-direction: column;z-index: 1;position: relative;background-color: white;}#sk-container-id-5 div.sk-parallel-item:first-child::after {align-self: flex-end;width: 50%;}#sk-container-id-5 div.sk-parallel-item:last-child::after {align-self: flex-start;width: 50%;}#sk-container-id-5 div.sk-parallel-item:only-child::after {width: 0;}#sk-container-id-5 div.sk-dashed-wrapped {border: 1px dashed gray;margin: 0 0.4em 0.5em 0.4em;box-sizing: border-box;padding-bottom: 0.4em;background-color: white;}#sk-container-id-5 div.sk-label label {font-family: monospace;font-weight: bold;display: inline-block;line-height: 1.2em;}#sk-container-id-5 div.sk-label-container {text-align: center;}#sk-container-id-5 div.sk-container {/* jupyter's `normalize.less` sets `[hidden] { display: none; }` but bootstrap.min.css set `[hidden] { display: none !important; }` so we also need the `!important` here to be able to override the default hidden behavior on the sphinx rendered scikit-learn.org. See: https://github.com/scikit-learn/scikit-learn/issues/21755 */display: inline-block !important;position: relative;}#sk-container-id-5 div.sk-text-repr-fallback {display: none;}</style><div id=\"sk-container-id-5\" class=\"sk-top-container\"><div class=\"sk-text-repr-fallback\"><pre>GridSearchCV(cv=5, estimator=KNeighborsClassifier(),\n",
              "             param_grid={&#x27;n_neighbors&#x27;: range(2, 21)})</pre><b>In a Jupyter environment, please rerun this cell to show the HTML representation or trust the notebook. <br />On GitHub, the HTML representation is unable to render, please try loading this page with nbviewer.org.</b></div><div class=\"sk-container\" hidden><div class=\"sk-item sk-dashed-wrapped\"><div class=\"sk-label-container\"><div class=\"sk-label sk-toggleable\"><input class=\"sk-toggleable__control sk-hidden--visually\" id=\"sk-estimator-id-13\" type=\"checkbox\" ><label for=\"sk-estimator-id-13\" class=\"sk-toggleable__label sk-toggleable__label-arrow\">GridSearchCV</label><div class=\"sk-toggleable__content\"><pre>GridSearchCV(cv=5, estimator=KNeighborsClassifier(),\n",
              "             param_grid={&#x27;n_neighbors&#x27;: range(2, 21)})</pre></div></div></div><div class=\"sk-parallel\"><div class=\"sk-parallel-item\"><div class=\"sk-item\"><div class=\"sk-label-container\"><div class=\"sk-label sk-toggleable\"><input class=\"sk-toggleable__control sk-hidden--visually\" id=\"sk-estimator-id-14\" type=\"checkbox\" ><label for=\"sk-estimator-id-14\" class=\"sk-toggleable__label sk-toggleable__label-arrow\">estimator: KNeighborsClassifier</label><div class=\"sk-toggleable__content\"><pre>KNeighborsClassifier()</pre></div></div></div><div class=\"sk-serial\"><div class=\"sk-item\"><div class=\"sk-estimator sk-toggleable\"><input class=\"sk-toggleable__control sk-hidden--visually\" id=\"sk-estimator-id-15\" type=\"checkbox\" ><label for=\"sk-estimator-id-15\" class=\"sk-toggleable__label sk-toggleable__label-arrow\">KNeighborsClassifier</label><div class=\"sk-toggleable__content\"><pre>KNeighborsClassifier()</pre></div></div></div></div></div></div></div></div></div></div>"
            ]
          },
          "metadata": {},
          "execution_count": 54
        }
      ]
    },
    {
      "cell_type": "markdown",
      "source": [
        "**№5.2** Вывести значения гиперпараметра и метрик для наилучшей модели"
      ],
      "metadata": {
        "id": "Re0H9JmKOxaT"
      }
    },
    {
      "cell_type": "code",
      "source": [
        "knn_search.best_params_"
      ],
      "metadata": {
        "id": "Xj4T-dCrO2Ca",
        "colab": {
          "base_uri": "https://localhost:8080/"
        },
        "outputId": "12fe91cc-acff-4fbd-a04d-b617e21a9770"
      },
      "execution_count": 67,
      "outputs": [
        {
          "output_type": "execute_result",
          "data": {
            "text/plain": [
              "{'n_neighbors': 20}"
            ]
          },
          "metadata": {},
          "execution_count": 67
        }
      ]
    },
    {
      "cell_type": "code",
      "source": [
        "best_knn_model = knn_search.best_estimator_"
      ],
      "metadata": {
        "id": "w0neXEGIWCiP"
      },
      "execution_count": 68,
      "outputs": []
    },
    {
      "cell_type": "markdown",
      "source": [
        "Для тренировочной выборки"
      ],
      "metadata": {
        "id": "Ufo7qMU-v1qA"
      }
    },
    {
      "cell_type": "code",
      "source": [
        "print(f'Accuracy:{accuracy_score(y_train, best_knn_model.predict(x_train))}')\n",
        "print(f'Precision:{precision_score(y_train, best_knn_model.predict(x_train))}')\n",
        "print(f'Recall:{recall_score(y_train, best_knn_model.predict(x_train))}')\n",
        "print(f'F-measure:{f1_score(y_train, best_knn_model.predict(x_train))}')"
      ],
      "metadata": {
        "colab": {
          "base_uri": "https://localhost:8080/"
        },
        "id": "RQkKIP1-vwXS",
        "outputId": "01f00733-d06d-4cb9-b4b7-71d10dd78c31"
      },
      "execution_count": 69,
      "outputs": [
        {
          "output_type": "stream",
          "name": "stdout",
          "text": [
            "Accuracy:0.9397810218978102\n",
            "Precision:0.9127906976744186\n",
            "Recall:0.8971428571428571\n",
            "F-measure:0.9048991354466859\n"
          ]
        }
      ]
    },
    {
      "cell_type": "markdown",
      "source": [
        "Для тестовой выборки"
      ],
      "metadata": {
        "id": "X0m7dxU5wBIG"
      }
    },
    {
      "cell_type": "code",
      "source": [
        "print(f'Accuracy:{accuracy_score(y_test, best_knn_model.predict(x_test))}')\n",
        "print(f'Precision:{precision_score(y_test, best_knn_model.predict(x_test))}')\n",
        "print(f'Recall:{recall_score(y_test, best_knn_model.predict(x_test))}')\n",
        "print(f'F-measure:{f1_score(y_test, best_knn_model.predict(x_test))}')"
      ],
      "metadata": {
        "colab": {
          "base_uri": "https://localhost:8080/"
        },
        "id": "JSKaGH4mv_Th",
        "outputId": "1982f669-9b06-4cc9-fefc-7ebfc7121f86"
      },
      "execution_count": 70,
      "outputs": [
        {
          "output_type": "stream",
          "name": "stdout",
          "text": [
            "Accuracy:0.9180327868852459\n",
            "Precision:0.851063829787234\n",
            "Recall:0.8333333333333334\n",
            "F-measure:0.8421052631578947\n"
          ]
        }
      ]
    },
    {
      "cell_type": "markdown",
      "source": [
        "**№5.3** Осуществить фильтрацию признаков"
      ],
      "metadata": {
        "id": "oFn6KBK-O2a0"
      }
    },
    {
      "cell_type": "markdown",
      "source": [
        "'KNeighborsClassifier' object has no attribute 'feature_importances_' поэтому возьмем признаки, полученные при фильтрации для `RandomForestClassifier`"
      ],
      "metadata": {
        "id": "PQyXqv_LxtuC"
      }
    },
    {
      "cell_type": "code",
      "source": [
        "x_train.corr()"
      ],
      "metadata": {
        "colab": {
          "base_uri": "https://localhost:8080/",
          "height": 426
        },
        "id": "_KSDshgDS4W2",
        "outputId": "f9006a72-92c2-48b5-e30e-628aa23ab0b5"
      },
      "execution_count": 102,
      "outputs": [
        {
          "output_type": "execute_result",
          "data": {
            "text/plain": [
              "              season        yr      mnth   holiday   weekday  workingday  \\\n",
              "season      1.000000 -0.013320  0.830982 -0.028850 -0.027535    0.026397   \n",
              "yr         -0.013320  1.000000 -0.041268  0.009872 -0.014600    0.018143   \n",
              "mnth        0.830982 -0.041268  1.000000  0.016612 -0.016513   -0.002794   \n",
              "holiday    -0.028850  0.009872  0.016612  1.000000 -0.091465   -0.260131   \n",
              "weekday    -0.027535 -0.014600 -0.016513 -0.091465  1.000000    0.024343   \n",
              "workingday  0.026397  0.018143 -0.002794 -0.260131  0.024343    1.000000   \n",
              "weathersit  0.024633 -0.068686  0.038425 -0.033581  0.027050    0.077913   \n",
              "temp        0.318477  0.064717  0.209192 -0.062714 -0.033850    0.073123   \n",
              "atemp       0.325455  0.061637  0.214966 -0.066230 -0.042888    0.068822   \n",
              "hum         0.179243 -0.093885  0.196592 -0.031144 -0.040536    0.036509   \n",
              "windspeed  -0.258819 -0.033768 -0.219949  0.044381 -0.002891   -0.012440   \n",
              "casual      0.189229  0.262045  0.104958  0.009413  0.051889   -0.514129   \n",
              "\n",
              "            weathersit      temp     atemp       hum  windspeed    casual  \n",
              "season        0.024633  0.318477  0.325455  0.179243  -0.258819  0.189229  \n",
              "yr           -0.068686  0.064717  0.061637 -0.093885  -0.033768  0.262045  \n",
              "mnth          0.038425  0.209192  0.214966  0.196592  -0.219949  0.104958  \n",
              "holiday      -0.033581 -0.062714 -0.066230 -0.031144   0.044381  0.009413  \n",
              "weekday       0.027050 -0.033850 -0.042888 -0.040536  -0.002891  0.051889  \n",
              "workingday    0.077913  0.073123  0.068822  0.036509  -0.012440 -0.514129  \n",
              "weathersit    1.000000 -0.173049 -0.174411  0.594902   0.033285 -0.293329  \n",
              "temp         -0.173049  1.000000  0.990087  0.083162  -0.161077  0.523887  \n",
              "atemp        -0.174411  0.990087  1.000000  0.096081  -0.186430  0.525445  \n",
              "hum           0.594902  0.083162  0.096081  1.000000  -0.222775 -0.102482  \n",
              "windspeed     0.033285 -0.161077 -0.186430 -0.222775   1.000000 -0.174083  \n",
              "casual       -0.293329  0.523887  0.525445 -0.102482  -0.174083  1.000000  "
            ],
            "text/html": [
              "\n",
              "  <div id=\"df-53a69c0f-fdc4-4ff4-84bd-1c8c7136ea84\" class=\"colab-df-container\">\n",
              "    <div>\n",
              "<style scoped>\n",
              "    .dataframe tbody tr th:only-of-type {\n",
              "        vertical-align: middle;\n",
              "    }\n",
              "\n",
              "    .dataframe tbody tr th {\n",
              "        vertical-align: top;\n",
              "    }\n",
              "\n",
              "    .dataframe thead th {\n",
              "        text-align: right;\n",
              "    }\n",
              "</style>\n",
              "<table border=\"1\" class=\"dataframe\">\n",
              "  <thead>\n",
              "    <tr style=\"text-align: right;\">\n",
              "      <th></th>\n",
              "      <th>season</th>\n",
              "      <th>yr</th>\n",
              "      <th>mnth</th>\n",
              "      <th>holiday</th>\n",
              "      <th>weekday</th>\n",
              "      <th>workingday</th>\n",
              "      <th>weathersit</th>\n",
              "      <th>temp</th>\n",
              "      <th>atemp</th>\n",
              "      <th>hum</th>\n",
              "      <th>windspeed</th>\n",
              "      <th>casual</th>\n",
              "    </tr>\n",
              "  </thead>\n",
              "  <tbody>\n",
              "    <tr>\n",
              "      <th>season</th>\n",
              "      <td>1.000000</td>\n",
              "      <td>-0.013320</td>\n",
              "      <td>0.830982</td>\n",
              "      <td>-0.028850</td>\n",
              "      <td>-0.027535</td>\n",
              "      <td>0.026397</td>\n",
              "      <td>0.024633</td>\n",
              "      <td>0.318477</td>\n",
              "      <td>0.325455</td>\n",
              "      <td>0.179243</td>\n",
              "      <td>-0.258819</td>\n",
              "      <td>0.189229</td>\n",
              "    </tr>\n",
              "    <tr>\n",
              "      <th>yr</th>\n",
              "      <td>-0.013320</td>\n",
              "      <td>1.000000</td>\n",
              "      <td>-0.041268</td>\n",
              "      <td>0.009872</td>\n",
              "      <td>-0.014600</td>\n",
              "      <td>0.018143</td>\n",
              "      <td>-0.068686</td>\n",
              "      <td>0.064717</td>\n",
              "      <td>0.061637</td>\n",
              "      <td>-0.093885</td>\n",
              "      <td>-0.033768</td>\n",
              "      <td>0.262045</td>\n",
              "    </tr>\n",
              "    <tr>\n",
              "      <th>mnth</th>\n",
              "      <td>0.830982</td>\n",
              "      <td>-0.041268</td>\n",
              "      <td>1.000000</td>\n",
              "      <td>0.016612</td>\n",
              "      <td>-0.016513</td>\n",
              "      <td>-0.002794</td>\n",
              "      <td>0.038425</td>\n",
              "      <td>0.209192</td>\n",
              "      <td>0.214966</td>\n",
              "      <td>0.196592</td>\n",
              "      <td>-0.219949</td>\n",
              "      <td>0.104958</td>\n",
              "    </tr>\n",
              "    <tr>\n",
              "      <th>holiday</th>\n",
              "      <td>-0.028850</td>\n",
              "      <td>0.009872</td>\n",
              "      <td>0.016612</td>\n",
              "      <td>1.000000</td>\n",
              "      <td>-0.091465</td>\n",
              "      <td>-0.260131</td>\n",
              "      <td>-0.033581</td>\n",
              "      <td>-0.062714</td>\n",
              "      <td>-0.066230</td>\n",
              "      <td>-0.031144</td>\n",
              "      <td>0.044381</td>\n",
              "      <td>0.009413</td>\n",
              "    </tr>\n",
              "    <tr>\n",
              "      <th>weekday</th>\n",
              "      <td>-0.027535</td>\n",
              "      <td>-0.014600</td>\n",
              "      <td>-0.016513</td>\n",
              "      <td>-0.091465</td>\n",
              "      <td>1.000000</td>\n",
              "      <td>0.024343</td>\n",
              "      <td>0.027050</td>\n",
              "      <td>-0.033850</td>\n",
              "      <td>-0.042888</td>\n",
              "      <td>-0.040536</td>\n",
              "      <td>-0.002891</td>\n",
              "      <td>0.051889</td>\n",
              "    </tr>\n",
              "    <tr>\n",
              "      <th>workingday</th>\n",
              "      <td>0.026397</td>\n",
              "      <td>0.018143</td>\n",
              "      <td>-0.002794</td>\n",
              "      <td>-0.260131</td>\n",
              "      <td>0.024343</td>\n",
              "      <td>1.000000</td>\n",
              "      <td>0.077913</td>\n",
              "      <td>0.073123</td>\n",
              "      <td>0.068822</td>\n",
              "      <td>0.036509</td>\n",
              "      <td>-0.012440</td>\n",
              "      <td>-0.514129</td>\n",
              "    </tr>\n",
              "    <tr>\n",
              "      <th>weathersit</th>\n",
              "      <td>0.024633</td>\n",
              "      <td>-0.068686</td>\n",
              "      <td>0.038425</td>\n",
              "      <td>-0.033581</td>\n",
              "      <td>0.027050</td>\n",
              "      <td>0.077913</td>\n",
              "      <td>1.000000</td>\n",
              "      <td>-0.173049</td>\n",
              "      <td>-0.174411</td>\n",
              "      <td>0.594902</td>\n",
              "      <td>0.033285</td>\n",
              "      <td>-0.293329</td>\n",
              "    </tr>\n",
              "    <tr>\n",
              "      <th>temp</th>\n",
              "      <td>0.318477</td>\n",
              "      <td>0.064717</td>\n",
              "      <td>0.209192</td>\n",
              "      <td>-0.062714</td>\n",
              "      <td>-0.033850</td>\n",
              "      <td>0.073123</td>\n",
              "      <td>-0.173049</td>\n",
              "      <td>1.000000</td>\n",
              "      <td>0.990087</td>\n",
              "      <td>0.083162</td>\n",
              "      <td>-0.161077</td>\n",
              "      <td>0.523887</td>\n",
              "    </tr>\n",
              "    <tr>\n",
              "      <th>atemp</th>\n",
              "      <td>0.325455</td>\n",
              "      <td>0.061637</td>\n",
              "      <td>0.214966</td>\n",
              "      <td>-0.066230</td>\n",
              "      <td>-0.042888</td>\n",
              "      <td>0.068822</td>\n",
              "      <td>-0.174411</td>\n",
              "      <td>0.990087</td>\n",
              "      <td>1.000000</td>\n",
              "      <td>0.096081</td>\n",
              "      <td>-0.186430</td>\n",
              "      <td>0.525445</td>\n",
              "    </tr>\n",
              "    <tr>\n",
              "      <th>hum</th>\n",
              "      <td>0.179243</td>\n",
              "      <td>-0.093885</td>\n",
              "      <td>0.196592</td>\n",
              "      <td>-0.031144</td>\n",
              "      <td>-0.040536</td>\n",
              "      <td>0.036509</td>\n",
              "      <td>0.594902</td>\n",
              "      <td>0.083162</td>\n",
              "      <td>0.096081</td>\n",
              "      <td>1.000000</td>\n",
              "      <td>-0.222775</td>\n",
              "      <td>-0.102482</td>\n",
              "    </tr>\n",
              "    <tr>\n",
              "      <th>windspeed</th>\n",
              "      <td>-0.258819</td>\n",
              "      <td>-0.033768</td>\n",
              "      <td>-0.219949</td>\n",
              "      <td>0.044381</td>\n",
              "      <td>-0.002891</td>\n",
              "      <td>-0.012440</td>\n",
              "      <td>0.033285</td>\n",
              "      <td>-0.161077</td>\n",
              "      <td>-0.186430</td>\n",
              "      <td>-0.222775</td>\n",
              "      <td>1.000000</td>\n",
              "      <td>-0.174083</td>\n",
              "    </tr>\n",
              "    <tr>\n",
              "      <th>casual</th>\n",
              "      <td>0.189229</td>\n",
              "      <td>0.262045</td>\n",
              "      <td>0.104958</td>\n",
              "      <td>0.009413</td>\n",
              "      <td>0.051889</td>\n",
              "      <td>-0.514129</td>\n",
              "      <td>-0.293329</td>\n",
              "      <td>0.523887</td>\n",
              "      <td>0.525445</td>\n",
              "      <td>-0.102482</td>\n",
              "      <td>-0.174083</td>\n",
              "      <td>1.000000</td>\n",
              "    </tr>\n",
              "  </tbody>\n",
              "</table>\n",
              "</div>\n",
              "    <div class=\"colab-df-buttons\">\n",
              "\n",
              "  <div class=\"colab-df-container\">\n",
              "    <button class=\"colab-df-convert\" onclick=\"convertToInteractive('df-53a69c0f-fdc4-4ff4-84bd-1c8c7136ea84')\"\n",
              "            title=\"Convert this dataframe to an interactive table.\"\n",
              "            style=\"display:none;\">\n",
              "\n",
              "  <svg xmlns=\"http://www.w3.org/2000/svg\" height=\"24px\" viewBox=\"0 -960 960 960\">\n",
              "    <path d=\"M120-120v-720h720v720H120Zm60-500h600v-160H180v160Zm220 220h160v-160H400v160Zm0 220h160v-160H400v160ZM180-400h160v-160H180v160Zm440 0h160v-160H620v160ZM180-180h160v-160H180v160Zm440 0h160v-160H620v160Z\"/>\n",
              "  </svg>\n",
              "    </button>\n",
              "\n",
              "  <style>\n",
              "    .colab-df-container {\n",
              "      display:flex;\n",
              "      gap: 12px;\n",
              "    }\n",
              "\n",
              "    .colab-df-convert {\n",
              "      background-color: #E8F0FE;\n",
              "      border: none;\n",
              "      border-radius: 50%;\n",
              "      cursor: pointer;\n",
              "      display: none;\n",
              "      fill: #1967D2;\n",
              "      height: 32px;\n",
              "      padding: 0 0 0 0;\n",
              "      width: 32px;\n",
              "    }\n",
              "\n",
              "    .colab-df-convert:hover {\n",
              "      background-color: #E2EBFA;\n",
              "      box-shadow: 0px 1px 2px rgba(60, 64, 67, 0.3), 0px 1px 3px 1px rgba(60, 64, 67, 0.15);\n",
              "      fill: #174EA6;\n",
              "    }\n",
              "\n",
              "    .colab-df-buttons div {\n",
              "      margin-bottom: 4px;\n",
              "    }\n",
              "\n",
              "    [theme=dark] .colab-df-convert {\n",
              "      background-color: #3B4455;\n",
              "      fill: #D2E3FC;\n",
              "    }\n",
              "\n",
              "    [theme=dark] .colab-df-convert:hover {\n",
              "      background-color: #434B5C;\n",
              "      box-shadow: 0px 1px 3px 1px rgba(0, 0, 0, 0.15);\n",
              "      filter: drop-shadow(0px 1px 2px rgba(0, 0, 0, 0.3));\n",
              "      fill: #FFFFFF;\n",
              "    }\n",
              "  </style>\n",
              "\n",
              "    <script>\n",
              "      const buttonEl =\n",
              "        document.querySelector('#df-53a69c0f-fdc4-4ff4-84bd-1c8c7136ea84 button.colab-df-convert');\n",
              "      buttonEl.style.display =\n",
              "        google.colab.kernel.accessAllowed ? 'block' : 'none';\n",
              "\n",
              "      async function convertToInteractive(key) {\n",
              "        const element = document.querySelector('#df-53a69c0f-fdc4-4ff4-84bd-1c8c7136ea84');\n",
              "        const dataTable =\n",
              "          await google.colab.kernel.invokeFunction('convertToInteractive',\n",
              "                                                    [key], {});\n",
              "        if (!dataTable) return;\n",
              "\n",
              "        const docLinkHtml = 'Like what you see? Visit the ' +\n",
              "          '<a target=\"_blank\" href=https://colab.research.google.com/notebooks/data_table.ipynb>data table notebook</a>'\n",
              "          + ' to learn more about interactive tables.';\n",
              "        element.innerHTML = '';\n",
              "        dataTable['output_type'] = 'display_data';\n",
              "        await google.colab.output.renderOutput(dataTable, element);\n",
              "        const docLink = document.createElement('div');\n",
              "        docLink.innerHTML = docLinkHtml;\n",
              "        element.appendChild(docLink);\n",
              "      }\n",
              "    </script>\n",
              "  </div>\n",
              "\n",
              "\n",
              "<div id=\"df-d67214e0-c4df-431c-8b77-0c561bb1d52d\">\n",
              "  <button class=\"colab-df-quickchart\" onclick=\"quickchart('df-d67214e0-c4df-431c-8b77-0c561bb1d52d')\"\n",
              "            title=\"Suggest charts\"\n",
              "            style=\"display:none;\">\n",
              "\n",
              "<svg xmlns=\"http://www.w3.org/2000/svg\" height=\"24px\"viewBox=\"0 0 24 24\"\n",
              "     width=\"24px\">\n",
              "    <g>\n",
              "        <path d=\"M19 3H5c-1.1 0-2 .9-2 2v14c0 1.1.9 2 2 2h14c1.1 0 2-.9 2-2V5c0-1.1-.9-2-2-2zM9 17H7v-7h2v7zm4 0h-2V7h2v10zm4 0h-2v-4h2v4z\"/>\n",
              "    </g>\n",
              "</svg>\n",
              "  </button>\n",
              "\n",
              "<style>\n",
              "  .colab-df-quickchart {\n",
              "      --bg-color: #E8F0FE;\n",
              "      --fill-color: #1967D2;\n",
              "      --hover-bg-color: #E2EBFA;\n",
              "      --hover-fill-color: #174EA6;\n",
              "      --disabled-fill-color: #AAA;\n",
              "      --disabled-bg-color: #DDD;\n",
              "  }\n",
              "\n",
              "  [theme=dark] .colab-df-quickchart {\n",
              "      --bg-color: #3B4455;\n",
              "      --fill-color: #D2E3FC;\n",
              "      --hover-bg-color: #434B5C;\n",
              "      --hover-fill-color: #FFFFFF;\n",
              "      --disabled-bg-color: #3B4455;\n",
              "      --disabled-fill-color: #666;\n",
              "  }\n",
              "\n",
              "  .colab-df-quickchart {\n",
              "    background-color: var(--bg-color);\n",
              "    border: none;\n",
              "    border-radius: 50%;\n",
              "    cursor: pointer;\n",
              "    display: none;\n",
              "    fill: var(--fill-color);\n",
              "    height: 32px;\n",
              "    padding: 0;\n",
              "    width: 32px;\n",
              "  }\n",
              "\n",
              "  .colab-df-quickchart:hover {\n",
              "    background-color: var(--hover-bg-color);\n",
              "    box-shadow: 0 1px 2px rgba(60, 64, 67, 0.3), 0 1px 3px 1px rgba(60, 64, 67, 0.15);\n",
              "    fill: var(--button-hover-fill-color);\n",
              "  }\n",
              "\n",
              "  .colab-df-quickchart-complete:disabled,\n",
              "  .colab-df-quickchart-complete:disabled:hover {\n",
              "    background-color: var(--disabled-bg-color);\n",
              "    fill: var(--disabled-fill-color);\n",
              "    box-shadow: none;\n",
              "  }\n",
              "\n",
              "  .colab-df-spinner {\n",
              "    border: 2px solid var(--fill-color);\n",
              "    border-color: transparent;\n",
              "    border-bottom-color: var(--fill-color);\n",
              "    animation:\n",
              "      spin 1s steps(1) infinite;\n",
              "  }\n",
              "\n",
              "  @keyframes spin {\n",
              "    0% {\n",
              "      border-color: transparent;\n",
              "      border-bottom-color: var(--fill-color);\n",
              "      border-left-color: var(--fill-color);\n",
              "    }\n",
              "    20% {\n",
              "      border-color: transparent;\n",
              "      border-left-color: var(--fill-color);\n",
              "      border-top-color: var(--fill-color);\n",
              "    }\n",
              "    30% {\n",
              "      border-color: transparent;\n",
              "      border-left-color: var(--fill-color);\n",
              "      border-top-color: var(--fill-color);\n",
              "      border-right-color: var(--fill-color);\n",
              "    }\n",
              "    40% {\n",
              "      border-color: transparent;\n",
              "      border-right-color: var(--fill-color);\n",
              "      border-top-color: var(--fill-color);\n",
              "    }\n",
              "    60% {\n",
              "      border-color: transparent;\n",
              "      border-right-color: var(--fill-color);\n",
              "    }\n",
              "    80% {\n",
              "      border-color: transparent;\n",
              "      border-right-color: var(--fill-color);\n",
              "      border-bottom-color: var(--fill-color);\n",
              "    }\n",
              "    90% {\n",
              "      border-color: transparent;\n",
              "      border-bottom-color: var(--fill-color);\n",
              "    }\n",
              "  }\n",
              "</style>\n",
              "\n",
              "  <script>\n",
              "    async function quickchart(key) {\n",
              "      const quickchartButtonEl =\n",
              "        document.querySelector('#' + key + ' button');\n",
              "      quickchartButtonEl.disabled = true;  // To prevent multiple clicks.\n",
              "      quickchartButtonEl.classList.add('colab-df-spinner');\n",
              "      try {\n",
              "        const charts = await google.colab.kernel.invokeFunction(\n",
              "            'suggestCharts', [key], {});\n",
              "      } catch (error) {\n",
              "        console.error('Error during call to suggestCharts:', error);\n",
              "      }\n",
              "      quickchartButtonEl.classList.remove('colab-df-spinner');\n",
              "      quickchartButtonEl.classList.add('colab-df-quickchart-complete');\n",
              "    }\n",
              "    (() => {\n",
              "      let quickchartButtonEl =\n",
              "        document.querySelector('#df-d67214e0-c4df-431c-8b77-0c561bb1d52d button');\n",
              "      quickchartButtonEl.style.display =\n",
              "        google.colab.kernel.accessAllowed ? 'block' : 'none';\n",
              "    })();\n",
              "  </script>\n",
              "</div>\n",
              "    </div>\n",
              "  </div>\n"
            ],
            "application/vnd.google.colaboratory.intrinsic+json": {
              "type": "dataframe",
              "summary": "{\n  \"name\": \"x_train\",\n  \"rows\": 12,\n  \"fields\": [\n    {\n      \"column\": \"season\",\n      \"properties\": {\n        \"dtype\": \"number\",\n        \"std\": 0.3676984838245705,\n        \"min\": -0.2588188870933755,\n        \"max\": 1.0,\n        \"num_unique_values\": 12,\n        \"samples\": [\n          -0.2588188870933755,\n          0.1792433732431237,\n          1.0\n        ],\n        \"semantic_type\": \"\",\n        \"description\": \"\"\n      }\n    },\n    {\n      \"column\": \"yr\",\n      \"properties\": {\n        \"dtype\": \"number\",\n        \"std\": 0.29900888190572644,\n        \"min\": -0.09388529953738872,\n        \"max\": 1.0,\n        \"num_unique_values\": 12,\n        \"samples\": [\n          -0.0337684701344595,\n          -0.09388529953738872,\n          -0.01332035967729035\n        ],\n        \"semantic_type\": \"\",\n        \"description\": \"\"\n      }\n    },\n    {\n      \"column\": \"mnth\",\n      \"properties\": {\n        \"dtype\": \"number\",\n        \"std\": 0.3604802007579268,\n        \"min\": -0.21994939144966857,\n        \"max\": 1.0,\n        \"num_unique_values\": 12,\n        \"samples\": [\n          -0.21994939144966857,\n          0.19659197169701323,\n          0.8309821181099686\n        ],\n        \"semantic_type\": \"\",\n        \"description\": \"\"\n      }\n    },\n    {\n      \"column\": \"holiday\",\n      \"properties\": {\n        \"dtype\": \"number\",\n        \"std\": 0.3116474111185647,\n        \"min\": -0.26013113519668507,\n        \"max\": 1.0,\n        \"num_unique_values\": 12,\n        \"samples\": [\n          0.04438124322599408,\n          -0.031143875405108063,\n          -0.02884978435109943\n        ],\n        \"semantic_type\": \"\",\n        \"description\": \"\"\n      }\n    },\n    {\n      \"column\": \"weekday\",\n      \"properties\": {\n        \"dtype\": \"number\",\n        \"std\": 0.2954870712879151,\n        \"min\": -0.09146515862491413,\n        \"max\": 1.0,\n        \"num_unique_values\": 12,\n        \"samples\": [\n          -0.0028909869958637408,\n          -0.04053564226842654,\n          -0.027534865625160707\n        ],\n        \"semantic_type\": \"\",\n        \"description\": \"\"\n      }\n    },\n    {\n      \"column\": \"workingday\",\n      \"properties\": {\n        \"dtype\": \"number\",\n        \"std\": 0.34737265117759014,\n        \"min\": -0.5141291376841469,\n        \"max\": 1.0,\n        \"num_unique_values\": 12,\n        \"samples\": [\n          -0.012439784266472714,\n          0.03650912640982118,\n          0.02639678223750711\n        ],\n        \"semantic_type\": \"\",\n        \"description\": \"\"\n      }\n    },\n    {\n      \"column\": \"weathersit\",\n      \"properties\": {\n        \"dtype\": \"number\",\n        \"std\": 0.3597634352247421,\n        \"min\": -0.2933289395087402,\n        \"max\": 1.0,\n        \"num_unique_values\": 12,\n        \"samples\": [\n          0.03328522020795123,\n          0.5949022089383407,\n          0.024633185828873704\n        ],\n        \"semantic_type\": \"\",\n        \"description\": \"\"\n      }\n    },\n    {\n      \"column\": \"temp\",\n      \"properties\": {\n        \"dtype\": \"number\",\n        \"std\": 0.40553106038897857,\n        \"min\": -0.17304910578454882,\n        \"max\": 1.0,\n        \"num_unique_values\": 12,\n        \"samples\": [\n          -0.16107676614713837,\n          0.08316159902777825,\n          0.3184765142285457\n        ],\n        \"semantic_type\": \"\",\n        \"description\": \"\"\n      }\n    },\n    {\n      \"column\": \"atemp\",\n      \"properties\": {\n        \"dtype\": \"number\",\n        \"std\": 0.4088197505737514,\n        \"min\": -0.18643045796684088,\n        \"max\": 1.0,\n        \"num_unique_values\": 12,\n        \"samples\": [\n          -0.18643045796684088,\n          0.09608095164256465,\n          0.325455391138684\n        ],\n        \"semantic_type\": \"\",\n        \"description\": \"\"\n      }\n    },\n    {\n      \"column\": \"hum\",\n      \"properties\": {\n        \"dtype\": \"number\",\n        \"std\": 0.3403363256699741,\n        \"min\": -0.2227751320104155,\n        \"max\": 1.0,\n        \"num_unique_values\": 12,\n        \"samples\": [\n          -0.2227751320104155,\n          1.0,\n          0.1792433732431237\n        ],\n        \"semantic_type\": \"\",\n        \"description\": \"\"\n      }\n    },\n    {\n      \"column\": \"windspeed\",\n      \"properties\": {\n        \"dtype\": \"number\",\n        \"std\": 0.3380730055000648,\n        \"min\": -0.2588188870933755,\n        \"max\": 1.0,\n        \"num_unique_values\": 12,\n        \"samples\": [\n          1.0,\n          -0.2227751320104155,\n          -0.2588188870933755\n        ],\n        \"semantic_type\": \"\",\n        \"description\": \"\"\n      }\n    },\n    {\n      \"column\": \"casual\",\n      \"properties\": {\n        \"dtype\": \"number\",\n        \"std\": 0.4102347472729587,\n        \"min\": -0.5141291376841469,\n        \"max\": 1.0,\n        \"num_unique_values\": 12,\n        \"samples\": [\n          -0.17408282155577118,\n          -0.1024817137827959,\n          0.18922947258610062\n        ],\n        \"semantic_type\": \"\",\n        \"description\": \"\"\n      }\n    }\n  ]\n}"
            }
          },
          "metadata": {},
          "execution_count": 102
        }
      ]
    },
    {
      "cell_type": "code",
      "source": [
        "corr_matrix = x_train.corr()\n",
        "# зануляем главную диагональ в матрице корреляции\n",
        "np.fill_diagonal(corr_matrix.values, 0)\n",
        "# отфильтровываем по порогу и группируем отфильтрованные значения по каждому признаку, вычисляя сумму\n",
        "feature_list = (corr_matrix.abs() > 0.6).sum(axis=1)\n",
        "# сортируем по убыванию\n",
        "feature_sort_list = feature_list.sort_values(ascending=False)\n",
        "# фильтруем\n",
        "new_features_knn = feature_sort_list[feature_sort_list > 0].index\n",
        "new_features_knn"
      ],
      "metadata": {
        "colab": {
          "base_uri": "https://localhost:8080/"
        },
        "id": "MyiDck1HSnfY",
        "outputId": "82ac2979-7517-4045-e31f-ebe2a3cd2bec"
      },
      "execution_count": 121,
      "outputs": [
        {
          "output_type": "execute_result",
          "data": {
            "text/plain": [
              "Index(['season', 'mnth', 'temp', 'atemp'], dtype='object')"
            ]
          },
          "metadata": {},
          "execution_count": 121
        }
      ]
    },
    {
      "cell_type": "markdown",
      "source": [
        "**№5.4** Подобрать лучшую модель с использованием `GridSearchCV` на обучающей выборке с отфильтрованными признаками"
      ],
      "metadata": {
        "id": "2Q3gpjInO6gl"
      }
    },
    {
      "cell_type": "code",
      "source": [
        "x_train_filtered_knn = x_train[new_features_knn]\n",
        "x_test_filtered_knn = x_test[new_features_knn]"
      ],
      "metadata": {
        "id": "4K2Gq0rGwueY"
      },
      "execution_count": 122,
      "outputs": []
    },
    {
      "cell_type": "code",
      "source": [
        "knn_search_filter = GridSearchCV(knn_model, knn_grid, cv = 5)\n",
        "knn_search_filter.fit(x_train_filtered_knn, y_train)"
      ],
      "metadata": {
        "colab": {
          "base_uri": "https://localhost:8080/",
          "height": 118
        },
        "id": "8CvgRncgwhKi",
        "outputId": "c8aa7af2-c9dd-4da1-c889-f9fb3e213f6d"
      },
      "execution_count": 123,
      "outputs": [
        {
          "output_type": "execute_result",
          "data": {
            "text/plain": [
              "GridSearchCV(cv=5, estimator=KNeighborsClassifier(),\n",
              "             param_grid={'n_neighbors': range(2, 21)})"
            ],
            "text/html": [
              "<style>#sk-container-id-10 {color: black;background-color: white;}#sk-container-id-10 pre{padding: 0;}#sk-container-id-10 div.sk-toggleable {background-color: white;}#sk-container-id-10 label.sk-toggleable__label {cursor: pointer;display: block;width: 100%;margin-bottom: 0;padding: 0.3em;box-sizing: border-box;text-align: center;}#sk-container-id-10 label.sk-toggleable__label-arrow:before {content: \"▸\";float: left;margin-right: 0.25em;color: #696969;}#sk-container-id-10 label.sk-toggleable__label-arrow:hover:before {color: black;}#sk-container-id-10 div.sk-estimator:hover label.sk-toggleable__label-arrow:before {color: black;}#sk-container-id-10 div.sk-toggleable__content {max-height: 0;max-width: 0;overflow: hidden;text-align: left;background-color: #f0f8ff;}#sk-container-id-10 div.sk-toggleable__content pre {margin: 0.2em;color: black;border-radius: 0.25em;background-color: #f0f8ff;}#sk-container-id-10 input.sk-toggleable__control:checked~div.sk-toggleable__content {max-height: 200px;max-width: 100%;overflow: auto;}#sk-container-id-10 input.sk-toggleable__control:checked~label.sk-toggleable__label-arrow:before {content: \"▾\";}#sk-container-id-10 div.sk-estimator input.sk-toggleable__control:checked~label.sk-toggleable__label {background-color: #d4ebff;}#sk-container-id-10 div.sk-label input.sk-toggleable__control:checked~label.sk-toggleable__label {background-color: #d4ebff;}#sk-container-id-10 input.sk-hidden--visually {border: 0;clip: rect(1px 1px 1px 1px);clip: rect(1px, 1px, 1px, 1px);height: 1px;margin: -1px;overflow: hidden;padding: 0;position: absolute;width: 1px;}#sk-container-id-10 div.sk-estimator {font-family: monospace;background-color: #f0f8ff;border: 1px dotted black;border-radius: 0.25em;box-sizing: border-box;margin-bottom: 0.5em;}#sk-container-id-10 div.sk-estimator:hover {background-color: #d4ebff;}#sk-container-id-10 div.sk-parallel-item::after {content: \"\";width: 100%;border-bottom: 1px solid gray;flex-grow: 1;}#sk-container-id-10 div.sk-label:hover label.sk-toggleable__label {background-color: #d4ebff;}#sk-container-id-10 div.sk-serial::before {content: \"\";position: absolute;border-left: 1px solid gray;box-sizing: border-box;top: 0;bottom: 0;left: 50%;z-index: 0;}#sk-container-id-10 div.sk-serial {display: flex;flex-direction: column;align-items: center;background-color: white;padding-right: 0.2em;padding-left: 0.2em;position: relative;}#sk-container-id-10 div.sk-item {position: relative;z-index: 1;}#sk-container-id-10 div.sk-parallel {display: flex;align-items: stretch;justify-content: center;background-color: white;position: relative;}#sk-container-id-10 div.sk-item::before, #sk-container-id-10 div.sk-parallel-item::before {content: \"\";position: absolute;border-left: 1px solid gray;box-sizing: border-box;top: 0;bottom: 0;left: 50%;z-index: -1;}#sk-container-id-10 div.sk-parallel-item {display: flex;flex-direction: column;z-index: 1;position: relative;background-color: white;}#sk-container-id-10 div.sk-parallel-item:first-child::after {align-self: flex-end;width: 50%;}#sk-container-id-10 div.sk-parallel-item:last-child::after {align-self: flex-start;width: 50%;}#sk-container-id-10 div.sk-parallel-item:only-child::after {width: 0;}#sk-container-id-10 div.sk-dashed-wrapped {border: 1px dashed gray;margin: 0 0.4em 0.5em 0.4em;box-sizing: border-box;padding-bottom: 0.4em;background-color: white;}#sk-container-id-10 div.sk-label label {font-family: monospace;font-weight: bold;display: inline-block;line-height: 1.2em;}#sk-container-id-10 div.sk-label-container {text-align: center;}#sk-container-id-10 div.sk-container {/* jupyter's `normalize.less` sets `[hidden] { display: none; }` but bootstrap.min.css set `[hidden] { display: none !important; }` so we also need the `!important` here to be able to override the default hidden behavior on the sphinx rendered scikit-learn.org. See: https://github.com/scikit-learn/scikit-learn/issues/21755 */display: inline-block !important;position: relative;}#sk-container-id-10 div.sk-text-repr-fallback {display: none;}</style><div id=\"sk-container-id-10\" class=\"sk-top-container\"><div class=\"sk-text-repr-fallback\"><pre>GridSearchCV(cv=5, estimator=KNeighborsClassifier(),\n",
              "             param_grid={&#x27;n_neighbors&#x27;: range(2, 21)})</pre><b>In a Jupyter environment, please rerun this cell to show the HTML representation or trust the notebook. <br />On GitHub, the HTML representation is unable to render, please try loading this page with nbviewer.org.</b></div><div class=\"sk-container\" hidden><div class=\"sk-item sk-dashed-wrapped\"><div class=\"sk-label-container\"><div class=\"sk-label sk-toggleable\"><input class=\"sk-toggleable__control sk-hidden--visually\" id=\"sk-estimator-id-28\" type=\"checkbox\" ><label for=\"sk-estimator-id-28\" class=\"sk-toggleable__label sk-toggleable__label-arrow\">GridSearchCV</label><div class=\"sk-toggleable__content\"><pre>GridSearchCV(cv=5, estimator=KNeighborsClassifier(),\n",
              "             param_grid={&#x27;n_neighbors&#x27;: range(2, 21)})</pre></div></div></div><div class=\"sk-parallel\"><div class=\"sk-parallel-item\"><div class=\"sk-item\"><div class=\"sk-label-container\"><div class=\"sk-label sk-toggleable\"><input class=\"sk-toggleable__control sk-hidden--visually\" id=\"sk-estimator-id-29\" type=\"checkbox\" ><label for=\"sk-estimator-id-29\" class=\"sk-toggleable__label sk-toggleable__label-arrow\">estimator: KNeighborsClassifier</label><div class=\"sk-toggleable__content\"><pre>KNeighborsClassifier()</pre></div></div></div><div class=\"sk-serial\"><div class=\"sk-item\"><div class=\"sk-estimator sk-toggleable\"><input class=\"sk-toggleable__control sk-hidden--visually\" id=\"sk-estimator-id-30\" type=\"checkbox\" ><label for=\"sk-estimator-id-30\" class=\"sk-toggleable__label sk-toggleable__label-arrow\">KNeighborsClassifier</label><div class=\"sk-toggleable__content\"><pre>KNeighborsClassifier()</pre></div></div></div></div></div></div></div></div></div></div>"
            ]
          },
          "metadata": {},
          "execution_count": 123
        }
      ]
    },
    {
      "cell_type": "code",
      "source": [
        "best_knn_filter_model = knn_search_filter.best_estimator_"
      ],
      "metadata": {
        "id": "HmTtXpKPO_TS"
      },
      "execution_count": 124,
      "outputs": []
    },
    {
      "cell_type": "markdown",
      "source": [
        "**№5.5** Вывести полученные гиперпараметры лучшей модели"
      ],
      "metadata": {
        "id": "BcShHFY1O_nn"
      }
    },
    {
      "cell_type": "code",
      "source": [
        "knn_search_filter.best_params_"
      ],
      "metadata": {
        "id": "MVPnL8gZPD3j",
        "colab": {
          "base_uri": "https://localhost:8080/"
        },
        "outputId": "545289d9-3d71-4216-bc05-d1bd19ca56ed"
      },
      "execution_count": 125,
      "outputs": [
        {
          "output_type": "execute_result",
          "data": {
            "text/plain": [
              "{'n_neighbors': 2}"
            ]
          },
          "metadata": {},
          "execution_count": 125
        }
      ]
    },
    {
      "cell_type": "markdown",
      "source": [
        "**№5.6** Сравнить метрики до и после фильтрации признаков"
      ],
      "metadata": {
        "id": "hsmYVxYhPEPS"
      }
    },
    {
      "cell_type": "markdown",
      "source": [
        "После фильтрации"
      ],
      "metadata": {
        "id": "2bYatqhs-vM3"
      }
    },
    {
      "cell_type": "markdown",
      "source": [
        "Для тренировочной выборки"
      ],
      "metadata": {
        "id": "U2JBPuYu-w0o"
      }
    },
    {
      "cell_type": "code",
      "source": [
        "print(f'Accuracy:{accuracy_score(y_train, best_knn_filter_model.predict(x_train_filtered_knn))}')\n",
        "print(f'Precision:{precision_score(y_train, best_knn_filter_model.predict(x_train_filtered_knn))}')\n",
        "print(f'Recall:{recall_score(y_train, best_knn_filter_model.predict(x_train_filtered_knn))}')\n",
        "print(f'F-measure:{f1_score(y_train, best_knn_filter_model.predict(x_train_filtered_knn))}')"
      ],
      "metadata": {
        "colab": {
          "base_uri": "https://localhost:8080/"
        },
        "id": "fuyeUUFP-2T0",
        "outputId": "91616b07-039b-4dd8-8c46-3e56e8c63d20"
      },
      "execution_count": 126,
      "outputs": [
        {
          "output_type": "stream",
          "name": "stdout",
          "text": [
            "Accuracy:0.822992700729927\n",
            "Precision:1.0\n",
            "Recall:0.44571428571428573\n",
            "F-measure:0.616600790513834\n"
          ]
        }
      ]
    },
    {
      "cell_type": "markdown",
      "source": [
        "Для тестовой выборки"
      ],
      "metadata": {
        "id": "jJ9fPoUV-0gg"
      }
    },
    {
      "cell_type": "code",
      "source": [
        "print(f'Accuracy:{accuracy_score(y_test, best_knn_filter_model.predict(x_test_filtered_knn))}')\n",
        "print(f'Precision:{precision_score(y_test, best_knn_filter_model.predict(x_test_filtered_knn))}')\n",
        "print(f'Recall:{recall_score(y_test, best_knn_filter_model.predict(x_test_filtered_knn))}')\n",
        "print(f'F-measure:{f1_score(y_test, best_knn_filter_model.predict(x_test_filtered_knn))}')"
      ],
      "metadata": {
        "id": "8sFxlmKuPIHw",
        "colab": {
          "base_uri": "https://localhost:8080/"
        },
        "outputId": "d8005a6e-567d-4928-c6a2-70ab1f40d395"
      },
      "execution_count": 127,
      "outputs": [
        {
          "output_type": "stream",
          "name": "stdout",
          "text": [
            "Accuracy:0.73224043715847\n",
            "Precision:0.47619047619047616\n",
            "Recall:0.20833333333333334\n",
            "F-measure:0.28985507246376807\n"
          ]
        }
      ]
    },
    {
      "cell_type": "markdown",
      "source": [
        "Метрики ухудшились"
      ],
      "metadata": {
        "id": "0cnA3onkPIoi"
      }
    },
    {
      "cell_type": "markdown",
      "source": [
        "**№6.** Если наблюдается улучшение метрик после фильтрации признаков хотя бы для одной из моделей, то для набора отфильтрованных признаков (пересечение множеств отфильтрованных признаков каждой модели или объединение множеств – не особо важно, главное описать, каким образом получен новый subset данных) заново построить наилучшие модели `KNeighborsClassifier`, `DecisionTreeClassifier`, `RandomForestClassifier`, сравнить модели в пункте 7 на одинаковом полученном наборе отфильтрованных признаков."
      ],
      "metadata": {
        "id": "k2Wf_kvt_Vrg"
      }
    },
    {
      "cell_type": "markdown",
      "source": [
        "Для модели дерева решений метрики на тестовой выборке немного улучшились. Значит, будем выполнять этот пункт. Найдем объединение  множеств отфильтрованных признаков каждой модели."
      ],
      "metadata": {
        "id": "JEArNUyxtWRI"
      }
    },
    {
      "cell_type": "code",
      "source": [
        "new_features_general = list(set(features_new_tree) | set(features_new_forest) | set(new_features_knn))\n",
        "new_features_general"
      ],
      "metadata": {
        "colab": {
          "base_uri": "https://localhost:8080/"
        },
        "id": "WEtMPcdStU7E",
        "outputId": "aa7046c0-7cbb-4e50-9706-c7e7e6ae589e"
      },
      "execution_count": 130,
      "outputs": [
        {
          "output_type": "execute_result",
          "data": {
            "text/plain": [
              "['temp', 'mnth', 'season', 'casual', 'hum', 'yr', 'atemp']"
            ]
          },
          "metadata": {},
          "execution_count": 130
        }
      ]
    },
    {
      "cell_type": "code",
      "source": [
        "x_train_filtered_general = x_train[new_features_general]\n",
        "x_test_filtered_general = x_test[new_features_general]"
      ],
      "metadata": {
        "id": "HW7-ViTizQK9"
      },
      "execution_count": 131,
      "outputs": []
    },
    {
      "cell_type": "code",
      "source": [
        "knn_search_general = GridSearchCV(knn_model, knn_grid, cv = 5)\n",
        "knn_search_general.fit(x_train_filtered_general, y_train)"
      ],
      "metadata": {
        "colab": {
          "base_uri": "https://localhost:8080/",
          "height": 118
        },
        "id": "axwfpqG5zWJF",
        "outputId": "9d34717d-723f-4994-f6bf-329240975c13"
      },
      "execution_count": 132,
      "outputs": [
        {
          "output_type": "execute_result",
          "data": {
            "text/plain": [
              "GridSearchCV(cv=5, estimator=KNeighborsClassifier(),\n",
              "             param_grid={'n_neighbors': range(2, 21)})"
            ],
            "text/html": [
              "<style>#sk-container-id-11 {color: black;background-color: white;}#sk-container-id-11 pre{padding: 0;}#sk-container-id-11 div.sk-toggleable {background-color: white;}#sk-container-id-11 label.sk-toggleable__label {cursor: pointer;display: block;width: 100%;margin-bottom: 0;padding: 0.3em;box-sizing: border-box;text-align: center;}#sk-container-id-11 label.sk-toggleable__label-arrow:before {content: \"▸\";float: left;margin-right: 0.25em;color: #696969;}#sk-container-id-11 label.sk-toggleable__label-arrow:hover:before {color: black;}#sk-container-id-11 div.sk-estimator:hover label.sk-toggleable__label-arrow:before {color: black;}#sk-container-id-11 div.sk-toggleable__content {max-height: 0;max-width: 0;overflow: hidden;text-align: left;background-color: #f0f8ff;}#sk-container-id-11 div.sk-toggleable__content pre {margin: 0.2em;color: black;border-radius: 0.25em;background-color: #f0f8ff;}#sk-container-id-11 input.sk-toggleable__control:checked~div.sk-toggleable__content {max-height: 200px;max-width: 100%;overflow: auto;}#sk-container-id-11 input.sk-toggleable__control:checked~label.sk-toggleable__label-arrow:before {content: \"▾\";}#sk-container-id-11 div.sk-estimator input.sk-toggleable__control:checked~label.sk-toggleable__label {background-color: #d4ebff;}#sk-container-id-11 div.sk-label input.sk-toggleable__control:checked~label.sk-toggleable__label {background-color: #d4ebff;}#sk-container-id-11 input.sk-hidden--visually {border: 0;clip: rect(1px 1px 1px 1px);clip: rect(1px, 1px, 1px, 1px);height: 1px;margin: -1px;overflow: hidden;padding: 0;position: absolute;width: 1px;}#sk-container-id-11 div.sk-estimator {font-family: monospace;background-color: #f0f8ff;border: 1px dotted black;border-radius: 0.25em;box-sizing: border-box;margin-bottom: 0.5em;}#sk-container-id-11 div.sk-estimator:hover {background-color: #d4ebff;}#sk-container-id-11 div.sk-parallel-item::after {content: \"\";width: 100%;border-bottom: 1px solid gray;flex-grow: 1;}#sk-container-id-11 div.sk-label:hover label.sk-toggleable__label {background-color: #d4ebff;}#sk-container-id-11 div.sk-serial::before {content: \"\";position: absolute;border-left: 1px solid gray;box-sizing: border-box;top: 0;bottom: 0;left: 50%;z-index: 0;}#sk-container-id-11 div.sk-serial {display: flex;flex-direction: column;align-items: center;background-color: white;padding-right: 0.2em;padding-left: 0.2em;position: relative;}#sk-container-id-11 div.sk-item {position: relative;z-index: 1;}#sk-container-id-11 div.sk-parallel {display: flex;align-items: stretch;justify-content: center;background-color: white;position: relative;}#sk-container-id-11 div.sk-item::before, #sk-container-id-11 div.sk-parallel-item::before {content: \"\";position: absolute;border-left: 1px solid gray;box-sizing: border-box;top: 0;bottom: 0;left: 50%;z-index: -1;}#sk-container-id-11 div.sk-parallel-item {display: flex;flex-direction: column;z-index: 1;position: relative;background-color: white;}#sk-container-id-11 div.sk-parallel-item:first-child::after {align-self: flex-end;width: 50%;}#sk-container-id-11 div.sk-parallel-item:last-child::after {align-self: flex-start;width: 50%;}#sk-container-id-11 div.sk-parallel-item:only-child::after {width: 0;}#sk-container-id-11 div.sk-dashed-wrapped {border: 1px dashed gray;margin: 0 0.4em 0.5em 0.4em;box-sizing: border-box;padding-bottom: 0.4em;background-color: white;}#sk-container-id-11 div.sk-label label {font-family: monospace;font-weight: bold;display: inline-block;line-height: 1.2em;}#sk-container-id-11 div.sk-label-container {text-align: center;}#sk-container-id-11 div.sk-container {/* jupyter's `normalize.less` sets `[hidden] { display: none; }` but bootstrap.min.css set `[hidden] { display: none !important; }` so we also need the `!important` here to be able to override the default hidden behavior on the sphinx rendered scikit-learn.org. See: https://github.com/scikit-learn/scikit-learn/issues/21755 */display: inline-block !important;position: relative;}#sk-container-id-11 div.sk-text-repr-fallback {display: none;}</style><div id=\"sk-container-id-11\" class=\"sk-top-container\"><div class=\"sk-text-repr-fallback\"><pre>GridSearchCV(cv=5, estimator=KNeighborsClassifier(),\n",
              "             param_grid={&#x27;n_neighbors&#x27;: range(2, 21)})</pre><b>In a Jupyter environment, please rerun this cell to show the HTML representation or trust the notebook. <br />On GitHub, the HTML representation is unable to render, please try loading this page with nbviewer.org.</b></div><div class=\"sk-container\" hidden><div class=\"sk-item sk-dashed-wrapped\"><div class=\"sk-label-container\"><div class=\"sk-label sk-toggleable\"><input class=\"sk-toggleable__control sk-hidden--visually\" id=\"sk-estimator-id-31\" type=\"checkbox\" ><label for=\"sk-estimator-id-31\" class=\"sk-toggleable__label sk-toggleable__label-arrow\">GridSearchCV</label><div class=\"sk-toggleable__content\"><pre>GridSearchCV(cv=5, estimator=KNeighborsClassifier(),\n",
              "             param_grid={&#x27;n_neighbors&#x27;: range(2, 21)})</pre></div></div></div><div class=\"sk-parallel\"><div class=\"sk-parallel-item\"><div class=\"sk-item\"><div class=\"sk-label-container\"><div class=\"sk-label sk-toggleable\"><input class=\"sk-toggleable__control sk-hidden--visually\" id=\"sk-estimator-id-32\" type=\"checkbox\" ><label for=\"sk-estimator-id-32\" class=\"sk-toggleable__label sk-toggleable__label-arrow\">estimator: KNeighborsClassifier</label><div class=\"sk-toggleable__content\"><pre>KNeighborsClassifier()</pre></div></div></div><div class=\"sk-serial\"><div class=\"sk-item\"><div class=\"sk-estimator sk-toggleable\"><input class=\"sk-toggleable__control sk-hidden--visually\" id=\"sk-estimator-id-33\" type=\"checkbox\" ><label for=\"sk-estimator-id-33\" class=\"sk-toggleable__label sk-toggleable__label-arrow\">KNeighborsClassifier</label><div class=\"sk-toggleable__content\"><pre>KNeighborsClassifier()</pre></div></div></div></div></div></div></div></div></div></div>"
            ]
          },
          "metadata": {},
          "execution_count": 132
        }
      ]
    },
    {
      "cell_type": "code",
      "source": [
        "best_knn_general_model = knn_search_general.best_estimator_"
      ],
      "metadata": {
        "id": "1aSd0CuOz2p2"
      },
      "execution_count": 134,
      "outputs": []
    },
    {
      "cell_type": "code",
      "source": [
        "forest_search_general = GridSearchCV(forest_model, forest_grid, cv = 5)\n",
        "forest_search_general.fit(x_train_filtered_general, y_train)"
      ],
      "metadata": {
        "colab": {
          "base_uri": "https://localhost:8080/",
          "height": 118
        },
        "id": "sTx7FV1qza21",
        "outputId": "55787742-4638-4c43-a8ca-59997835fb21"
      },
      "execution_count": 133,
      "outputs": [
        {
          "output_type": "execute_result",
          "data": {
            "text/plain": [
              "GridSearchCV(cv=5, estimator=RandomForestClassifier(),\n",
              "             param_grid={'max_depth': range(1, 12),\n",
              "                         'n_estimators': range(10, 151, 10)})"
            ],
            "text/html": [
              "<style>#sk-container-id-12 {color: black;background-color: white;}#sk-container-id-12 pre{padding: 0;}#sk-container-id-12 div.sk-toggleable {background-color: white;}#sk-container-id-12 label.sk-toggleable__label {cursor: pointer;display: block;width: 100%;margin-bottom: 0;padding: 0.3em;box-sizing: border-box;text-align: center;}#sk-container-id-12 label.sk-toggleable__label-arrow:before {content: \"▸\";float: left;margin-right: 0.25em;color: #696969;}#sk-container-id-12 label.sk-toggleable__label-arrow:hover:before {color: black;}#sk-container-id-12 div.sk-estimator:hover label.sk-toggleable__label-arrow:before {color: black;}#sk-container-id-12 div.sk-toggleable__content {max-height: 0;max-width: 0;overflow: hidden;text-align: left;background-color: #f0f8ff;}#sk-container-id-12 div.sk-toggleable__content pre {margin: 0.2em;color: black;border-radius: 0.25em;background-color: #f0f8ff;}#sk-container-id-12 input.sk-toggleable__control:checked~div.sk-toggleable__content {max-height: 200px;max-width: 100%;overflow: auto;}#sk-container-id-12 input.sk-toggleable__control:checked~label.sk-toggleable__label-arrow:before {content: \"▾\";}#sk-container-id-12 div.sk-estimator input.sk-toggleable__control:checked~label.sk-toggleable__label {background-color: #d4ebff;}#sk-container-id-12 div.sk-label input.sk-toggleable__control:checked~label.sk-toggleable__label {background-color: #d4ebff;}#sk-container-id-12 input.sk-hidden--visually {border: 0;clip: rect(1px 1px 1px 1px);clip: rect(1px, 1px, 1px, 1px);height: 1px;margin: -1px;overflow: hidden;padding: 0;position: absolute;width: 1px;}#sk-container-id-12 div.sk-estimator {font-family: monospace;background-color: #f0f8ff;border: 1px dotted black;border-radius: 0.25em;box-sizing: border-box;margin-bottom: 0.5em;}#sk-container-id-12 div.sk-estimator:hover {background-color: #d4ebff;}#sk-container-id-12 div.sk-parallel-item::after {content: \"\";width: 100%;border-bottom: 1px solid gray;flex-grow: 1;}#sk-container-id-12 div.sk-label:hover label.sk-toggleable__label {background-color: #d4ebff;}#sk-container-id-12 div.sk-serial::before {content: \"\";position: absolute;border-left: 1px solid gray;box-sizing: border-box;top: 0;bottom: 0;left: 50%;z-index: 0;}#sk-container-id-12 div.sk-serial {display: flex;flex-direction: column;align-items: center;background-color: white;padding-right: 0.2em;padding-left: 0.2em;position: relative;}#sk-container-id-12 div.sk-item {position: relative;z-index: 1;}#sk-container-id-12 div.sk-parallel {display: flex;align-items: stretch;justify-content: center;background-color: white;position: relative;}#sk-container-id-12 div.sk-item::before, #sk-container-id-12 div.sk-parallel-item::before {content: \"\";position: absolute;border-left: 1px solid gray;box-sizing: border-box;top: 0;bottom: 0;left: 50%;z-index: -1;}#sk-container-id-12 div.sk-parallel-item {display: flex;flex-direction: column;z-index: 1;position: relative;background-color: white;}#sk-container-id-12 div.sk-parallel-item:first-child::after {align-self: flex-end;width: 50%;}#sk-container-id-12 div.sk-parallel-item:last-child::after {align-self: flex-start;width: 50%;}#sk-container-id-12 div.sk-parallel-item:only-child::after {width: 0;}#sk-container-id-12 div.sk-dashed-wrapped {border: 1px dashed gray;margin: 0 0.4em 0.5em 0.4em;box-sizing: border-box;padding-bottom: 0.4em;background-color: white;}#sk-container-id-12 div.sk-label label {font-family: monospace;font-weight: bold;display: inline-block;line-height: 1.2em;}#sk-container-id-12 div.sk-label-container {text-align: center;}#sk-container-id-12 div.sk-container {/* jupyter's `normalize.less` sets `[hidden] { display: none; }` but bootstrap.min.css set `[hidden] { display: none !important; }` so we also need the `!important` here to be able to override the default hidden behavior on the sphinx rendered scikit-learn.org. See: https://github.com/scikit-learn/scikit-learn/issues/21755 */display: inline-block !important;position: relative;}#sk-container-id-12 div.sk-text-repr-fallback {display: none;}</style><div id=\"sk-container-id-12\" class=\"sk-top-container\"><div class=\"sk-text-repr-fallback\"><pre>GridSearchCV(cv=5, estimator=RandomForestClassifier(),\n",
              "             param_grid={&#x27;max_depth&#x27;: range(1, 12),\n",
              "                         &#x27;n_estimators&#x27;: range(10, 151, 10)})</pre><b>In a Jupyter environment, please rerun this cell to show the HTML representation or trust the notebook. <br />On GitHub, the HTML representation is unable to render, please try loading this page with nbviewer.org.</b></div><div class=\"sk-container\" hidden><div class=\"sk-item sk-dashed-wrapped\"><div class=\"sk-label-container\"><div class=\"sk-label sk-toggleable\"><input class=\"sk-toggleable__control sk-hidden--visually\" id=\"sk-estimator-id-34\" type=\"checkbox\" ><label for=\"sk-estimator-id-34\" class=\"sk-toggleable__label sk-toggleable__label-arrow\">GridSearchCV</label><div class=\"sk-toggleable__content\"><pre>GridSearchCV(cv=5, estimator=RandomForestClassifier(),\n",
              "             param_grid={&#x27;max_depth&#x27;: range(1, 12),\n",
              "                         &#x27;n_estimators&#x27;: range(10, 151, 10)})</pre></div></div></div><div class=\"sk-parallel\"><div class=\"sk-parallel-item\"><div class=\"sk-item\"><div class=\"sk-label-container\"><div class=\"sk-label sk-toggleable\"><input class=\"sk-toggleable__control sk-hidden--visually\" id=\"sk-estimator-id-35\" type=\"checkbox\" ><label for=\"sk-estimator-id-35\" class=\"sk-toggleable__label sk-toggleable__label-arrow\">estimator: RandomForestClassifier</label><div class=\"sk-toggleable__content\"><pre>RandomForestClassifier()</pre></div></div></div><div class=\"sk-serial\"><div class=\"sk-item\"><div class=\"sk-estimator sk-toggleable\"><input class=\"sk-toggleable__control sk-hidden--visually\" id=\"sk-estimator-id-36\" type=\"checkbox\" ><label for=\"sk-estimator-id-36\" class=\"sk-toggleable__label sk-toggleable__label-arrow\">RandomForestClassifier</label><div class=\"sk-toggleable__content\"><pre>RandomForestClassifier()</pre></div></div></div></div></div></div></div></div></div></div>"
            ]
          },
          "metadata": {},
          "execution_count": 133
        }
      ]
    },
    {
      "cell_type": "code",
      "source": [
        "best_forest_general_model = forest_search_general.best_estimator_"
      ],
      "metadata": {
        "id": "Kb4-7m9iz5ue"
      },
      "execution_count": 135,
      "outputs": []
    },
    {
      "cell_type": "code",
      "source": [
        "tree_search_general = GridSearchCV(DecisionTreeClassifier(), grid, cv = 5)\n",
        "tree_search_general .fit(x_train_filtered_general, y_train)"
      ],
      "metadata": {
        "colab": {
          "base_uri": "https://localhost:8080/",
          "height": 118
        },
        "id": "yX4371wfzhjH",
        "outputId": "4afd6a12-728f-4672-af68-56064860c3ea"
      },
      "execution_count": 141,
      "outputs": [
        {
          "output_type": "execute_result",
          "data": {
            "text/plain": [
              "GridSearchCV(cv=5, estimator=DecisionTreeClassifier(),\n",
              "             param_grid={'max_depth': range(1, 12),\n",
              "                         'max_features': range(2, 15),\n",
              "                         'min_samples_leaf': range(5, 20)})"
            ],
            "text/html": [
              "<style>#sk-container-id-14 {color: black;background-color: white;}#sk-container-id-14 pre{padding: 0;}#sk-container-id-14 div.sk-toggleable {background-color: white;}#sk-container-id-14 label.sk-toggleable__label {cursor: pointer;display: block;width: 100%;margin-bottom: 0;padding: 0.3em;box-sizing: border-box;text-align: center;}#sk-container-id-14 label.sk-toggleable__label-arrow:before {content: \"▸\";float: left;margin-right: 0.25em;color: #696969;}#sk-container-id-14 label.sk-toggleable__label-arrow:hover:before {color: black;}#sk-container-id-14 div.sk-estimator:hover label.sk-toggleable__label-arrow:before {color: black;}#sk-container-id-14 div.sk-toggleable__content {max-height: 0;max-width: 0;overflow: hidden;text-align: left;background-color: #f0f8ff;}#sk-container-id-14 div.sk-toggleable__content pre {margin: 0.2em;color: black;border-radius: 0.25em;background-color: #f0f8ff;}#sk-container-id-14 input.sk-toggleable__control:checked~div.sk-toggleable__content {max-height: 200px;max-width: 100%;overflow: auto;}#sk-container-id-14 input.sk-toggleable__control:checked~label.sk-toggleable__label-arrow:before {content: \"▾\";}#sk-container-id-14 div.sk-estimator input.sk-toggleable__control:checked~label.sk-toggleable__label {background-color: #d4ebff;}#sk-container-id-14 div.sk-label input.sk-toggleable__control:checked~label.sk-toggleable__label {background-color: #d4ebff;}#sk-container-id-14 input.sk-hidden--visually {border: 0;clip: rect(1px 1px 1px 1px);clip: rect(1px, 1px, 1px, 1px);height: 1px;margin: -1px;overflow: hidden;padding: 0;position: absolute;width: 1px;}#sk-container-id-14 div.sk-estimator {font-family: monospace;background-color: #f0f8ff;border: 1px dotted black;border-radius: 0.25em;box-sizing: border-box;margin-bottom: 0.5em;}#sk-container-id-14 div.sk-estimator:hover {background-color: #d4ebff;}#sk-container-id-14 div.sk-parallel-item::after {content: \"\";width: 100%;border-bottom: 1px solid gray;flex-grow: 1;}#sk-container-id-14 div.sk-label:hover label.sk-toggleable__label {background-color: #d4ebff;}#sk-container-id-14 div.sk-serial::before {content: \"\";position: absolute;border-left: 1px solid gray;box-sizing: border-box;top: 0;bottom: 0;left: 50%;z-index: 0;}#sk-container-id-14 div.sk-serial {display: flex;flex-direction: column;align-items: center;background-color: white;padding-right: 0.2em;padding-left: 0.2em;position: relative;}#sk-container-id-14 div.sk-item {position: relative;z-index: 1;}#sk-container-id-14 div.sk-parallel {display: flex;align-items: stretch;justify-content: center;background-color: white;position: relative;}#sk-container-id-14 div.sk-item::before, #sk-container-id-14 div.sk-parallel-item::before {content: \"\";position: absolute;border-left: 1px solid gray;box-sizing: border-box;top: 0;bottom: 0;left: 50%;z-index: -1;}#sk-container-id-14 div.sk-parallel-item {display: flex;flex-direction: column;z-index: 1;position: relative;background-color: white;}#sk-container-id-14 div.sk-parallel-item:first-child::after {align-self: flex-end;width: 50%;}#sk-container-id-14 div.sk-parallel-item:last-child::after {align-self: flex-start;width: 50%;}#sk-container-id-14 div.sk-parallel-item:only-child::after {width: 0;}#sk-container-id-14 div.sk-dashed-wrapped {border: 1px dashed gray;margin: 0 0.4em 0.5em 0.4em;box-sizing: border-box;padding-bottom: 0.4em;background-color: white;}#sk-container-id-14 div.sk-label label {font-family: monospace;font-weight: bold;display: inline-block;line-height: 1.2em;}#sk-container-id-14 div.sk-label-container {text-align: center;}#sk-container-id-14 div.sk-container {/* jupyter's `normalize.less` sets `[hidden] { display: none; }` but bootstrap.min.css set `[hidden] { display: none !important; }` so we also need the `!important` here to be able to override the default hidden behavior on the sphinx rendered scikit-learn.org. See: https://github.com/scikit-learn/scikit-learn/issues/21755 */display: inline-block !important;position: relative;}#sk-container-id-14 div.sk-text-repr-fallback {display: none;}</style><div id=\"sk-container-id-14\" class=\"sk-top-container\"><div class=\"sk-text-repr-fallback\"><pre>GridSearchCV(cv=5, estimator=DecisionTreeClassifier(),\n",
              "             param_grid={&#x27;max_depth&#x27;: range(1, 12),\n",
              "                         &#x27;max_features&#x27;: range(2, 15),\n",
              "                         &#x27;min_samples_leaf&#x27;: range(5, 20)})</pre><b>In a Jupyter environment, please rerun this cell to show the HTML representation or trust the notebook. <br />On GitHub, the HTML representation is unable to render, please try loading this page with nbviewer.org.</b></div><div class=\"sk-container\" hidden><div class=\"sk-item sk-dashed-wrapped\"><div class=\"sk-label-container\"><div class=\"sk-label sk-toggleable\"><input class=\"sk-toggleable__control sk-hidden--visually\" id=\"sk-estimator-id-40\" type=\"checkbox\" ><label for=\"sk-estimator-id-40\" class=\"sk-toggleable__label sk-toggleable__label-arrow\">GridSearchCV</label><div class=\"sk-toggleable__content\"><pre>GridSearchCV(cv=5, estimator=DecisionTreeClassifier(),\n",
              "             param_grid={&#x27;max_depth&#x27;: range(1, 12),\n",
              "                         &#x27;max_features&#x27;: range(2, 15),\n",
              "                         &#x27;min_samples_leaf&#x27;: range(5, 20)})</pre></div></div></div><div class=\"sk-parallel\"><div class=\"sk-parallel-item\"><div class=\"sk-item\"><div class=\"sk-label-container\"><div class=\"sk-label sk-toggleable\"><input class=\"sk-toggleable__control sk-hidden--visually\" id=\"sk-estimator-id-41\" type=\"checkbox\" ><label for=\"sk-estimator-id-41\" class=\"sk-toggleable__label sk-toggleable__label-arrow\">estimator: DecisionTreeClassifier</label><div class=\"sk-toggleable__content\"><pre>DecisionTreeClassifier()</pre></div></div></div><div class=\"sk-serial\"><div class=\"sk-item\"><div class=\"sk-estimator sk-toggleable\"><input class=\"sk-toggleable__control sk-hidden--visually\" id=\"sk-estimator-id-42\" type=\"checkbox\" ><label for=\"sk-estimator-id-42\" class=\"sk-toggleable__label sk-toggleable__label-arrow\">DecisionTreeClassifier</label><div class=\"sk-toggleable__content\"><pre>DecisionTreeClassifier()</pre></div></div></div></div></div></div></div></div></div></div>"
            ]
          },
          "metadata": {},
          "execution_count": 141
        }
      ]
    },
    {
      "cell_type": "code",
      "source": [
        "best_tree_general_model = tree_search_general.best_estimator_"
      ],
      "metadata": {
        "id": "QotZoJm7z-D1"
      },
      "execution_count": 143,
      "outputs": []
    },
    {
      "cell_type": "markdown",
      "source": [
        "# Оценка качества построенных моделей"
      ],
      "metadata": {
        "id": "h1k16VJ80SZV"
      }
    },
    {
      "cell_type": "markdown",
      "source": [
        "**№7.1**  Сравнить модели на одинаковом полученном наборе отфильтрованных признаков"
      ],
      "metadata": {
        "id": "QhK65OPJ0XWF"
      }
    },
    {
      "cell_type": "markdown",
      "source": [
        "Для тренировочной выборки"
      ],
      "metadata": {
        "id": "wLVAZfvq0v4-"
      }
    },
    {
      "cell_type": "code",
      "source": [
        "#Дерево решений\n",
        "print(f'Accuracy:{accuracy_score(y_train, best_tree_general_model.predict(x_train_filtered_general))}')\n",
        "print(f'Precision:{precision_score(y_train, best_tree_general_model.predict(x_train_filtered_general))}')\n",
        "print(f'Recall:{recall_score(y_train, best_tree_general_model.predict(x_train_filtered_general))}')\n",
        "print(f'F-measure:{f1_score(y_train, best_tree_general_model.predict(x_train_filtered_general))}')"
      ],
      "metadata": {
        "colab": {
          "base_uri": "https://localhost:8080/"
        },
        "id": "u3uVmhEL0uG2",
        "outputId": "e85bcf65-e00c-4346-e68a-5e965aa8eab6"
      },
      "execution_count": 144,
      "outputs": [
        {
          "output_type": "stream",
          "name": "stdout",
          "text": [
            "Accuracy:0.9507299270072993\n",
            "Precision:0.9065934065934066\n",
            "Recall:0.9428571428571428\n",
            "F-measure:0.9243697478991596\n"
          ]
        }
      ]
    },
    {
      "cell_type": "code",
      "source": [
        "#Случайный лес\n",
        "print(f'Accuracy:{accuracy_score(y_train, best_forest_general_model.predict(x_train_filtered_general))}')\n",
        "print(f'Precision:{precision_score(y_train, best_forest_general_model.predict(x_train_filtered_general))}')\n",
        "print(f'Recall:{recall_score(y_train, best_forest_general_model.predict(x_train_filtered_general))}')\n",
        "print(f'F-measure:{f1_score(y_train, best_forest_general_model.predict(x_train_filtered_general))}')"
      ],
      "metadata": {
        "colab": {
          "base_uri": "https://localhost:8080/"
        },
        "id": "cIr9O8sw02-1",
        "outputId": "f25ea287-3ac3-4c0f-fb64-8d545cf2a4f9"
      },
      "execution_count": 145,
      "outputs": [
        {
          "output_type": "stream",
          "name": "stdout",
          "text": [
            "Accuracy:0.9963503649635036\n",
            "Precision:0.9942857142857143\n",
            "Recall:0.9942857142857143\n",
            "F-measure:0.9942857142857143\n"
          ]
        }
      ]
    },
    {
      "cell_type": "code",
      "source": [
        "#Метод ближайших соседей\n",
        "print(f'Accuracy:{accuracy_score(y_train, best_knn_general_model.predict(x_train_filtered_general))}')\n",
        "print(f'Precision:{precision_score(y_train, best_knn_general_model.predict(x_train_filtered_general))}')\n",
        "print(f'Recall:{recall_score(y_train, best_knn_general_model.predict(x_train_filtered_general))}')\n",
        "print(f'F-measure:{f1_score(y_train, best_knn_general_model.predict(x_train_filtered_general))}')"
      ],
      "metadata": {
        "colab": {
          "base_uri": "https://localhost:8080/"
        },
        "id": "Ti6pSCT505ul",
        "outputId": "c9b7a63e-0b92-4e4e-80a7-b1dfbe3cf637"
      },
      "execution_count": 147,
      "outputs": [
        {
          "output_type": "stream",
          "name": "stdout",
          "text": [
            "Accuracy:0.9452554744525548\n",
            "Precision:0.9289940828402367\n",
            "Recall:0.8971428571428571\n",
            "F-measure:0.9127906976744186\n"
          ]
        }
      ]
    },
    {
      "cell_type": "markdown",
      "source": [
        "Для тестовой выборки"
      ],
      "metadata": {
        "id": "3sXBoIiX0uvd"
      }
    },
    {
      "cell_type": "code",
      "source": [
        "#Дерево решений\n",
        "print(f'Accuracy:{accuracy_score(y_test, best_tree_general_model.predict(x_test_filtered_general))}')\n",
        "print(f'Precision:{precision_score(y_test, best_tree_general_model.predict(x_test_filtered_general))}')\n",
        "print(f'Recall:{recall_score(y_test, best_tree_general_model.predict(x_test_filtered_general))}')\n",
        "print(f'F-measure:{f1_score(y_test, best_tree_general_model.predict(x_test_filtered_general))}')"
      ],
      "metadata": {
        "colab": {
          "base_uri": "https://localhost:8080/"
        },
        "id": "DVwkIuAW1TxO",
        "outputId": "9fd658f4-c2ad-4e7e-930c-0a706b5a6f60"
      },
      "execution_count": 146,
      "outputs": [
        {
          "output_type": "stream",
          "name": "stdout",
          "text": [
            "Accuracy:0.9344262295081968\n",
            "Precision:0.86\n",
            "Recall:0.8958333333333334\n",
            "F-measure:0.8775510204081632\n"
          ]
        }
      ]
    },
    {
      "cell_type": "code",
      "source": [
        "#Случайный лес\n",
        "print(f'Accuracy:{accuracy_score(y_test, best_forest_general_model.predict(x_test_filtered_general))}')\n",
        "print(f'Precision:{precision_score(y_test, best_forest_general_model.predict(x_test_filtered_general))}')\n",
        "print(f'Recall:{recall_score(y_test, best_forest_general_model.predict(x_test_filtered_general))}')\n",
        "print(f'F-measure:{f1_score(y_test, best_forest_general_model.predict(x_test_filtered_general))}')"
      ],
      "metadata": {
        "colab": {
          "base_uri": "https://localhost:8080/"
        },
        "id": "U0MMbX_G1NzM",
        "outputId": "81a1e840-cbc6-4289-dc16-d9006dd330f8"
      },
      "execution_count": 138,
      "outputs": [
        {
          "output_type": "stream",
          "name": "stdout",
          "text": [
            "Accuracy:0.9289617486338798\n",
            "Precision:0.8571428571428571\n",
            "Recall:0.875\n",
            "F-measure:0.8659793814432989\n"
          ]
        }
      ]
    },
    {
      "cell_type": "code",
      "source": [
        "#Метод ближайших соседей\n",
        "print(f'Accuracy:{accuracy_score(y_test, best_knn_general_model.predict(x_test_filtered_general))}')\n",
        "print(f'Precision:{precision_score(y_test, best_knn_general_model.predict(x_test_filtered_general))}')\n",
        "print(f'Recall:{recall_score(y_test, best_knn_general_model.predict(x_test_filtered_general))}')\n",
        "print(f'F-measure:{f1_score(y_test, best_knn_general_model.predict(x_test_filtered_general))}')"
      ],
      "metadata": {
        "colab": {
          "base_uri": "https://localhost:8080/"
        },
        "id": "E0NsyQZQ0fSr",
        "outputId": "56535223-78d3-42d8-9474-fb14635e782a"
      },
      "execution_count": 137,
      "outputs": [
        {
          "output_type": "stream",
          "name": "stdout",
          "text": [
            "Accuracy:0.9234972677595629\n",
            "Precision:0.8695652173913043\n",
            "Recall:0.8333333333333334\n",
            "F-measure:0.851063829787234\n"
          ]
        }
      ]
    },
    {
      "cell_type": "markdown",
      "source": [
        "Для метода ближайших соседей метрики улучшились, для дерева решений - тоже улучшились, для случайного леса - ухудшились."
      ],
      "metadata": {
        "id": "I_zN8Ogy1-l9"
      }
    },
    {
      "cell_type": "markdown",
      "source": [
        "**№7.2** Визуализировать любое полученное дерево решений"
      ],
      "metadata": {
        "id": "VPFj2s4L2Xs8"
      }
    },
    {
      "cell_type": "code",
      "source": [
        "from sklearn.tree import export_graphviz\n",
        "\n",
        "export_graphviz(\n",
        "    best_tree_general_model,\n",
        "    feature_names=x_test_filtered_general.columns,\n",
        "    class_names=['Not_success_day','Success_day'],\n",
        "    out_file = 'tree.dot',\n",
        "    filled = True\n",
        ")\n"
      ],
      "metadata": {
        "id": "_h33-Pu52c0s"
      },
      "execution_count": 151,
      "outputs": []
    },
    {
      "cell_type": "markdown",
      "source": [
        "![image.png](data:image/png;base64,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)"
      ],
      "metadata": {
        "id": "BoXDWtBC3ois"
      }
    },
    {
      "cell_type": "markdown",
      "source": [
        "**№7.3** Сравнить лучшие модели `KNeighborsClassifier`, `DecisionTreeClassifier`, `RandomForestClassifier` на тестовой выборке"
      ],
      "metadata": {
        "id": "QTPwsoTz3ps0"
      }
    },
    {
      "cell_type": "markdown",
      "source": [
        "Все модели ранее были сравнены на тестовой выборке в том числе. Лучшую точность удалось достигнуть с помощью модели дерева решений на наборе призноков, полученных в пункте 6 (путем объединения множеств отфильтрованных признаков каждой модели)"
      ],
      "metadata": {
        "id": "brCYOLyF30Nz"
      }
    }
  ]
}