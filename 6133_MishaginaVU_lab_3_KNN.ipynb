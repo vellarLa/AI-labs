{
  "nbformat": 4,
  "nbformat_minor": 0,
  "metadata": {
    "colab": {
      "provenance": []
    },
    "kernelspec": {
      "name": "python3",
      "display_name": "Python 3"
    },
    "language_info": {
      "name": "python"
    }
  },
  "cells": [
    {
      "cell_type": "markdown",
      "metadata": {
        "id": "5tUiPMiDtTiL"
      },
      "source": [
        "**Лабораторная работа №3: KNN**\n",
        "\n",
        "**Выполнила: Мишагина Валерия 6133**\n",
        "\n"
      ]
    },
    {
      "cell_type": "markdown",
      "metadata": {
        "id": "Rx56yf9qOCmF"
      },
      "source": [
        "Датасет -  [2024 TMDB Latest Movie Data  ](https://www.kaggle.com/datasets/hafiznouman786/2024-tmdb-latest-movie-data?resource=download)"
      ]
    },
    {
      "cell_type": "markdown",
      "metadata": {
        "id": "VmZfVt6MOh76"
      },
      "source": [
        "**№1.** Считать в `pandas.DataFrame` любой источник данных: CSV, JSON, Excel-файл, HTML-таблицу и т.п."
      ]
    },
    {
      "cell_type": "code",
      "execution_count": 179,
      "metadata": {
        "id": "DsBvAnoCs8N_"
      },
      "outputs": [],
      "source": [
        "import pandas as pd\n",
        "import random\n",
        "import numpy as np\n",
        "from matplotlib import pyplot as plt\n",
        "data = pd.read_csv('movies2.csv')"
      ]
    },
    {
      "cell_type": "code",
      "source": [
        "from sklearn.model_selection import train_test_split\n",
        "from sklearn.neighbors import KNeighborsClassifier\n",
        "from sklearn.metrics import accuracy_score, precision_score, recall_score, f1_score, classification_report\n",
        "from sklearn.preprocessing import StandardScaler\n",
        "import seaborn as sns\n",
        "from sklearn.model_selection import cross_val_score\n",
        "from matplotlib import pyplot as plt"
      ],
      "metadata": {
        "id": "tp-TAX2UzXTs"
      },
      "execution_count": 128,
      "outputs": []
    },
    {
      "cell_type": "markdown",
      "metadata": {
        "id": "uGJ5daSWPgfY"
      },
      "source": [
        "**№2.** Привести описание датасета."
      ]
    },
    {
      "cell_type": "markdown",
      "metadata": {
        "id": "q-kC9JpdQ0fY"
      },
      "source": [
        "Описание столбцов датасета [2024 TMDB Latest Movie Data  ](https://www.kaggle.com/datasets/hafiznouman786/2024-tmdb-latest-movie-data?resource=download)\n",
        "\n",
        "* movie_id: Unique identifier for each movie.\n",
        "* title: Title of the movie.\n",
        "* release_date: Release date of the movie.\n",
        "* genre: Genre(s) of the movie.\n",
        "* overview: Brief summary or synopsis of the movie.\n",
        "* popularity: Popularity score of the movie.\n",
        "* vote_average: Average rating of the movie.\n",
        "* vote_count: Number of votes the movie has received.\n",
        "\n"
      ]
    },
    {
      "cell_type": "code",
      "execution_count": 180,
      "metadata": {
        "colab": {
          "base_uri": "https://localhost:8080/"
        },
        "id": "xksgZLJpH6J4",
        "outputId": "b960eb1b-ccbc-49b6-c85c-bf6c861a7a40"
      },
      "outputs": [
        {
          "output_type": "stream",
          "name": "stdout",
          "text": [
            "<class 'pandas.core.frame.DataFrame'>\n",
            "RangeIndex: 9400 entries, 0 to 9399\n",
            "Data columns (total 8 columns):\n",
            " #   Column          Non-Null Count  Dtype  \n",
            "---  ------          --------------  -----  \n",
            " 0   id              9400 non-null   int64  \n",
            " 1   original_title  9400 non-null   object \n",
            " 2   overview        9399 non-null   object \n",
            " 3   release_date    9400 non-null   object \n",
            " 4   popularity      9400 non-null   float64\n",
            " 5   vote_average    9400 non-null   float64\n",
            " 6   vote_count      9400 non-null   int64  \n",
            " 7   genre_names     9400 non-null   object \n",
            "dtypes: float64(2), int64(2), object(4)\n",
            "memory usage: 587.6+ KB\n"
          ]
        }
      ],
      "source": [
        "# информация о данных в DataFrame, тип данных признаков\n",
        "data.info()"
      ]
    },
    {
      "cell_type": "code",
      "execution_count": 181,
      "metadata": {
        "colab": {
          "base_uri": "https://localhost:8080/"
        },
        "id": "FeM2BGUMH9X4",
        "outputId": "1810a32f-1bbe-4fb5-efd2-580770e7f2d8"
      },
      "outputs": [
        {
          "output_type": "execute_result",
          "data": {
            "text/plain": [
              "(9400, 8)"
            ]
          },
          "metadata": {},
          "execution_count": 181
        }
      ],
      "source": [
        "# размерность датасета\n",
        "data.shape"
      ]
    },
    {
      "cell_type": "markdown",
      "source": [
        "# Бинарная классификация"
      ],
      "metadata": {
        "id": "p6DwREnkG9Hi"
      }
    },
    {
      "cell_type": "markdown",
      "source": [
        "**Осуществить предобработку данных (избавиться от null, убрать некоторые признаки и т.п.) - \"подчистить данные\"**\n",
        "\n",
        "\n"
      ],
      "metadata": {
        "id": "xWqOqW7Audjf"
      }
    },
    {
      "cell_type": "code",
      "execution_count": 182,
      "metadata": {
        "id": "J6UYpb6BbAAK"
      },
      "outputs": [],
      "source": [
        "# загрубим значение даты выхода для группировке по годам\n",
        "data['release_year'] = data[\"release_date\"].apply(lambda e:  str(round(int(e[0:4]), -1)) + '-e')"
      ]
    },
    {
      "cell_type": "code",
      "execution_count": 183,
      "metadata": {
        "colab": {
          "base_uri": "https://localhost:8080/"
        },
        "id": "2HjuVpW6nRFg",
        "outputId": "4591fa06-c9c0-4f7b-c86c-9d0b59173180"
      },
      "outputs": [
        {
          "output_type": "stream",
          "name": "stderr",
          "text": [
            "<ipython-input-183-76eda0bdf38b>:3: SettingWithCopyWarning: \n",
            "A value is trying to be set on a copy of a slice from a DataFrame.\n",
            "Try using .loc[row_indexer,col_indexer] = value instead\n",
            "\n",
            "See the caveats in the documentation: https://pandas.pydata.org/pandas-docs/stable/user_guide/indexing.html#returning-a-view-versus-a-copy\n",
            "  data['main_genre'] = data[\"genre_names\"].apply(lambda e: e.split('\\'')[1])\n"
          ]
        }
      ],
      "source": [
        "#загрубим значения датасета. Выделим среди жанров фильма \"главный\"\n",
        "data = data[data['genre_names'] != '[]']\n",
        "data['main_genre'] = data[\"genre_names\"].apply(lambda e: e.split('\\'')[1])"
      ]
    },
    {
      "cell_type": "code",
      "source": [
        "# округление 'popularity' до десятков\n",
        "data['popularity'] = data[\"popularity\"].apply(lambda e:  round(int(e), -1))"
      ],
      "metadata": {
        "id": "X_oKhLKHQg_W"
      },
      "execution_count": 184,
      "outputs": []
    },
    {
      "cell_type": "code",
      "source": [
        "data.isna().sum()"
      ],
      "metadata": {
        "colab": {
          "base_uri": "https://localhost:8080/"
        },
        "id": "5th4c1C1NgfF",
        "outputId": "60a08003-ebf9-41b4-c0fb-ec99cc0f9262"
      },
      "execution_count": 185,
      "outputs": [
        {
          "output_type": "execute_result",
          "data": {
            "text/plain": [
              "id                0\n",
              "original_title    0\n",
              "overview          1\n",
              "release_date      0\n",
              "popularity        0\n",
              "vote_average      0\n",
              "vote_count        0\n",
              "genre_names       0\n",
              "release_year      0\n",
              "main_genre        0\n",
              "dtype: int64"
            ]
          },
          "metadata": {},
          "execution_count": 185
        }
      ]
    },
    {
      "cell_type": "code",
      "source": [
        "# избавляемся от пропусков\n",
        "data = data.dropna(subset=[\"overview\"])"
      ],
      "metadata": {
        "id": "vpd54mkLSMFd"
      },
      "execution_count": 186,
      "outputs": []
    },
    {
      "cell_type": "code",
      "execution_count": 187,
      "metadata": {
        "id": "9bIOgwMqWMuH"
      },
      "outputs": [],
      "source": [
        "data['is_high_rating'] = data[\"vote_average\"].apply(lambda e:   e > 6)"
      ]
    },
    {
      "cell_type": "code",
      "source": [
        "data.drop('overview', axis=1, inplace=True)\n",
        "data.drop('original_title', axis=1, inplace=True)\n",
        "data.drop('release_date', axis=1, inplace=True)\n",
        "data.drop('genre_names', axis=1, inplace=True)\n",
        "data.drop('id', axis=1, inplace=True)"
      ],
      "metadata": {
        "id": "bpCXhRpuux1g"
      },
      "execution_count": 188,
      "outputs": []
    },
    {
      "cell_type": "code",
      "source": [
        "data.info()"
      ],
      "metadata": {
        "colab": {
          "base_uri": "https://localhost:8080/"
        },
        "id": "f-b6TMhmvcCb",
        "outputId": "5d207f0c-d047-47f7-92eb-7ef121d2ae56"
      },
      "execution_count": 189,
      "outputs": [
        {
          "output_type": "stream",
          "name": "stdout",
          "text": [
            "<class 'pandas.core.frame.DataFrame'>\n",
            "Index: 9396 entries, 0 to 9399\n",
            "Data columns (total 6 columns):\n",
            " #   Column          Non-Null Count  Dtype  \n",
            "---  ------          --------------  -----  \n",
            " 0   popularity      9396 non-null   int64  \n",
            " 1   vote_average    9396 non-null   float64\n",
            " 2   vote_count      9396 non-null   int64  \n",
            " 3   release_year    9396 non-null   object \n",
            " 4   main_genre      9396 non-null   object \n",
            " 5   is_high_rating  9396 non-null   bool   \n",
            "dtypes: bool(1), float64(1), int64(2), object(2)\n",
            "memory usage: 449.6+ KB\n"
          ]
        }
      ]
    },
    {
      "cell_type": "markdown",
      "source": [
        "Будем определять is_high_rating по оставльным признакам"
      ],
      "metadata": {
        "id": "BUyzL5nlwjL8"
      }
    },
    {
      "cell_type": "markdown",
      "source": [
        "**Закодировать категориальные признаки при необходимости**"
      ],
      "metadata": {
        "id": "6GttUA1uvhnZ"
      }
    },
    {
      "cell_type": "markdown",
      "source": [
        "Закодируем категориальные признаки Label Encoder'ом (уникальных значений больше 10)"
      ],
      "metadata": {
        "id": "XMlN9yBfyjMv"
      }
    },
    {
      "cell_type": "code",
      "source": [
        "category_cols = ['release_year', 'main_genre']\n",
        "dicts = []\n",
        "for col in category_cols:\n",
        "  print (col)\n",
        "  print(len(data[col].unique()))\n",
        "  keys, values = pd.factorize(data[col].unique())\n",
        "  d = dict(zip(values, keys))\n",
        "  data[col] = data[col].replace(d)\n",
        "  dicts.append(d)"
      ],
      "metadata": {
        "colab": {
          "base_uri": "https://localhost:8080/"
        },
        "id": "5Gi5pfiUvl1I",
        "outputId": "63f39fc3-56bb-49fc-e24f-09398959d390"
      },
      "execution_count": 190,
      "outputs": [
        {
          "output_type": "stream",
          "name": "stdout",
          "text": [
            "release_year\n",
            "12\n",
            "main_genre\n",
            "18\n"
          ]
        }
      ]
    },
    {
      "cell_type": "code",
      "source": [
        "data"
      ],
      "metadata": {
        "colab": {
          "base_uri": "https://localhost:8080/",
          "height": 423
        },
        "id": "xrvhUUnrxiFL",
        "outputId": "f0d69dab-e4fa-4c9f-fdaa-73fd1b461bbb"
      },
      "execution_count": 191,
      "outputs": [
        {
          "output_type": "execute_result",
          "data": {
            "text/plain": [
              "      popularity  vote_average  vote_count  release_year  main_genre  \\\n",
              "0            120         8.705       26221             0           0   \n",
              "1            170         8.695       19877             1           0   \n",
              "2            160         8.576       12001             1           0   \n",
              "3             80         8.567       15409             0           0   \n",
              "4             80         8.541        8276             2           0   \n",
              "...          ...           ...         ...           ...         ...   \n",
              "9395          10         3.724         346             3          10   \n",
              "9396          10         3.701        1317             5          10   \n",
              "9397          20         3.681         329             3           1   \n",
              "9398          10         3.300         441             7           3   \n",
              "9399          20         3.270         814             3          15   \n",
              "\n",
              "      is_high_rating  \n",
              "0               True  \n",
              "1               True  \n",
              "2               True  \n",
              "3               True  \n",
              "4               True  \n",
              "...              ...  \n",
              "9395           False  \n",
              "9396           False  \n",
              "9397           False  \n",
              "9398           False  \n",
              "9399           False  \n",
              "\n",
              "[9396 rows x 6 columns]"
            ],
            "text/html": [
              "\n",
              "  <div id=\"df-958aa479-e340-4083-824a-ae96dceb5d35\" class=\"colab-df-container\">\n",
              "    <div>\n",
              "<style scoped>\n",
              "    .dataframe tbody tr th:only-of-type {\n",
              "        vertical-align: middle;\n",
              "    }\n",
              "\n",
              "    .dataframe tbody tr th {\n",
              "        vertical-align: top;\n",
              "    }\n",
              "\n",
              "    .dataframe thead th {\n",
              "        text-align: right;\n",
              "    }\n",
              "</style>\n",
              "<table border=\"1\" class=\"dataframe\">\n",
              "  <thead>\n",
              "    <tr style=\"text-align: right;\">\n",
              "      <th></th>\n",
              "      <th>popularity</th>\n",
              "      <th>vote_average</th>\n",
              "      <th>vote_count</th>\n",
              "      <th>release_year</th>\n",
              "      <th>main_genre</th>\n",
              "      <th>is_high_rating</th>\n",
              "    </tr>\n",
              "  </thead>\n",
              "  <tbody>\n",
              "    <tr>\n",
              "      <th>0</th>\n",
              "      <td>120</td>\n",
              "      <td>8.705</td>\n",
              "      <td>26221</td>\n",
              "      <td>0</td>\n",
              "      <td>0</td>\n",
              "      <td>True</td>\n",
              "    </tr>\n",
              "    <tr>\n",
              "      <th>1</th>\n",
              "      <td>170</td>\n",
              "      <td>8.695</td>\n",
              "      <td>19877</td>\n",
              "      <td>1</td>\n",
              "      <td>0</td>\n",
              "      <td>True</td>\n",
              "    </tr>\n",
              "    <tr>\n",
              "      <th>2</th>\n",
              "      <td>160</td>\n",
              "      <td>8.576</td>\n",
              "      <td>12001</td>\n",
              "      <td>1</td>\n",
              "      <td>0</td>\n",
              "      <td>True</td>\n",
              "    </tr>\n",
              "    <tr>\n",
              "      <th>3</th>\n",
              "      <td>80</td>\n",
              "      <td>8.567</td>\n",
              "      <td>15409</td>\n",
              "      <td>0</td>\n",
              "      <td>0</td>\n",
              "      <td>True</td>\n",
              "    </tr>\n",
              "    <tr>\n",
              "      <th>4</th>\n",
              "      <td>80</td>\n",
              "      <td>8.541</td>\n",
              "      <td>8276</td>\n",
              "      <td>2</td>\n",
              "      <td>0</td>\n",
              "      <td>True</td>\n",
              "    </tr>\n",
              "    <tr>\n",
              "      <th>...</th>\n",
              "      <td>...</td>\n",
              "      <td>...</td>\n",
              "      <td>...</td>\n",
              "      <td>...</td>\n",
              "      <td>...</td>\n",
              "      <td>...</td>\n",
              "    </tr>\n",
              "    <tr>\n",
              "      <th>9395</th>\n",
              "      <td>10</td>\n",
              "      <td>3.724</td>\n",
              "      <td>346</td>\n",
              "      <td>3</td>\n",
              "      <td>10</td>\n",
              "      <td>False</td>\n",
              "    </tr>\n",
              "    <tr>\n",
              "      <th>9396</th>\n",
              "      <td>10</td>\n",
              "      <td>3.701</td>\n",
              "      <td>1317</td>\n",
              "      <td>5</td>\n",
              "      <td>10</td>\n",
              "      <td>False</td>\n",
              "    </tr>\n",
              "    <tr>\n",
              "      <th>9397</th>\n",
              "      <td>20</td>\n",
              "      <td>3.681</td>\n",
              "      <td>329</td>\n",
              "      <td>3</td>\n",
              "      <td>1</td>\n",
              "      <td>False</td>\n",
              "    </tr>\n",
              "    <tr>\n",
              "      <th>9398</th>\n",
              "      <td>10</td>\n",
              "      <td>3.300</td>\n",
              "      <td>441</td>\n",
              "      <td>7</td>\n",
              "      <td>3</td>\n",
              "      <td>False</td>\n",
              "    </tr>\n",
              "    <tr>\n",
              "      <th>9399</th>\n",
              "      <td>20</td>\n",
              "      <td>3.270</td>\n",
              "      <td>814</td>\n",
              "      <td>3</td>\n",
              "      <td>15</td>\n",
              "      <td>False</td>\n",
              "    </tr>\n",
              "  </tbody>\n",
              "</table>\n",
              "<p>9396 rows × 6 columns</p>\n",
              "</div>\n",
              "    <div class=\"colab-df-buttons\">\n",
              "\n",
              "  <div class=\"colab-df-container\">\n",
              "    <button class=\"colab-df-convert\" onclick=\"convertToInteractive('df-958aa479-e340-4083-824a-ae96dceb5d35')\"\n",
              "            title=\"Convert this dataframe to an interactive table.\"\n",
              "            style=\"display:none;\">\n",
              "\n",
              "  <svg xmlns=\"http://www.w3.org/2000/svg\" height=\"24px\" viewBox=\"0 -960 960 960\">\n",
              "    <path d=\"M120-120v-720h720v720H120Zm60-500h600v-160H180v160Zm220 220h160v-160H400v160Zm0 220h160v-160H400v160ZM180-400h160v-160H180v160Zm440 0h160v-160H620v160ZM180-180h160v-160H180v160Zm440 0h160v-160H620v160Z\"/>\n",
              "  </svg>\n",
              "    </button>\n",
              "\n",
              "  <style>\n",
              "    .colab-df-container {\n",
              "      display:flex;\n",
              "      gap: 12px;\n",
              "    }\n",
              "\n",
              "    .colab-df-convert {\n",
              "      background-color: #E8F0FE;\n",
              "      border: none;\n",
              "      border-radius: 50%;\n",
              "      cursor: pointer;\n",
              "      display: none;\n",
              "      fill: #1967D2;\n",
              "      height: 32px;\n",
              "      padding: 0 0 0 0;\n",
              "      width: 32px;\n",
              "    }\n",
              "\n",
              "    .colab-df-convert:hover {\n",
              "      background-color: #E2EBFA;\n",
              "      box-shadow: 0px 1px 2px rgba(60, 64, 67, 0.3), 0px 1px 3px 1px rgba(60, 64, 67, 0.15);\n",
              "      fill: #174EA6;\n",
              "    }\n",
              "\n",
              "    .colab-df-buttons div {\n",
              "      margin-bottom: 4px;\n",
              "    }\n",
              "\n",
              "    [theme=dark] .colab-df-convert {\n",
              "      background-color: #3B4455;\n",
              "      fill: #D2E3FC;\n",
              "    }\n",
              "\n",
              "    [theme=dark] .colab-df-convert:hover {\n",
              "      background-color: #434B5C;\n",
              "      box-shadow: 0px 1px 3px 1px rgba(0, 0, 0, 0.15);\n",
              "      filter: drop-shadow(0px 1px 2px rgba(0, 0, 0, 0.3));\n",
              "      fill: #FFFFFF;\n",
              "    }\n",
              "  </style>\n",
              "\n",
              "    <script>\n",
              "      const buttonEl =\n",
              "        document.querySelector('#df-958aa479-e340-4083-824a-ae96dceb5d35 button.colab-df-convert');\n",
              "      buttonEl.style.display =\n",
              "        google.colab.kernel.accessAllowed ? 'block' : 'none';\n",
              "\n",
              "      async function convertToInteractive(key) {\n",
              "        const element = document.querySelector('#df-958aa479-e340-4083-824a-ae96dceb5d35');\n",
              "        const dataTable =\n",
              "          await google.colab.kernel.invokeFunction('convertToInteractive',\n",
              "                                                    [key], {});\n",
              "        if (!dataTable) return;\n",
              "\n",
              "        const docLinkHtml = 'Like what you see? Visit the ' +\n",
              "          '<a target=\"_blank\" href=https://colab.research.google.com/notebooks/data_table.ipynb>data table notebook</a>'\n",
              "          + ' to learn more about interactive tables.';\n",
              "        element.innerHTML = '';\n",
              "        dataTable['output_type'] = 'display_data';\n",
              "        await google.colab.output.renderOutput(dataTable, element);\n",
              "        const docLink = document.createElement('div');\n",
              "        docLink.innerHTML = docLinkHtml;\n",
              "        element.appendChild(docLink);\n",
              "      }\n",
              "    </script>\n",
              "  </div>\n",
              "\n",
              "\n",
              "<div id=\"df-634f02d0-19df-4f85-bd8d-6556a4729d7f\">\n",
              "  <button class=\"colab-df-quickchart\" onclick=\"quickchart('df-634f02d0-19df-4f85-bd8d-6556a4729d7f')\"\n",
              "            title=\"Suggest charts\"\n",
              "            style=\"display:none;\">\n",
              "\n",
              "<svg xmlns=\"http://www.w3.org/2000/svg\" height=\"24px\"viewBox=\"0 0 24 24\"\n",
              "     width=\"24px\">\n",
              "    <g>\n",
              "        <path d=\"M19 3H5c-1.1 0-2 .9-2 2v14c0 1.1.9 2 2 2h14c1.1 0 2-.9 2-2V5c0-1.1-.9-2-2-2zM9 17H7v-7h2v7zm4 0h-2V7h2v10zm4 0h-2v-4h2v4z\"/>\n",
              "    </g>\n",
              "</svg>\n",
              "  </button>\n",
              "\n",
              "<style>\n",
              "  .colab-df-quickchart {\n",
              "      --bg-color: #E8F0FE;\n",
              "      --fill-color: #1967D2;\n",
              "      --hover-bg-color: #E2EBFA;\n",
              "      --hover-fill-color: #174EA6;\n",
              "      --disabled-fill-color: #AAA;\n",
              "      --disabled-bg-color: #DDD;\n",
              "  }\n",
              "\n",
              "  [theme=dark] .colab-df-quickchart {\n",
              "      --bg-color: #3B4455;\n",
              "      --fill-color: #D2E3FC;\n",
              "      --hover-bg-color: #434B5C;\n",
              "      --hover-fill-color: #FFFFFF;\n",
              "      --disabled-bg-color: #3B4455;\n",
              "      --disabled-fill-color: #666;\n",
              "  }\n",
              "\n",
              "  .colab-df-quickchart {\n",
              "    background-color: var(--bg-color);\n",
              "    border: none;\n",
              "    border-radius: 50%;\n",
              "    cursor: pointer;\n",
              "    display: none;\n",
              "    fill: var(--fill-color);\n",
              "    height: 32px;\n",
              "    padding: 0;\n",
              "    width: 32px;\n",
              "  }\n",
              "\n",
              "  .colab-df-quickchart:hover {\n",
              "    background-color: var(--hover-bg-color);\n",
              "    box-shadow: 0 1px 2px rgba(60, 64, 67, 0.3), 0 1px 3px 1px rgba(60, 64, 67, 0.15);\n",
              "    fill: var(--button-hover-fill-color);\n",
              "  }\n",
              "\n",
              "  .colab-df-quickchart-complete:disabled,\n",
              "  .colab-df-quickchart-complete:disabled:hover {\n",
              "    background-color: var(--disabled-bg-color);\n",
              "    fill: var(--disabled-fill-color);\n",
              "    box-shadow: none;\n",
              "  }\n",
              "\n",
              "  .colab-df-spinner {\n",
              "    border: 2px solid var(--fill-color);\n",
              "    border-color: transparent;\n",
              "    border-bottom-color: var(--fill-color);\n",
              "    animation:\n",
              "      spin 1s steps(1) infinite;\n",
              "  }\n",
              "\n",
              "  @keyframes spin {\n",
              "    0% {\n",
              "      border-color: transparent;\n",
              "      border-bottom-color: var(--fill-color);\n",
              "      border-left-color: var(--fill-color);\n",
              "    }\n",
              "    20% {\n",
              "      border-color: transparent;\n",
              "      border-left-color: var(--fill-color);\n",
              "      border-top-color: var(--fill-color);\n",
              "    }\n",
              "    30% {\n",
              "      border-color: transparent;\n",
              "      border-left-color: var(--fill-color);\n",
              "      border-top-color: var(--fill-color);\n",
              "      border-right-color: var(--fill-color);\n",
              "    }\n",
              "    40% {\n",
              "      border-color: transparent;\n",
              "      border-right-color: var(--fill-color);\n",
              "      border-top-color: var(--fill-color);\n",
              "    }\n",
              "    60% {\n",
              "      border-color: transparent;\n",
              "      border-right-color: var(--fill-color);\n",
              "    }\n",
              "    80% {\n",
              "      border-color: transparent;\n",
              "      border-right-color: var(--fill-color);\n",
              "      border-bottom-color: var(--fill-color);\n",
              "    }\n",
              "    90% {\n",
              "      border-color: transparent;\n",
              "      border-bottom-color: var(--fill-color);\n",
              "    }\n",
              "  }\n",
              "</style>\n",
              "\n",
              "  <script>\n",
              "    async function quickchart(key) {\n",
              "      const quickchartButtonEl =\n",
              "        document.querySelector('#' + key + ' button');\n",
              "      quickchartButtonEl.disabled = true;  // To prevent multiple clicks.\n",
              "      quickchartButtonEl.classList.add('colab-df-spinner');\n",
              "      try {\n",
              "        const charts = await google.colab.kernel.invokeFunction(\n",
              "            'suggestCharts', [key], {});\n",
              "      } catch (error) {\n",
              "        console.error('Error during call to suggestCharts:', error);\n",
              "      }\n",
              "      quickchartButtonEl.classList.remove('colab-df-spinner');\n",
              "      quickchartButtonEl.classList.add('colab-df-quickchart-complete');\n",
              "    }\n",
              "    (() => {\n",
              "      let quickchartButtonEl =\n",
              "        document.querySelector('#df-634f02d0-19df-4f85-bd8d-6556a4729d7f button');\n",
              "      quickchartButtonEl.style.display =\n",
              "        google.colab.kernel.accessAllowed ? 'block' : 'none';\n",
              "    })();\n",
              "  </script>\n",
              "</div>\n",
              "    </div>\n",
              "  </div>\n"
            ],
            "application/vnd.google.colaboratory.intrinsic+json": {
              "type": "dataframe",
              "variable_name": "data",
              "summary": "{\n  \"name\": \"data\",\n  \"rows\": 9396,\n  \"fields\": [\n    {\n      \"column\": \"popularity\",\n      \"properties\": {\n        \"dtype\": \"number\",\n        \"std\": 90,\n        \"min\": 0,\n        \"max\": 3630,\n        \"num_unique_values\": 73,\n        \"samples\": [\n          30,\n          3150,\n          50\n        ],\n        \"semantic_type\": \"\",\n        \"description\": \"\"\n      }\n    },\n    {\n      \"column\": \"vote_average\",\n      \"properties\": {\n        \"dtype\": \"number\",\n        \"std\": 0.7821165584266863,\n        \"min\": 3.27,\n        \"max\": 8.705,\n        \"num_unique_values\": 2948,\n        \"samples\": [\n          7.553,\n          6.88,\n          4.896\n        ],\n        \"semantic_type\": \"\",\n        \"description\": \"\"\n      }\n    },\n    {\n      \"column\": \"vote_count\",\n      \"properties\": {\n        \"dtype\": \"number\",\n        \"std\": 3092,\n        \"min\": 300,\n        \"max\": 35768,\n        \"num_unique_values\": 3428,\n        \"samples\": [\n          1367,\n          4427,\n          2871\n        ],\n        \"semantic_type\": \"\",\n        \"description\": \"\"\n      }\n    },\n    {\n      \"column\": \"release_year\",\n      \"properties\": {\n        \"dtype\": \"number\",\n        \"std\": 1,\n        \"min\": 0,\n        \"max\": 11,\n        \"num_unique_values\": 12,\n        \"samples\": [\n          10,\n          9,\n          0\n        ],\n        \"semantic_type\": \"\",\n        \"description\": \"\"\n      }\n    },\n    {\n      \"column\": \"main_genre\",\n      \"properties\": {\n        \"dtype\": \"number\",\n        \"std\": 4,\n        \"min\": 0,\n        \"max\": 17,\n        \"num_unique_values\": 18,\n        \"samples\": [\n          0,\n          1,\n          8\n        ],\n        \"semantic_type\": \"\",\n        \"description\": \"\"\n      }\n    },\n    {\n      \"column\": \"is_high_rating\",\n      \"properties\": {\n        \"dtype\": \"boolean\",\n        \"num_unique_values\": 2,\n        \"samples\": [\n          false,\n          true\n        ],\n        \"semantic_type\": \"\",\n        \"description\": \"\"\n      }\n    }\n  ]\n}"
            }
          },
          "metadata": {},
          "execution_count": 191
        }
      ]
    },
    {
      "cell_type": "markdown",
      "source": [
        "**Выбрать какое-нибудь значение гиперпараметра `k`**\n",
        ""
      ],
      "metadata": {
        "id": "KuclgltZy2Mp"
      }
    },
    {
      "cell_type": "code",
      "source": [
        "k = 3"
      ],
      "metadata": {
        "id": "dwIQx5GqzHc1"
      },
      "execution_count": 192,
      "outputs": []
    },
    {
      "cell_type": "markdown",
      "source": [
        "**Разбить выборку на обучающую и тестовую**"
      ],
      "metadata": {
        "id": "JSsGGO5HzFB_"
      }
    },
    {
      "cell_type": "code",
      "source": [
        "x = data.drop('is_high_rating', axis=1)\n",
        "y = data['is_high_rating']\n",
        "x_train, x_test, y_train, y_test = train_test_split(x, y, train_size=0.75)"
      ],
      "metadata": {
        "id": "ozb3y2eRzNdw"
      },
      "execution_count": 193,
      "outputs": []
    },
    {
      "cell_type": "code",
      "source": [
        "# размерности выборок\n",
        "print(f\"X_train shape: {x_train.shape}\")\n",
        "print(f\"y_train shape: {y_train.shape}\")\n",
        "print(f\"X_test shape: {x_test.shape}\")\n",
        "print(f\"y_test shape: {y_test.shape}\")"
      ],
      "metadata": {
        "colab": {
          "base_uri": "https://localhost:8080/"
        },
        "id": "t1XtJMdwznfa",
        "outputId": "601e9722-f275-413d-f6d1-ff6121fa009a"
      },
      "execution_count": 194,
      "outputs": [
        {
          "output_type": "stream",
          "name": "stdout",
          "text": [
            "X_train shape: (7047, 5)\n",
            "y_train shape: (7047,)\n",
            "X_test shape: (2349, 5)\n",
            "y_test shape: (2349,)\n"
          ]
        }
      ]
    },
    {
      "cell_type": "code",
      "source": [
        "cols = list(x_train.columns)"
      ],
      "metadata": {
        "id": "6vy31OXD3T4J"
      },
      "execution_count": 195,
      "outputs": []
    },
    {
      "cell_type": "markdown",
      "source": [
        "**Осуществить бинарную классификацию**\n",
        "\n"
      ],
      "metadata": {
        "id": "DvlwBek2zzOb"
      }
    },
    {
      "cell_type": "code",
      "source": [
        "model = KNeighborsClassifier(n_neighbors=k, metric='euclidean')\n",
        "# обучение\n",
        "model.fit(x_train, y_train)"
      ],
      "metadata": {
        "colab": {
          "base_uri": "https://localhost:8080/",
          "height": 74
        },
        "id": "yuydEHQt0jxf",
        "outputId": "0eadc19c-8eb4-45bb-c430-a52750d94b27"
      },
      "execution_count": 196,
      "outputs": [
        {
          "output_type": "execute_result",
          "data": {
            "text/plain": [
              "KNeighborsClassifier(metric='euclidean', n_neighbors=3)"
            ],
            "text/html": [
              "<style>#sk-container-id-14 {color: black;background-color: white;}#sk-container-id-14 pre{padding: 0;}#sk-container-id-14 div.sk-toggleable {background-color: white;}#sk-container-id-14 label.sk-toggleable__label {cursor: pointer;display: block;width: 100%;margin-bottom: 0;padding: 0.3em;box-sizing: border-box;text-align: center;}#sk-container-id-14 label.sk-toggleable__label-arrow:before {content: \"▸\";float: left;margin-right: 0.25em;color: #696969;}#sk-container-id-14 label.sk-toggleable__label-arrow:hover:before {color: black;}#sk-container-id-14 div.sk-estimator:hover label.sk-toggleable__label-arrow:before {color: black;}#sk-container-id-14 div.sk-toggleable__content {max-height: 0;max-width: 0;overflow: hidden;text-align: left;background-color: #f0f8ff;}#sk-container-id-14 div.sk-toggleable__content pre {margin: 0.2em;color: black;border-radius: 0.25em;background-color: #f0f8ff;}#sk-container-id-14 input.sk-toggleable__control:checked~div.sk-toggleable__content {max-height: 200px;max-width: 100%;overflow: auto;}#sk-container-id-14 input.sk-toggleable__control:checked~label.sk-toggleable__label-arrow:before {content: \"▾\";}#sk-container-id-14 div.sk-estimator input.sk-toggleable__control:checked~label.sk-toggleable__label {background-color: #d4ebff;}#sk-container-id-14 div.sk-label input.sk-toggleable__control:checked~label.sk-toggleable__label {background-color: #d4ebff;}#sk-container-id-14 input.sk-hidden--visually {border: 0;clip: rect(1px 1px 1px 1px);clip: rect(1px, 1px, 1px, 1px);height: 1px;margin: -1px;overflow: hidden;padding: 0;position: absolute;width: 1px;}#sk-container-id-14 div.sk-estimator {font-family: monospace;background-color: #f0f8ff;border: 1px dotted black;border-radius: 0.25em;box-sizing: border-box;margin-bottom: 0.5em;}#sk-container-id-14 div.sk-estimator:hover {background-color: #d4ebff;}#sk-container-id-14 div.sk-parallel-item::after {content: \"\";width: 100%;border-bottom: 1px solid gray;flex-grow: 1;}#sk-container-id-14 div.sk-label:hover label.sk-toggleable__label {background-color: #d4ebff;}#sk-container-id-14 div.sk-serial::before {content: \"\";position: absolute;border-left: 1px solid gray;box-sizing: border-box;top: 0;bottom: 0;left: 50%;z-index: 0;}#sk-container-id-14 div.sk-serial {display: flex;flex-direction: column;align-items: center;background-color: white;padding-right: 0.2em;padding-left: 0.2em;position: relative;}#sk-container-id-14 div.sk-item {position: relative;z-index: 1;}#sk-container-id-14 div.sk-parallel {display: flex;align-items: stretch;justify-content: center;background-color: white;position: relative;}#sk-container-id-14 div.sk-item::before, #sk-container-id-14 div.sk-parallel-item::before {content: \"\";position: absolute;border-left: 1px solid gray;box-sizing: border-box;top: 0;bottom: 0;left: 50%;z-index: -1;}#sk-container-id-14 div.sk-parallel-item {display: flex;flex-direction: column;z-index: 1;position: relative;background-color: white;}#sk-container-id-14 div.sk-parallel-item:first-child::after {align-self: flex-end;width: 50%;}#sk-container-id-14 div.sk-parallel-item:last-child::after {align-self: flex-start;width: 50%;}#sk-container-id-14 div.sk-parallel-item:only-child::after {width: 0;}#sk-container-id-14 div.sk-dashed-wrapped {border: 1px dashed gray;margin: 0 0.4em 0.5em 0.4em;box-sizing: border-box;padding-bottom: 0.4em;background-color: white;}#sk-container-id-14 div.sk-label label {font-family: monospace;font-weight: bold;display: inline-block;line-height: 1.2em;}#sk-container-id-14 div.sk-label-container {text-align: center;}#sk-container-id-14 div.sk-container {/* jupyter's `normalize.less` sets `[hidden] { display: none; }` but bootstrap.min.css set `[hidden] { display: none !important; }` so we also need the `!important` here to be able to override the default hidden behavior on the sphinx rendered scikit-learn.org. See: https://github.com/scikit-learn/scikit-learn/issues/21755 */display: inline-block !important;position: relative;}#sk-container-id-14 div.sk-text-repr-fallback {display: none;}</style><div id=\"sk-container-id-14\" class=\"sk-top-container\"><div class=\"sk-text-repr-fallback\"><pre>KNeighborsClassifier(metric=&#x27;euclidean&#x27;, n_neighbors=3)</pre><b>In a Jupyter environment, please rerun this cell to show the HTML representation or trust the notebook. <br />On GitHub, the HTML representation is unable to render, please try loading this page with nbviewer.org.</b></div><div class=\"sk-container\" hidden><div class=\"sk-item\"><div class=\"sk-estimator sk-toggleable\"><input class=\"sk-toggleable__control sk-hidden--visually\" id=\"sk-estimator-id-14\" type=\"checkbox\" checked><label for=\"sk-estimator-id-14\" class=\"sk-toggleable__label sk-toggleable__label-arrow\">KNeighborsClassifier</label><div class=\"sk-toggleable__content\"><pre>KNeighborsClassifier(metric=&#x27;euclidean&#x27;, n_neighbors=3)</pre></div></div></div></div></div>"
            ]
          },
          "metadata": {},
          "execution_count": 196
        }
      ]
    },
    {
      "cell_type": "markdown",
      "source": [
        "**Посчитать метрики:** *accuracy, precision, recall, f-measure*, а также составить` classification_report`"
      ],
      "metadata": {
        "id": "jV7-oMnD1FzQ"
      }
    },
    {
      "cell_type": "code",
      "source": [
        "preds = model.predict(x_test)"
      ],
      "metadata": {
        "id": "uCajVQnb0_dB"
      },
      "execution_count": 197,
      "outputs": []
    },
    {
      "cell_type": "code",
      "source": [
        "print(f'Accuracy: {accuracy_score(y_test, preds)}')\n",
        "print(f'Precision: {precision_score(y_test, preds)}')\n",
        "print(f'Recall: {recall_score(y_test, preds)}')\n",
        "print(f'F1-measure: {f1_score(y_test, preds)}')\n",
        "print(classification_report(y_test, preds))"
      ],
      "metadata": {
        "colab": {
          "base_uri": "https://localhost:8080/"
        },
        "id": "GNAmFwhy1yZ6",
        "outputId": "ed920475-1f06-4b29-c25e-bfef117c805b"
      },
      "execution_count": 198,
      "outputs": [
        {
          "output_type": "stream",
          "name": "stdout",
          "text": [
            "Accuracy: 0.7586206896551724\n",
            "Precision: 0.8186758893280632\n",
            "Recall: 0.8922994076467421\n",
            "F1-measure: 0.8539036330842567\n",
            "              precision    recall  f1-score   support\n",
            "\n",
            "       False       0.38      0.25      0.31       492\n",
            "        True       0.82      0.89      0.85      1857\n",
            "\n",
            "    accuracy                           0.76      2349\n",
            "   macro avg       0.60      0.57      0.58      2349\n",
            "weighted avg       0.73      0.76      0.74      2349\n",
            "\n"
          ]
        }
      ]
    },
    {
      "cell_type": "markdown",
      "source": [
        "**Нормализовать данные** (`StandardScaler` или `MinMaxScaler`)\n",
        "\n"
      ],
      "metadata": {
        "id": "1rUPv5Up2MEF"
      }
    },
    {
      "cell_type": "code",
      "source": [
        "scaler = StandardScaler()\n",
        "scaler.fit(x[cols])\n",
        "scaled = scaler.transform(x_train[cols])\n",
        "x_train_scaled = pd.DataFrame(scaled, columns=cols)"
      ],
      "metadata": {
        "id": "WaHG2vsg2RX3"
      },
      "execution_count": 199,
      "outputs": []
    },
    {
      "cell_type": "code",
      "source": [
        "x_train_scaled"
      ],
      "metadata": {
        "colab": {
          "base_uri": "https://localhost:8080/",
          "height": 423
        },
        "id": "O4H3RmHn2oDl",
        "outputId": "40dac791-9f5a-4962-fd37-fa682e5b1b62"
      },
      "execution_count": 200,
      "outputs": [
        {
          "output_type": "execute_result",
          "data": {
            "text/plain": [
              "      popularity  vote_average  vote_count  release_year  main_genre\n",
              "0      -0.248246     -0.222082   -0.490133     -0.525426    0.506053\n",
              "1      -0.248246      0.794444   -0.464588      0.057237   -1.008237\n",
              "2       0.083628     -0.103168   -0.014808      1.805225    1.155034\n",
              "3      -0.248246      0.080958   -0.345595     -2.273414   -0.142929\n",
              "4      -0.248246     -1.325557   -0.387308     -2.273414    0.506053\n",
              "...          ...           ...         ...           ...         ...\n",
              "7042    0.083628      0.592418    0.364482     -0.525426   -1.008237\n",
              "7043   -0.358871     -1.581287   -0.475906      0.639900   -1.008237\n",
              "7044   -0.248246     -0.046907    0.184376     -0.525426   -0.791910\n",
              "7045    0.415502      0.726676    1.092991      0.057237   -0.575583\n",
              "7046   -0.248246      0.141054   -0.476552      0.057237    0.506053\n",
              "\n",
              "[7047 rows x 5 columns]"
            ],
            "text/html": [
              "\n",
              "  <div id=\"df-771a64c4-c918-44f9-bd04-b1ed8ad6e5fb\" class=\"colab-df-container\">\n",
              "    <div>\n",
              "<style scoped>\n",
              "    .dataframe tbody tr th:only-of-type {\n",
              "        vertical-align: middle;\n",
              "    }\n",
              "\n",
              "    .dataframe tbody tr th {\n",
              "        vertical-align: top;\n",
              "    }\n",
              "\n",
              "    .dataframe thead th {\n",
              "        text-align: right;\n",
              "    }\n",
              "</style>\n",
              "<table border=\"1\" class=\"dataframe\">\n",
              "  <thead>\n",
              "    <tr style=\"text-align: right;\">\n",
              "      <th></th>\n",
              "      <th>popularity</th>\n",
              "      <th>vote_average</th>\n",
              "      <th>vote_count</th>\n",
              "      <th>release_year</th>\n",
              "      <th>main_genre</th>\n",
              "    </tr>\n",
              "  </thead>\n",
              "  <tbody>\n",
              "    <tr>\n",
              "      <th>0</th>\n",
              "      <td>-0.248246</td>\n",
              "      <td>-0.222082</td>\n",
              "      <td>-0.490133</td>\n",
              "      <td>-0.525426</td>\n",
              "      <td>0.506053</td>\n",
              "    </tr>\n",
              "    <tr>\n",
              "      <th>1</th>\n",
              "      <td>-0.248246</td>\n",
              "      <td>0.794444</td>\n",
              "      <td>-0.464588</td>\n",
              "      <td>0.057237</td>\n",
              "      <td>-1.008237</td>\n",
              "    </tr>\n",
              "    <tr>\n",
              "      <th>2</th>\n",
              "      <td>0.083628</td>\n",
              "      <td>-0.103168</td>\n",
              "      <td>-0.014808</td>\n",
              "      <td>1.805225</td>\n",
              "      <td>1.155034</td>\n",
              "    </tr>\n",
              "    <tr>\n",
              "      <th>3</th>\n",
              "      <td>-0.248246</td>\n",
              "      <td>0.080958</td>\n",
              "      <td>-0.345595</td>\n",
              "      <td>-2.273414</td>\n",
              "      <td>-0.142929</td>\n",
              "    </tr>\n",
              "    <tr>\n",
              "      <th>4</th>\n",
              "      <td>-0.248246</td>\n",
              "      <td>-1.325557</td>\n",
              "      <td>-0.387308</td>\n",
              "      <td>-2.273414</td>\n",
              "      <td>0.506053</td>\n",
              "    </tr>\n",
              "    <tr>\n",
              "      <th>...</th>\n",
              "      <td>...</td>\n",
              "      <td>...</td>\n",
              "      <td>...</td>\n",
              "      <td>...</td>\n",
              "      <td>...</td>\n",
              "    </tr>\n",
              "    <tr>\n",
              "      <th>7042</th>\n",
              "      <td>0.083628</td>\n",
              "      <td>0.592418</td>\n",
              "      <td>0.364482</td>\n",
              "      <td>-0.525426</td>\n",
              "      <td>-1.008237</td>\n",
              "    </tr>\n",
              "    <tr>\n",
              "      <th>7043</th>\n",
              "      <td>-0.358871</td>\n",
              "      <td>-1.581287</td>\n",
              "      <td>-0.475906</td>\n",
              "      <td>0.639900</td>\n",
              "      <td>-1.008237</td>\n",
              "    </tr>\n",
              "    <tr>\n",
              "      <th>7044</th>\n",
              "      <td>-0.248246</td>\n",
              "      <td>-0.046907</td>\n",
              "      <td>0.184376</td>\n",
              "      <td>-0.525426</td>\n",
              "      <td>-0.791910</td>\n",
              "    </tr>\n",
              "    <tr>\n",
              "      <th>7045</th>\n",
              "      <td>0.415502</td>\n",
              "      <td>0.726676</td>\n",
              "      <td>1.092991</td>\n",
              "      <td>0.057237</td>\n",
              "      <td>-0.575583</td>\n",
              "    </tr>\n",
              "    <tr>\n",
              "      <th>7046</th>\n",
              "      <td>-0.248246</td>\n",
              "      <td>0.141054</td>\n",
              "      <td>-0.476552</td>\n",
              "      <td>0.057237</td>\n",
              "      <td>0.506053</td>\n",
              "    </tr>\n",
              "  </tbody>\n",
              "</table>\n",
              "<p>7047 rows × 5 columns</p>\n",
              "</div>\n",
              "    <div class=\"colab-df-buttons\">\n",
              "\n",
              "  <div class=\"colab-df-container\">\n",
              "    <button class=\"colab-df-convert\" onclick=\"convertToInteractive('df-771a64c4-c918-44f9-bd04-b1ed8ad6e5fb')\"\n",
              "            title=\"Convert this dataframe to an interactive table.\"\n",
              "            style=\"display:none;\">\n",
              "\n",
              "  <svg xmlns=\"http://www.w3.org/2000/svg\" height=\"24px\" viewBox=\"0 -960 960 960\">\n",
              "    <path d=\"M120-120v-720h720v720H120Zm60-500h600v-160H180v160Zm220 220h160v-160H400v160Zm0 220h160v-160H400v160ZM180-400h160v-160H180v160Zm440 0h160v-160H620v160ZM180-180h160v-160H180v160Zm440 0h160v-160H620v160Z\"/>\n",
              "  </svg>\n",
              "    </button>\n",
              "\n",
              "  <style>\n",
              "    .colab-df-container {\n",
              "      display:flex;\n",
              "      gap: 12px;\n",
              "    }\n",
              "\n",
              "    .colab-df-convert {\n",
              "      background-color: #E8F0FE;\n",
              "      border: none;\n",
              "      border-radius: 50%;\n",
              "      cursor: pointer;\n",
              "      display: none;\n",
              "      fill: #1967D2;\n",
              "      height: 32px;\n",
              "      padding: 0 0 0 0;\n",
              "      width: 32px;\n",
              "    }\n",
              "\n",
              "    .colab-df-convert:hover {\n",
              "      background-color: #E2EBFA;\n",
              "      box-shadow: 0px 1px 2px rgba(60, 64, 67, 0.3), 0px 1px 3px 1px rgba(60, 64, 67, 0.15);\n",
              "      fill: #174EA6;\n",
              "    }\n",
              "\n",
              "    .colab-df-buttons div {\n",
              "      margin-bottom: 4px;\n",
              "    }\n",
              "\n",
              "    [theme=dark] .colab-df-convert {\n",
              "      background-color: #3B4455;\n",
              "      fill: #D2E3FC;\n",
              "    }\n",
              "\n",
              "    [theme=dark] .colab-df-convert:hover {\n",
              "      background-color: #434B5C;\n",
              "      box-shadow: 0px 1px 3px 1px rgba(0, 0, 0, 0.15);\n",
              "      filter: drop-shadow(0px 1px 2px rgba(0, 0, 0, 0.3));\n",
              "      fill: #FFFFFF;\n",
              "    }\n",
              "  </style>\n",
              "\n",
              "    <script>\n",
              "      const buttonEl =\n",
              "        document.querySelector('#df-771a64c4-c918-44f9-bd04-b1ed8ad6e5fb button.colab-df-convert');\n",
              "      buttonEl.style.display =\n",
              "        google.colab.kernel.accessAllowed ? 'block' : 'none';\n",
              "\n",
              "      async function convertToInteractive(key) {\n",
              "        const element = document.querySelector('#df-771a64c4-c918-44f9-bd04-b1ed8ad6e5fb');\n",
              "        const dataTable =\n",
              "          await google.colab.kernel.invokeFunction('convertToInteractive',\n",
              "                                                    [key], {});\n",
              "        if (!dataTable) return;\n",
              "\n",
              "        const docLinkHtml = 'Like what you see? Visit the ' +\n",
              "          '<a target=\"_blank\" href=https://colab.research.google.com/notebooks/data_table.ipynb>data table notebook</a>'\n",
              "          + ' to learn more about interactive tables.';\n",
              "        element.innerHTML = '';\n",
              "        dataTable['output_type'] = 'display_data';\n",
              "        await google.colab.output.renderOutput(dataTable, element);\n",
              "        const docLink = document.createElement('div');\n",
              "        docLink.innerHTML = docLinkHtml;\n",
              "        element.appendChild(docLink);\n",
              "      }\n",
              "    </script>\n",
              "  </div>\n",
              "\n",
              "\n",
              "<div id=\"df-a7bc7579-1258-4ba6-a736-95be54a5d108\">\n",
              "  <button class=\"colab-df-quickchart\" onclick=\"quickchart('df-a7bc7579-1258-4ba6-a736-95be54a5d108')\"\n",
              "            title=\"Suggest charts\"\n",
              "            style=\"display:none;\">\n",
              "\n",
              "<svg xmlns=\"http://www.w3.org/2000/svg\" height=\"24px\"viewBox=\"0 0 24 24\"\n",
              "     width=\"24px\">\n",
              "    <g>\n",
              "        <path d=\"M19 3H5c-1.1 0-2 .9-2 2v14c0 1.1.9 2 2 2h14c1.1 0 2-.9 2-2V5c0-1.1-.9-2-2-2zM9 17H7v-7h2v7zm4 0h-2V7h2v10zm4 0h-2v-4h2v4z\"/>\n",
              "    </g>\n",
              "</svg>\n",
              "  </button>\n",
              "\n",
              "<style>\n",
              "  .colab-df-quickchart {\n",
              "      --bg-color: #E8F0FE;\n",
              "      --fill-color: #1967D2;\n",
              "      --hover-bg-color: #E2EBFA;\n",
              "      --hover-fill-color: #174EA6;\n",
              "      --disabled-fill-color: #AAA;\n",
              "      --disabled-bg-color: #DDD;\n",
              "  }\n",
              "\n",
              "  [theme=dark] .colab-df-quickchart {\n",
              "      --bg-color: #3B4455;\n",
              "      --fill-color: #D2E3FC;\n",
              "      --hover-bg-color: #434B5C;\n",
              "      --hover-fill-color: #FFFFFF;\n",
              "      --disabled-bg-color: #3B4455;\n",
              "      --disabled-fill-color: #666;\n",
              "  }\n",
              "\n",
              "  .colab-df-quickchart {\n",
              "    background-color: var(--bg-color);\n",
              "    border: none;\n",
              "    border-radius: 50%;\n",
              "    cursor: pointer;\n",
              "    display: none;\n",
              "    fill: var(--fill-color);\n",
              "    height: 32px;\n",
              "    padding: 0;\n",
              "    width: 32px;\n",
              "  }\n",
              "\n",
              "  .colab-df-quickchart:hover {\n",
              "    background-color: var(--hover-bg-color);\n",
              "    box-shadow: 0 1px 2px rgba(60, 64, 67, 0.3), 0 1px 3px 1px rgba(60, 64, 67, 0.15);\n",
              "    fill: var(--button-hover-fill-color);\n",
              "  }\n",
              "\n",
              "  .colab-df-quickchart-complete:disabled,\n",
              "  .colab-df-quickchart-complete:disabled:hover {\n",
              "    background-color: var(--disabled-bg-color);\n",
              "    fill: var(--disabled-fill-color);\n",
              "    box-shadow: none;\n",
              "  }\n",
              "\n",
              "  .colab-df-spinner {\n",
              "    border: 2px solid var(--fill-color);\n",
              "    border-color: transparent;\n",
              "    border-bottom-color: var(--fill-color);\n",
              "    animation:\n",
              "      spin 1s steps(1) infinite;\n",
              "  }\n",
              "\n",
              "  @keyframes spin {\n",
              "    0% {\n",
              "      border-color: transparent;\n",
              "      border-bottom-color: var(--fill-color);\n",
              "      border-left-color: var(--fill-color);\n",
              "    }\n",
              "    20% {\n",
              "      border-color: transparent;\n",
              "      border-left-color: var(--fill-color);\n",
              "      border-top-color: var(--fill-color);\n",
              "    }\n",
              "    30% {\n",
              "      border-color: transparent;\n",
              "      border-left-color: var(--fill-color);\n",
              "      border-top-color: var(--fill-color);\n",
              "      border-right-color: var(--fill-color);\n",
              "    }\n",
              "    40% {\n",
              "      border-color: transparent;\n",
              "      border-right-color: var(--fill-color);\n",
              "      border-top-color: var(--fill-color);\n",
              "    }\n",
              "    60% {\n",
              "      border-color: transparent;\n",
              "      border-right-color: var(--fill-color);\n",
              "    }\n",
              "    80% {\n",
              "      border-color: transparent;\n",
              "      border-right-color: var(--fill-color);\n",
              "      border-bottom-color: var(--fill-color);\n",
              "    }\n",
              "    90% {\n",
              "      border-color: transparent;\n",
              "      border-bottom-color: var(--fill-color);\n",
              "    }\n",
              "  }\n",
              "</style>\n",
              "\n",
              "  <script>\n",
              "    async function quickchart(key) {\n",
              "      const quickchartButtonEl =\n",
              "        document.querySelector('#' + key + ' button');\n",
              "      quickchartButtonEl.disabled = true;  // To prevent multiple clicks.\n",
              "      quickchartButtonEl.classList.add('colab-df-spinner');\n",
              "      try {\n",
              "        const charts = await google.colab.kernel.invokeFunction(\n",
              "            'suggestCharts', [key], {});\n",
              "      } catch (error) {\n",
              "        console.error('Error during call to suggestCharts:', error);\n",
              "      }\n",
              "      quickchartButtonEl.classList.remove('colab-df-spinner');\n",
              "      quickchartButtonEl.classList.add('colab-df-quickchart-complete');\n",
              "    }\n",
              "    (() => {\n",
              "      let quickchartButtonEl =\n",
              "        document.querySelector('#df-a7bc7579-1258-4ba6-a736-95be54a5d108 button');\n",
              "      quickchartButtonEl.style.display =\n",
              "        google.colab.kernel.accessAllowed ? 'block' : 'none';\n",
              "    })();\n",
              "  </script>\n",
              "</div>\n",
              "    </div>\n",
              "  </div>\n"
            ],
            "application/vnd.google.colaboratory.intrinsic+json": {
              "type": "dataframe",
              "variable_name": "x_train_scaled",
              "summary": "{\n  \"name\": \"x_train_scaled\",\n  \"rows\": 7047,\n  \"fields\": [\n    {\n      \"column\": \"popularity\",\n      \"properties\": {\n        \"dtype\": \"number\",\n        \"std\": 1.0606445570583412,\n        \"min\": -0.4694956908953877,\n        \"max\": 39.687273592903836,\n        \"num_unique_values\": 73,\n        \"samples\": [\n          -0.3588709821245909,\n          8.601730428309946,\n          5.614863291498434\n        ],\n        \"semantic_type\": \"\",\n        \"description\": \"\"\n      }\n    },\n    {\n      \"column\": \"vote_average\",\n      \"properties\": {\n        \"dtype\": \"number\",\n        \"std\": 1.0030692032212651,\n        \"min\": -4.304811227404874,\n        \"max\": 2.6446506953014324,\n        \"num_unique_values\": 2684,\n        \"samples\": [\n          -0.6836748584804467,\n          -1.8446889202683638,\n          1.6332386657042492\n        ],\n        \"semantic_type\": \"\",\n        \"description\": \"\"\n      }\n    },\n    {\n      \"column\": \"vote_count\",\n      \"properties\": {\n        \"dtype\": \"number\",\n        \"std\": 0.986213387791846,\n        \"min\": -0.5405758396419074,\n        \"max\": 10.490528188100631,\n        \"num_unique_values\": 2911,\n        \"samples\": [\n          -0.532492075881287,\n          0.7156410487584961,\n          1.1272662994492846\n        ],\n        \"semantic_type\": \"\",\n        \"description\": \"\"\n      }\n    },\n    {\n      \"column\": \"release_year\",\n      \"properties\": {\n        \"dtype\": \"number\",\n        \"std\": 1.0026481825344165,\n        \"min\": -2.2734140912111047,\n        \"max\": 4.135876075756925,\n        \"num_unique_values\": 12,\n        \"samples\": [\n          3.553213333305286,\n          1.2225623634987297,\n          -0.5254258638561875\n        ],\n        \"semantic_type\": \"\",\n        \"description\": \"\"\n      }\n    },\n    {\n      \"column\": \"main_genre\",\n      \"properties\": {\n        \"dtype\": \"number\",\n        \"std\": 0.990407875236056,\n        \"min\": -1.0082371393106686,\n        \"max\": 2.6693234821811958,\n        \"num_unique_values\": 18,\n        \"samples\": [\n          0.5060525283624518,\n          -1.0082371393106686,\n          2.236669291417447\n        ],\n        \"semantic_type\": \"\",\n        \"description\": \"\"\n      }\n    }\n  ]\n}"
            }
          },
          "metadata": {},
          "execution_count": 200
        }
      ]
    },
    {
      "cell_type": "code",
      "source": [
        "scaled = scaler.transform(x_test[cols])\n",
        "x_test_scaled = pd.DataFrame(scaled, columns=cols)"
      ],
      "metadata": {
        "id": "-EpQ0xJX4Vas"
      },
      "execution_count": 201,
      "outputs": []
    },
    {
      "cell_type": "markdown",
      "source": [
        "**Осуществить бинарную классификацию**\n",
        "\n"
      ],
      "metadata": {
        "id": "X8d2TfT73kGh"
      }
    },
    {
      "cell_type": "code",
      "source": [
        "scaled_model = KNeighborsClassifier(n_neighbors=k, metric='euclidean')\n",
        "# обучение\n",
        "scaled_model.fit(x_train_scaled, y_train)"
      ],
      "metadata": {
        "colab": {
          "base_uri": "https://localhost:8080/",
          "height": 74
        },
        "id": "11vqO0tP3sHv",
        "outputId": "5cc6ca21-04b7-473c-a79e-4f9e5f4458c9"
      },
      "execution_count": 202,
      "outputs": [
        {
          "output_type": "execute_result",
          "data": {
            "text/plain": [
              "KNeighborsClassifier(metric='euclidean', n_neighbors=3)"
            ],
            "text/html": [
              "<style>#sk-container-id-15 {color: black;background-color: white;}#sk-container-id-15 pre{padding: 0;}#sk-container-id-15 div.sk-toggleable {background-color: white;}#sk-container-id-15 label.sk-toggleable__label {cursor: pointer;display: block;width: 100%;margin-bottom: 0;padding: 0.3em;box-sizing: border-box;text-align: center;}#sk-container-id-15 label.sk-toggleable__label-arrow:before {content: \"▸\";float: left;margin-right: 0.25em;color: #696969;}#sk-container-id-15 label.sk-toggleable__label-arrow:hover:before {color: black;}#sk-container-id-15 div.sk-estimator:hover label.sk-toggleable__label-arrow:before {color: black;}#sk-container-id-15 div.sk-toggleable__content {max-height: 0;max-width: 0;overflow: hidden;text-align: left;background-color: #f0f8ff;}#sk-container-id-15 div.sk-toggleable__content pre {margin: 0.2em;color: black;border-radius: 0.25em;background-color: #f0f8ff;}#sk-container-id-15 input.sk-toggleable__control:checked~div.sk-toggleable__content {max-height: 200px;max-width: 100%;overflow: auto;}#sk-container-id-15 input.sk-toggleable__control:checked~label.sk-toggleable__label-arrow:before {content: \"▾\";}#sk-container-id-15 div.sk-estimator input.sk-toggleable__control:checked~label.sk-toggleable__label {background-color: #d4ebff;}#sk-container-id-15 div.sk-label input.sk-toggleable__control:checked~label.sk-toggleable__label {background-color: #d4ebff;}#sk-container-id-15 input.sk-hidden--visually {border: 0;clip: rect(1px 1px 1px 1px);clip: rect(1px, 1px, 1px, 1px);height: 1px;margin: -1px;overflow: hidden;padding: 0;position: absolute;width: 1px;}#sk-container-id-15 div.sk-estimator {font-family: monospace;background-color: #f0f8ff;border: 1px dotted black;border-radius: 0.25em;box-sizing: border-box;margin-bottom: 0.5em;}#sk-container-id-15 div.sk-estimator:hover {background-color: #d4ebff;}#sk-container-id-15 div.sk-parallel-item::after {content: \"\";width: 100%;border-bottom: 1px solid gray;flex-grow: 1;}#sk-container-id-15 div.sk-label:hover label.sk-toggleable__label {background-color: #d4ebff;}#sk-container-id-15 div.sk-serial::before {content: \"\";position: absolute;border-left: 1px solid gray;box-sizing: border-box;top: 0;bottom: 0;left: 50%;z-index: 0;}#sk-container-id-15 div.sk-serial {display: flex;flex-direction: column;align-items: center;background-color: white;padding-right: 0.2em;padding-left: 0.2em;position: relative;}#sk-container-id-15 div.sk-item {position: relative;z-index: 1;}#sk-container-id-15 div.sk-parallel {display: flex;align-items: stretch;justify-content: center;background-color: white;position: relative;}#sk-container-id-15 div.sk-item::before, #sk-container-id-15 div.sk-parallel-item::before {content: \"\";position: absolute;border-left: 1px solid gray;box-sizing: border-box;top: 0;bottom: 0;left: 50%;z-index: -1;}#sk-container-id-15 div.sk-parallel-item {display: flex;flex-direction: column;z-index: 1;position: relative;background-color: white;}#sk-container-id-15 div.sk-parallel-item:first-child::after {align-self: flex-end;width: 50%;}#sk-container-id-15 div.sk-parallel-item:last-child::after {align-self: flex-start;width: 50%;}#sk-container-id-15 div.sk-parallel-item:only-child::after {width: 0;}#sk-container-id-15 div.sk-dashed-wrapped {border: 1px dashed gray;margin: 0 0.4em 0.5em 0.4em;box-sizing: border-box;padding-bottom: 0.4em;background-color: white;}#sk-container-id-15 div.sk-label label {font-family: monospace;font-weight: bold;display: inline-block;line-height: 1.2em;}#sk-container-id-15 div.sk-label-container {text-align: center;}#sk-container-id-15 div.sk-container {/* jupyter's `normalize.less` sets `[hidden] { display: none; }` but bootstrap.min.css set `[hidden] { display: none !important; }` so we also need the `!important` here to be able to override the default hidden behavior on the sphinx rendered scikit-learn.org. See: https://github.com/scikit-learn/scikit-learn/issues/21755 */display: inline-block !important;position: relative;}#sk-container-id-15 div.sk-text-repr-fallback {display: none;}</style><div id=\"sk-container-id-15\" class=\"sk-top-container\"><div class=\"sk-text-repr-fallback\"><pre>KNeighborsClassifier(metric=&#x27;euclidean&#x27;, n_neighbors=3)</pre><b>In a Jupyter environment, please rerun this cell to show the HTML representation or trust the notebook. <br />On GitHub, the HTML representation is unable to render, please try loading this page with nbviewer.org.</b></div><div class=\"sk-container\" hidden><div class=\"sk-item\"><div class=\"sk-estimator sk-toggleable\"><input class=\"sk-toggleable__control sk-hidden--visually\" id=\"sk-estimator-id-15\" type=\"checkbox\" checked><label for=\"sk-estimator-id-15\" class=\"sk-toggleable__label sk-toggleable__label-arrow\">KNeighborsClassifier</label><div class=\"sk-toggleable__content\"><pre>KNeighborsClassifier(metric=&#x27;euclidean&#x27;, n_neighbors=3)</pre></div></div></div></div></div>"
            ]
          },
          "metadata": {},
          "execution_count": 202
        }
      ]
    },
    {
      "cell_type": "markdown",
      "source": [
        "**Посчитать метрики:** *accuracy, precision, recall, f-measure*, а также составить` classification_report`"
      ],
      "metadata": {
        "id": "J3ULKLZx4CZc"
      }
    },
    {
      "cell_type": "code",
      "source": [
        "scaled_preds = scaled_model.predict(x_test_scaled)"
      ],
      "metadata": {
        "id": "Mcl1GDJ-4E2h"
      },
      "execution_count": 203,
      "outputs": []
    },
    {
      "cell_type": "code",
      "source": [
        "print(f'Accuracy: {accuracy_score(y_test, scaled_preds)}')\n",
        "print(f'Precision: {precision_score(y_test, scaled_preds)}')\n",
        "print(f'Recall: {recall_score(y_test, scaled_preds)}')\n",
        "print(f'F1-measure: {f1_score(y_test, scaled_preds)}')\n",
        "print(classification_report(y_test, scaled_preds))"
      ],
      "metadata": {
        "colab": {
          "base_uri": "https://localhost:8080/"
        },
        "id": "PkmlBUeC4KQB",
        "outputId": "d3391da6-8601-41ad-e046-04138500dbf9"
      },
      "execution_count": 204,
      "outputs": [
        {
          "output_type": "stream",
          "name": "stdout",
          "text": [
            "Accuracy: 0.9770114942528736\n",
            "Precision: 0.9802876931273309\n",
            "Recall: 0.9908454496499731\n",
            "F1-measure: 0.9855382967327263\n",
            "              precision    recall  f1-score   support\n",
            "\n",
            "       False       0.96      0.92      0.94       492\n",
            "        True       0.98      0.99      0.99      1857\n",
            "\n",
            "    accuracy                           0.98      2349\n",
            "   macro avg       0.97      0.96      0.96      2349\n",
            "weighted avg       0.98      0.98      0.98      2349\n",
            "\n"
          ]
        }
      ]
    },
    {
      "cell_type": "markdown",
      "source": [
        "**Сравнить метрики на данных без нормализации и с применением нормализации**"
      ],
      "metadata": {
        "id": "HW1_i8-24wNv"
      }
    },
    {
      "cell_type": "markdown",
      "source": [
        "По всем метрикам был отмечен очень сильный рост, следовательно, нормализация оказалась крайне полезной для обуччения"
      ],
      "metadata": {
        "id": "Iy-Ai39s40nI"
      }
    },
    {
      "cell_type": "markdown",
      "source": [
        "**Построить** `сorrelation heatmap` и/или воспользоваться методом `corr()`. **Выбрать наиболее важные признаки** эвристически или на основании каких-нибудь вычислений"
      ],
      "metadata": {
        "id": "_NDr_TVp5HJS"
      }
    },
    {
      "cell_type": "code",
      "source": [
        "corr_matrix = x_train_scaled.corr()\n",
        "sns.heatmap(corr_matrix)"
      ],
      "metadata": {
        "colab": {
          "base_uri": "https://localhost:8080/",
          "height": 533
        },
        "id": "7K6UpYn65tS8",
        "outputId": "7f2bda3e-0b09-4128-a14f-66a398daf3c4"
      },
      "execution_count": 205,
      "outputs": [
        {
          "output_type": "execute_result",
          "data": {
            "text/plain": [
              "<Axes: >"
            ]
          },
          "metadata": {},
          "execution_count": 205
        },
        {
          "output_type": "display_data",
          "data": {
            "text/plain": [
              "<Figure size 640x480 with 2 Axes>"
            ],
            "image/png": "[encoded data removed]"
          },
          "metadata": {}
        }
      ]
    },
    {
      "cell_type": "markdown",
      "source": [
        "Для фильтрации воспользуемся `feature importance`"
      ],
      "metadata": {
        "id": "c94JMg3B658x"
      }
    },
    {
      "cell_type": "code",
      "source": [
        "# зануляем главную диагональ в матрице корреляции\n",
        "np.fill_diagonal(corr_matrix.values, 0)\n",
        "corr_matrix"
      ],
      "metadata": {
        "colab": {
          "base_uri": "https://localhost:8080/",
          "height": 206
        },
        "id": "Jgyluvbv9SRO",
        "outputId": "08deb674-5179-417e-a55c-205e2e6f84a4"
      },
      "execution_count": 206,
      "outputs": [
        {
          "output_type": "execute_result",
          "data": {
            "text/plain": [
              "              popularity  vote_average  vote_count  release_year  main_genre\n",
              "popularity      0.000000      0.112485    0.301980      0.052525    0.121269\n",
              "vote_average    0.112485      0.000000    0.271564      0.018947   -0.139922\n",
              "vote_count      0.301980      0.271564    0.000000      0.001525    0.070549\n",
              "release_year    0.052525      0.018947    0.001525      0.000000    0.022245\n",
              "main_genre      0.121269     -0.139922    0.070549      0.022245    0.000000"
            ],
            "text/html": [
              "\n",
              "  <div id=\"df-69e7c96c-9e14-424d-b564-a92b15c21c8c\" class=\"colab-df-container\">\n",
              "    <div>\n",
              "<style scoped>\n",
              "    .dataframe tbody tr th:only-of-type {\n",
              "        vertical-align: middle;\n",
              "    }\n",
              "\n",
              "    .dataframe tbody tr th {\n",
              "        vertical-align: top;\n",
              "    }\n",
              "\n",
              "    .dataframe thead th {\n",
              "        text-align: right;\n",
              "    }\n",
              "</style>\n",
              "<table border=\"1\" class=\"dataframe\">\n",
              "  <thead>\n",
              "    <tr style=\"text-align: right;\">\n",
              "      <th></th>\n",
              "      <th>popularity</th>\n",
              "      <th>vote_average</th>\n",
              "      <th>vote_count</th>\n",
              "      <th>release_year</th>\n",
              "      <th>main_genre</th>\n",
              "    </tr>\n",
              "  </thead>\n",
              "  <tbody>\n",
              "    <tr>\n",
              "      <th>popularity</th>\n",
              "      <td>0.000000</td>\n",
              "      <td>0.112485</td>\n",
              "      <td>0.301980</td>\n",
              "      <td>0.052525</td>\n",
              "      <td>0.121269</td>\n",
              "    </tr>\n",
              "    <tr>\n",
              "      <th>vote_average</th>\n",
              "      <td>0.112485</td>\n",
              "      <td>0.000000</td>\n",
              "      <td>0.271564</td>\n",
              "      <td>0.018947</td>\n",
              "      <td>-0.139922</td>\n",
              "    </tr>\n",
              "    <tr>\n",
              "      <th>vote_count</th>\n",
              "      <td>0.301980</td>\n",
              "      <td>0.271564</td>\n",
              "      <td>0.000000</td>\n",
              "      <td>0.001525</td>\n",
              "      <td>0.070549</td>\n",
              "    </tr>\n",
              "    <tr>\n",
              "      <th>release_year</th>\n",
              "      <td>0.052525</td>\n",
              "      <td>0.018947</td>\n",
              "      <td>0.001525</td>\n",
              "      <td>0.000000</td>\n",
              "      <td>0.022245</td>\n",
              "    </tr>\n",
              "    <tr>\n",
              "      <th>main_genre</th>\n",
              "      <td>0.121269</td>\n",
              "      <td>-0.139922</td>\n",
              "      <td>0.070549</td>\n",
              "      <td>0.022245</td>\n",
              "      <td>0.000000</td>\n",
              "    </tr>\n",
              "  </tbody>\n",
              "</table>\n",
              "</div>\n",
              "    <div class=\"colab-df-buttons\">\n",
              "\n",
              "  <div class=\"colab-df-container\">\n",
              "    <button class=\"colab-df-convert\" onclick=\"convertToInteractive('df-69e7c96c-9e14-424d-b564-a92b15c21c8c')\"\n",
              "            title=\"Convert this dataframe to an interactive table.\"\n",
              "            style=\"display:none;\">\n",
              "\n",
              "  <svg xmlns=\"http://www.w3.org/2000/svg\" height=\"24px\" viewBox=\"0 -960 960 960\">\n",
              "    <path d=\"M120-120v-720h720v720H120Zm60-500h600v-160H180v160Zm220 220h160v-160H400v160Zm0 220h160v-160H400v160ZM180-400h160v-160H180v160Zm440 0h160v-160H620v160ZM180-180h160v-160H180v160Zm440 0h160v-160H620v160Z\"/>\n",
              "  </svg>\n",
              "    </button>\n",
              "\n",
              "  <style>\n",
              "    .colab-df-container {\n",
              "      display:flex;\n",
              "      gap: 12px;\n",
              "    }\n",
              "\n",
              "    .colab-df-convert {\n",
              "      background-color: #E8F0FE;\n",
              "      border: none;\n",
              "      border-radius: 50%;\n",
              "      cursor: pointer;\n",
              "      display: none;\n",
              "      fill: #1967D2;\n",
              "      height: 32px;\n",
              "      padding: 0 0 0 0;\n",
              "      width: 32px;\n",
              "    }\n",
              "\n",
              "    .colab-df-convert:hover {\n",
              "      background-color: #E2EBFA;\n",
              "      box-shadow: 0px 1px 2px rgba(60, 64, 67, 0.3), 0px 1px 3px 1px rgba(60, 64, 67, 0.15);\n",
              "      fill: #174EA6;\n",
              "    }\n",
              "\n",
              "    .colab-df-buttons div {\n",
              "      margin-bottom: 4px;\n",
              "    }\n",
              "\n",
              "    [theme=dark] .colab-df-convert {\n",
              "      background-color: #3B4455;\n",
              "      fill: #D2E3FC;\n",
              "    }\n",
              "\n",
              "    [theme=dark] .colab-df-convert:hover {\n",
              "      background-color: #434B5C;\n",
              "      box-shadow: 0px 1px 3px 1px rgba(0, 0, 0, 0.15);\n",
              "      filter: drop-shadow(0px 1px 2px rgba(0, 0, 0, 0.3));\n",
              "      fill: #FFFFFF;\n",
              "    }\n",
              "  </style>\n",
              "\n",
              "    <script>\n",
              "      const buttonEl =\n",
              "        document.querySelector('#df-69e7c96c-9e14-424d-b564-a92b15c21c8c button.colab-df-convert');\n",
              "      buttonEl.style.display =\n",
              "        google.colab.kernel.accessAllowed ? 'block' : 'none';\n",
              "\n",
              "      async function convertToInteractive(key) {\n",
              "        const element = document.querySelector('#df-69e7c96c-9e14-424d-b564-a92b15c21c8c');\n",
              "        const dataTable =\n",
              "          await google.colab.kernel.invokeFunction('convertToInteractive',\n",
              "                                                    [key], {});\n",
              "        if (!dataTable) return;\n",
              "\n",
              "        const docLinkHtml = 'Like what you see? Visit the ' +\n",
              "          '<a target=\"_blank\" href=https://colab.research.google.com/notebooks/data_table.ipynb>data table notebook</a>'\n",
              "          + ' to learn more about interactive tables.';\n",
              "        element.innerHTML = '';\n",
              "        dataTable['output_type'] = 'display_data';\n",
              "        await google.colab.output.renderOutput(dataTable, element);\n",
              "        const docLink = document.createElement('div');\n",
              "        docLink.innerHTML = docLinkHtml;\n",
              "        element.appendChild(docLink);\n",
              "      }\n",
              "    </script>\n",
              "  </div>\n",
              "\n",
              "\n",
              "<div id=\"df-b8fa9b67-ec90-41a8-9b98-05fc1a834589\">\n",
              "  <button class=\"colab-df-quickchart\" onclick=\"quickchart('df-b8fa9b67-ec90-41a8-9b98-05fc1a834589')\"\n",
              "            title=\"Suggest charts\"\n",
              "            style=\"display:none;\">\n",
              "\n",
              "<svg xmlns=\"http://www.w3.org/2000/svg\" height=\"24px\"viewBox=\"0 0 24 24\"\n",
              "     width=\"24px\">\n",
              "    <g>\n",
              "        <path d=\"M19 3H5c-1.1 0-2 .9-2 2v14c0 1.1.9 2 2 2h14c1.1 0 2-.9 2-2V5c0-1.1-.9-2-2-2zM9 17H7v-7h2v7zm4 0h-2V7h2v10zm4 0h-2v-4h2v4z\"/>\n",
              "    </g>\n",
              "</svg>\n",
              "  </button>\n",
              "\n",
              "<style>\n",
              "  .colab-df-quickchart {\n",
              "      --bg-color: #E8F0FE;\n",
              "      --fill-color: #1967D2;\n",
              "      --hover-bg-color: #E2EBFA;\n",
              "      --hover-fill-color: #174EA6;\n",
              "      --disabled-fill-color: #AAA;\n",
              "      --disabled-bg-color: #DDD;\n",
              "  }\n",
              "\n",
              "  [theme=dark] .colab-df-quickchart {\n",
              "      --bg-color: #3B4455;\n",
              "      --fill-color: #D2E3FC;\n",
              "      --hover-bg-color: #434B5C;\n",
              "      --hover-fill-color: #FFFFFF;\n",
              "      --disabled-bg-color: #3B4455;\n",
              "      --disabled-fill-color: #666;\n",
              "  }\n",
              "\n",
              "  .colab-df-quickchart {\n",
              "    background-color: var(--bg-color);\n",
              "    border: none;\n",
              "    border-radius: 50%;\n",
              "    cursor: pointer;\n",
              "    display: none;\n",
              "    fill: var(--fill-color);\n",
              "    height: 32px;\n",
              "    padding: 0;\n",
              "    width: 32px;\n",
              "  }\n",
              "\n",
              "  .colab-df-quickchart:hover {\n",
              "    background-color: var(--hover-bg-color);\n",
              "    box-shadow: 0 1px 2px rgba(60, 64, 67, 0.3), 0 1px 3px 1px rgba(60, 64, 67, 0.15);\n",
              "    fill: var(--button-hover-fill-color);\n",
              "  }\n",
              "\n",
              "  .colab-df-quickchart-complete:disabled,\n",
              "  .colab-df-quickchart-complete:disabled:hover {\n",
              "    background-color: var(--disabled-bg-color);\n",
              "    fill: var(--disabled-fill-color);\n",
              "    box-shadow: none;\n",
              "  }\n",
              "\n",
              "  .colab-df-spinner {\n",
              "    border: 2px solid var(--fill-color);\n",
              "    border-color: transparent;\n",
              "    border-bottom-color: var(--fill-color);\n",
              "    animation:\n",
              "      spin 1s steps(1) infinite;\n",
              "  }\n",
              "\n",
              "  @keyframes spin {\n",
              "    0% {\n",
              "      border-color: transparent;\n",
              "      border-bottom-color: var(--fill-color);\n",
              "      border-left-color: var(--fill-color);\n",
              "    }\n",
              "    20% {\n",
              "      border-color: transparent;\n",
              "      border-left-color: var(--fill-color);\n",
              "      border-top-color: var(--fill-color);\n",
              "    }\n",
              "    30% {\n",
              "      border-color: transparent;\n",
              "      border-left-color: var(--fill-color);\n",
              "      border-top-color: var(--fill-color);\n",
              "      border-right-color: var(--fill-color);\n",
              "    }\n",
              "    40% {\n",
              "      border-color: transparent;\n",
              "      border-right-color: var(--fill-color);\n",
              "      border-top-color: var(--fill-color);\n",
              "    }\n",
              "    60% {\n",
              "      border-color: transparent;\n",
              "      border-right-color: var(--fill-color);\n",
              "    }\n",
              "    80% {\n",
              "      border-color: transparent;\n",
              "      border-right-color: var(--fill-color);\n",
              "      border-bottom-color: var(--fill-color);\n",
              "    }\n",
              "    90% {\n",
              "      border-color: transparent;\n",
              "      border-bottom-color: var(--fill-color);\n",
              "    }\n",
              "  }\n",
              "</style>\n",
              "\n",
              "  <script>\n",
              "    async function quickchart(key) {\n",
              "      const quickchartButtonEl =\n",
              "        document.querySelector('#' + key + ' button');\n",
              "      quickchartButtonEl.disabled = true;  // To prevent multiple clicks.\n",
              "      quickchartButtonEl.classList.add('colab-df-spinner');\n",
              "      try {\n",
              "        const charts = await google.colab.kernel.invokeFunction(\n",
              "            'suggestCharts', [key], {});\n",
              "      } catch (error) {\n",
              "        console.error('Error during call to suggestCharts:', error);\n",
              "      }\n",
              "      quickchartButtonEl.classList.remove('colab-df-spinner');\n",
              "      quickchartButtonEl.classList.add('colab-df-quickchart-complete');\n",
              "    }\n",
              "    (() => {\n",
              "      let quickchartButtonEl =\n",
              "        document.querySelector('#df-b8fa9b67-ec90-41a8-9b98-05fc1a834589 button');\n",
              "      quickchartButtonEl.style.display =\n",
              "        google.colab.kernel.accessAllowed ? 'block' : 'none';\n",
              "    })();\n",
              "  </script>\n",
              "</div>\n",
              "    </div>\n",
              "  </div>\n"
            ],
            "application/vnd.google.colaboratory.intrinsic+json": {
              "type": "dataframe",
              "variable_name": "corr_matrix",
              "summary": "{\n  \"name\": \"corr_matrix\",\n  \"rows\": 5,\n  \"fields\": [\n    {\n      \"column\": \"popularity\",\n      \"properties\": {\n        \"dtype\": \"number\",\n        \"std\": 0.11412704365986588,\n        \"min\": 0.0,\n        \"max\": 0.30197951502323633,\n        \"num_unique_values\": 5,\n        \"samples\": [\n          0.11248531987457282,\n          0.12126871713229637,\n          0.30197951502323633\n        ],\n        \"semantic_type\": \"\",\n        \"description\": \"\"\n      }\n    },\n    {\n      \"column\": \"vote_average\",\n      \"properties\": {\n        \"dtype\": \"number\",\n        \"std\": 0.15206546278215313,\n        \"min\": -0.1399222345671611,\n        \"max\": 0.27156401858593016,\n        \"num_unique_values\": 5,\n        \"samples\": [\n          0.0,\n          -0.1399222345671611,\n          0.27156401858593016\n        ],\n        \"semantic_type\": \"\",\n        \"description\": \"\"\n      }\n    },\n    {\n      \"column\": \"vote_count\",\n      \"properties\": {\n        \"dtype\": \"number\",\n        \"std\": 0.14710003793858156,\n        \"min\": 0.0,\n        \"max\": 0.30197951502323633,\n        \"num_unique_values\": 5,\n        \"samples\": [\n          0.27156401858593016,\n          0.07054866369842792,\n          0.0\n        ],\n        \"semantic_type\": \"\",\n        \"description\": \"\"\n      }\n    },\n    {\n      \"column\": \"release_year\",\n      \"properties\": {\n        \"dtype\": \"number\",\n        \"std\": 0.021217978625499134,\n        \"min\": 0.0,\n        \"max\": 0.052524991365999904,\n        \"num_unique_values\": 5,\n        \"samples\": [\n          0.018946512900212348,\n          0.022245050107154492,\n          0.0015253351175035048\n        ],\n        \"semantic_type\": \"\",\n        \"description\": \"\"\n      }\n    },\n    {\n      \"column\": \"main_genre\",\n      \"properties\": {\n        \"dtype\": \"number\",\n        \"std\": 0.09830683590359643,\n        \"min\": -0.1399222345671611,\n        \"max\": 0.12126871713229637,\n        \"num_unique_values\": 5,\n        \"samples\": [\n          -0.1399222345671611,\n          0.0,\n          0.07054866369842792\n        ],\n        \"semantic_type\": \"\",\n        \"description\": \"\"\n      }\n    }\n  ]\n}"
            }
          },
          "metadata": {},
          "execution_count": 206
        }
      ]
    },
    {
      "cell_type": "code",
      "source": [
        "# отфильтровываем по порогу и группируем отфильтрованные значения по каждому признаку, вычисляя сумму\n",
        "feature_list = (corr_matrix.abs() > 0.07).sum(axis=1)\n",
        "# сортируем по убыванию\n",
        "feature_sort_list = feature_list.sort_values(ascending=False)\n",
        "# фильтруем\n",
        "new_features = feature_sort_list[feature_sort_list > 0].index\n",
        "new_features"
      ],
      "metadata": {
        "colab": {
          "base_uri": "https://localhost:8080/"
        },
        "id": "k7kJSwrQ52IP",
        "outputId": "6d945c1c-c179-4c58-b94c-7c15dedbd5d4"
      },
      "execution_count": 207,
      "outputs": [
        {
          "output_type": "execute_result",
          "data": {
            "text/plain": [
              "Index(['popularity', 'vote_average', 'vote_count', 'main_genre'], dtype='object')"
            ]
          },
          "metadata": {},
          "execution_count": 207
        }
      ]
    },
    {
      "cell_type": "markdown",
      "source": [
        "**Осуществить бинарную классификацию с отфильтрованными признаками**"
      ],
      "metadata": {
        "id": "G9W2ETPt_vfr"
      }
    },
    {
      "cell_type": "code",
      "source": [
        "filtered_model = KNeighborsClassifier(n_neighbors=k, metric='euclidean')\n",
        "# обучение\n",
        "filtered_model.fit(x_train_scaled[new_features], y_train)"
      ],
      "metadata": {
        "colab": {
          "base_uri": "https://localhost:8080/",
          "height": 74
        },
        "id": "GcufUQV1_u5M",
        "outputId": "3f127293-9fe1-4f0c-b07d-5b9f7f2842fe"
      },
      "execution_count": 208,
      "outputs": [
        {
          "output_type": "execute_result",
          "data": {
            "text/plain": [
              "KNeighborsClassifier(metric='euclidean', n_neighbors=3)"
            ],
            "text/html": [
              "<style>#sk-container-id-16 {color: black;background-color: white;}#sk-container-id-16 pre{padding: 0;}#sk-container-id-16 div.sk-toggleable {background-color: white;}#sk-container-id-16 label.sk-toggleable__label {cursor: pointer;display: block;width: 100%;margin-bottom: 0;padding: 0.3em;box-sizing: border-box;text-align: center;}#sk-container-id-16 label.sk-toggleable__label-arrow:before {content: \"▸\";float: left;margin-right: 0.25em;color: #696969;}#sk-container-id-16 label.sk-toggleable__label-arrow:hover:before {color: black;}#sk-container-id-16 div.sk-estimator:hover label.sk-toggleable__label-arrow:before {color: black;}#sk-container-id-16 div.sk-toggleable__content {max-height: 0;max-width: 0;overflow: hidden;text-align: left;background-color: #f0f8ff;}#sk-container-id-16 div.sk-toggleable__content pre {margin: 0.2em;color: black;border-radius: 0.25em;background-color: #f0f8ff;}#sk-container-id-16 input.sk-toggleable__control:checked~div.sk-toggleable__content {max-height: 200px;max-width: 100%;overflow: auto;}#sk-container-id-16 input.sk-toggleable__control:checked~label.sk-toggleable__label-arrow:before {content: \"▾\";}#sk-container-id-16 div.sk-estimator input.sk-toggleable__control:checked~label.sk-toggleable__label {background-color: #d4ebff;}#sk-container-id-16 div.sk-label input.sk-toggleable__control:checked~label.sk-toggleable__label {background-color: #d4ebff;}#sk-container-id-16 input.sk-hidden--visually {border: 0;clip: rect(1px 1px 1px 1px);clip: rect(1px, 1px, 1px, 1px);height: 1px;margin: -1px;overflow: hidden;padding: 0;position: absolute;width: 1px;}#sk-container-id-16 div.sk-estimator {font-family: monospace;background-color: #f0f8ff;border: 1px dotted black;border-radius: 0.25em;box-sizing: border-box;margin-bottom: 0.5em;}#sk-container-id-16 div.sk-estimator:hover {background-color: #d4ebff;}#sk-container-id-16 div.sk-parallel-item::after {content: \"\";width: 100%;border-bottom: 1px solid gray;flex-grow: 1;}#sk-container-id-16 div.sk-label:hover label.sk-toggleable__label {background-color: #d4ebff;}#sk-container-id-16 div.sk-serial::before {content: \"\";position: absolute;border-left: 1px solid gray;box-sizing: border-box;top: 0;bottom: 0;left: 50%;z-index: 0;}#sk-container-id-16 div.sk-serial {display: flex;flex-direction: column;align-items: center;background-color: white;padding-right: 0.2em;padding-left: 0.2em;position: relative;}#sk-container-id-16 div.sk-item {position: relative;z-index: 1;}#sk-container-id-16 div.sk-parallel {display: flex;align-items: stretch;justify-content: center;background-color: white;position: relative;}#sk-container-id-16 div.sk-item::before, #sk-container-id-16 div.sk-parallel-item::before {content: \"\";position: absolute;border-left: 1px solid gray;box-sizing: border-box;top: 0;bottom: 0;left: 50%;z-index: -1;}#sk-container-id-16 div.sk-parallel-item {display: flex;flex-direction: column;z-index: 1;position: relative;background-color: white;}#sk-container-id-16 div.sk-parallel-item:first-child::after {align-self: flex-end;width: 50%;}#sk-container-id-16 div.sk-parallel-item:last-child::after {align-self: flex-start;width: 50%;}#sk-container-id-16 div.sk-parallel-item:only-child::after {width: 0;}#sk-container-id-16 div.sk-dashed-wrapped {border: 1px dashed gray;margin: 0 0.4em 0.5em 0.4em;box-sizing: border-box;padding-bottom: 0.4em;background-color: white;}#sk-container-id-16 div.sk-label label {font-family: monospace;font-weight: bold;display: inline-block;line-height: 1.2em;}#sk-container-id-16 div.sk-label-container {text-align: center;}#sk-container-id-16 div.sk-container {/* jupyter's `normalize.less` sets `[hidden] { display: none; }` but bootstrap.min.css set `[hidden] { display: none !important; }` so we also need the `!important` here to be able to override the default hidden behavior on the sphinx rendered scikit-learn.org. See: https://github.com/scikit-learn/scikit-learn/issues/21755 */display: inline-block !important;position: relative;}#sk-container-id-16 div.sk-text-repr-fallback {display: none;}</style><div id=\"sk-container-id-16\" class=\"sk-top-container\"><div class=\"sk-text-repr-fallback\"><pre>KNeighborsClassifier(metric=&#x27;euclidean&#x27;, n_neighbors=3)</pre><b>In a Jupyter environment, please rerun this cell to show the HTML representation or trust the notebook. <br />On GitHub, the HTML representation is unable to render, please try loading this page with nbviewer.org.</b></div><div class=\"sk-container\" hidden><div class=\"sk-item\"><div class=\"sk-estimator sk-toggleable\"><input class=\"sk-toggleable__control sk-hidden--visually\" id=\"sk-estimator-id-16\" type=\"checkbox\" checked><label for=\"sk-estimator-id-16\" class=\"sk-toggleable__label sk-toggleable__label-arrow\">KNeighborsClassifier</label><div class=\"sk-toggleable__content\"><pre>KNeighborsClassifier(metric=&#x27;euclidean&#x27;, n_neighbors=3)</pre></div></div></div></div></div>"
            ]
          },
          "metadata": {},
          "execution_count": 208
        }
      ]
    },
    {
      "cell_type": "markdown",
      "source": [
        "**Посчитать метрики:** *accuracy, precision, recall, f-measure*, а также составить` classification_report`"
      ],
      "metadata": {
        "id": "8J10bIZjABfz"
      }
    },
    {
      "cell_type": "code",
      "source": [
        "filtered_preds = filtered_model.predict(x_test_scaled[new_features])"
      ],
      "metadata": {
        "id": "m_kJf7XvADQL"
      },
      "execution_count": 209,
      "outputs": []
    },
    {
      "cell_type": "code",
      "source": [
        "print(f'Accuracy: {accuracy_score(y_test, filtered_preds)}')\n",
        "print(f'Precision: {precision_score(y_test, filtered_preds)}')\n",
        "print(f'Recall: {recall_score(y_test, filtered_preds)}')\n",
        "print(f'F1-measure: {f1_score(y_test, filtered_preds)}')\n",
        "print(classification_report(y_test, filtered_preds))"
      ],
      "metadata": {
        "colab": {
          "base_uri": "https://localhost:8080/"
        },
        "id": "yDupegJYAFIc",
        "outputId": "8d3e1233-dbad-4366-ee5c-6a1f8a22a08f"
      },
      "execution_count": 115,
      "outputs": [
        {
          "output_type": "stream",
          "name": "stdout",
          "text": [
            "Accuracy: 0.9859514687100894\n",
            "Precision: 0.9850746268656716\n",
            "Recall: 0.9705882352941176\n",
            "F1-measure: 0.9777777777777777\n",
            "              precision    recall  f1-score   support\n",
            "\n",
            "       False       0.99      0.99      0.99      1601\n",
            "        True       0.99      0.97      0.98       748\n",
            "\n",
            "    accuracy                           0.99      2349\n",
            "   macro avg       0.99      0.98      0.98      2349\n",
            "weighted avg       0.99      0.99      0.99      2349\n",
            "\n"
          ]
        }
      ]
    },
    {
      "cell_type": "markdown",
      "source": [
        "**Сравнить результаты \"до\" и \"после\" фильтрации, сделать выводы**"
      ],
      "metadata": {
        "id": "xbUVrDnrA89U"
      }
    },
    {
      "cell_type": "markdown",
      "source": [
        "После фильтрации признаков местрики стали еще лучше!"
      ],
      "metadata": {
        "id": "s6tVz5C8BEtk"
      }
    },
    {
      "cell_type": "markdown",
      "source": [
        "**Перебрать значения гиперпараметра в каком-нибудь диапазоне с использованием кросс-валидации. Построить график train/test accuracy в зависимости от значения k**"
      ],
      "metadata": {
        "id": "Y0ZHaHgVBMZR"
      }
    },
    {
      "cell_type": "code",
      "source": [
        "scaler_filter = StandardScaler()\n",
        "scaler_filter.fit(x[new_features])"
      ],
      "metadata": {
        "colab": {
          "base_uri": "https://localhost:8080/",
          "height": 74
        },
        "id": "LL9-e041FWmC",
        "outputId": "80e3f1cf-1b2a-4110-b7de-2c01d80a74fc"
      },
      "execution_count": 133,
      "outputs": [
        {
          "output_type": "execute_result",
          "data": {
            "text/plain": [
              "StandardScaler()"
            ],
            "text/html": [
              "<style>#sk-container-id-11 {color: black;background-color: white;}#sk-container-id-11 pre{padding: 0;}#sk-container-id-11 div.sk-toggleable {background-color: white;}#sk-container-id-11 label.sk-toggleable__label {cursor: pointer;display: block;width: 100%;margin-bottom: 0;padding: 0.3em;box-sizing: border-box;text-align: center;}#sk-container-id-11 label.sk-toggleable__label-arrow:before {content: \"▸\";float: left;margin-right: 0.25em;color: #696969;}#sk-container-id-11 label.sk-toggleable__label-arrow:hover:before {color: black;}#sk-container-id-11 div.sk-estimator:hover label.sk-toggleable__label-arrow:before {color: black;}#sk-container-id-11 div.sk-toggleable__content {max-height: 0;max-width: 0;overflow: hidden;text-align: left;background-color: #f0f8ff;}#sk-container-id-11 div.sk-toggleable__content pre {margin: 0.2em;color: black;border-radius: 0.25em;background-color: #f0f8ff;}#sk-container-id-11 input.sk-toggleable__control:checked~div.sk-toggleable__content {max-height: 200px;max-width: 100%;overflow: auto;}#sk-container-id-11 input.sk-toggleable__control:checked~label.sk-toggleable__label-arrow:before {content: \"▾\";}#sk-container-id-11 div.sk-estimator input.sk-toggleable__control:checked~label.sk-toggleable__label {background-color: #d4ebff;}#sk-container-id-11 div.sk-label input.sk-toggleable__control:checked~label.sk-toggleable__label {background-color: #d4ebff;}#sk-container-id-11 input.sk-hidden--visually {border: 0;clip: rect(1px 1px 1px 1px);clip: rect(1px, 1px, 1px, 1px);height: 1px;margin: -1px;overflow: hidden;padding: 0;position: absolute;width: 1px;}#sk-container-id-11 div.sk-estimator {font-family: monospace;background-color: #f0f8ff;border: 1px dotted black;border-radius: 0.25em;box-sizing: border-box;margin-bottom: 0.5em;}#sk-container-id-11 div.sk-estimator:hover {background-color: #d4ebff;}#sk-container-id-11 div.sk-parallel-item::after {content: \"\";width: 100%;border-bottom: 1px solid gray;flex-grow: 1;}#sk-container-id-11 div.sk-label:hover label.sk-toggleable__label {background-color: #d4ebff;}#sk-container-id-11 div.sk-serial::before {content: \"\";position: absolute;border-left: 1px solid gray;box-sizing: border-box;top: 0;bottom: 0;left: 50%;z-index: 0;}#sk-container-id-11 div.sk-serial {display: flex;flex-direction: column;align-items: center;background-color: white;padding-right: 0.2em;padding-left: 0.2em;position: relative;}#sk-container-id-11 div.sk-item {position: relative;z-index: 1;}#sk-container-id-11 div.sk-parallel {display: flex;align-items: stretch;justify-content: center;background-color: white;position: relative;}#sk-container-id-11 div.sk-item::before, #sk-container-id-11 div.sk-parallel-item::before {content: \"\";position: absolute;border-left: 1px solid gray;box-sizing: border-box;top: 0;bottom: 0;left: 50%;z-index: -1;}#sk-container-id-11 div.sk-parallel-item {display: flex;flex-direction: column;z-index: 1;position: relative;background-color: white;}#sk-container-id-11 div.sk-parallel-item:first-child::after {align-self: flex-end;width: 50%;}#sk-container-id-11 div.sk-parallel-item:last-child::after {align-self: flex-start;width: 50%;}#sk-container-id-11 div.sk-parallel-item:only-child::after {width: 0;}#sk-container-id-11 div.sk-dashed-wrapped {border: 1px dashed gray;margin: 0 0.4em 0.5em 0.4em;box-sizing: border-box;padding-bottom: 0.4em;background-color: white;}#sk-container-id-11 div.sk-label label {font-family: monospace;font-weight: bold;display: inline-block;line-height: 1.2em;}#sk-container-id-11 div.sk-label-container {text-align: center;}#sk-container-id-11 div.sk-container {/* jupyter's `normalize.less` sets `[hidden] { display: none; }` but bootstrap.min.css set `[hidden] { display: none !important; }` so we also need the `!important` here to be able to override the default hidden behavior on the sphinx rendered scikit-learn.org. See: https://github.com/scikit-learn/scikit-learn/issues/21755 */display: inline-block !important;position: relative;}#sk-container-id-11 div.sk-text-repr-fallback {display: none;}</style><div id=\"sk-container-id-11\" class=\"sk-top-container\"><div class=\"sk-text-repr-fallback\"><pre>StandardScaler()</pre><b>In a Jupyter environment, please rerun this cell to show the HTML representation or trust the notebook. <br />On GitHub, the HTML representation is unable to render, please try loading this page with nbviewer.org.</b></div><div class=\"sk-container\" hidden><div class=\"sk-item\"><div class=\"sk-estimator sk-toggleable\"><input class=\"sk-toggleable__control sk-hidden--visually\" id=\"sk-estimator-id-11\" type=\"checkbox\" checked><label for=\"sk-estimator-id-11\" class=\"sk-toggleable__label sk-toggleable__label-arrow\">StandardScaler</label><div class=\"sk-toggleable__content\"><pre>StandardScaler()</pre></div></div></div></div></div>"
            ]
          },
          "metadata": {},
          "execution_count": 133
        }
      ]
    },
    {
      "cell_type": "code",
      "source": [
        "x_scaled_filtered = pd.DataFrame(scaler_filter.transform(x[new_features]), columns=new_features)\n",
        "x_train_scaled_filtered = pd.DataFrame(scaler_filter.transform(x_train[new_features]), columns=new_features)\n",
        "x_test_scaled_filtered = pd.DataFrame(scaler_filter.transform(x_test[new_features]), columns=new_features)"
      ],
      "metadata": {
        "id": "uNGUSQEzC_7_"
      },
      "execution_count": 134,
      "outputs": []
    },
    {
      "cell_type": "code",
      "source": [
        "train_score = []\n",
        "test_score = []\n",
        "scaler = StandardScaler()\n",
        "scaler.fit(x[cols])\n",
        "for k in range(2, 30):\n",
        "    model = KNeighborsClassifier(n_neighbors=k)\n",
        "    scores = cross_val_score(model, x_scaled_filtered, y, cv = 10)\n",
        "    print(f\"Neighbors: {k}, folds count: 10 avg score: {scores.mean()}\")\n",
        "    model.fit(x_train_scaled_filtered, y_train)\n",
        "    pred_train = model.predict(x_train_scaled_filtered)\n",
        "    pred_test = model.predict(x_test_scaled_filtered)\n",
        "    train_score.append(accuracy_score(y_train, pred_train))\n",
        "    test_score.append(accuracy_score(y_test, pred_test))"
      ],
      "metadata": {
        "colab": {
          "base_uri": "https://localhost:8080/"
        },
        "id": "s_QEMlYABgs2",
        "outputId": "a66d59b5-3669-42c9-ef93-efe1784f2d1e"
      },
      "execution_count": 137,
      "outputs": [
        {
          "output_type": "stream",
          "name": "stdout",
          "text": [
            "Neighbors: 2, folds count: 10 avg score: 0.9455022318899688\n",
            "Neighbors: 3, folds count: 10 avg score: 0.9449797203906375\n",
            "Neighbors: 4, folds count: 10 avg score: 0.9439095461446083\n",
            "Neighbors: 5, folds count: 10 avg score: 0.9438084879795164\n",
            "Neighbors: 6, folds count: 10 avg score: 0.9435914168536017\n",
            "Neighbors: 7, folds count: 10 avg score: 0.9447668411392834\n",
            "Neighbors: 8, folds count: 10 avg score: 0.9444438402102733\n",
            "Neighbors: 9, folds count: 10 avg score: 0.9444473523213922\n",
            "Neighbors: 10, folds count: 10 avg score: 0.9449762082795188\n",
            "Neighbors: 11, folds count: 10 avg score: 0.9447663879636554\n",
            "Neighbors: 12, folds count: 10 avg score: 0.9452962635669454\n",
            "Neighbors: 13, folds count: 10 avg score: 0.945937053905241\n",
            "Neighbors: 14, folds count: 10 avg score: 0.9456155257970226\n",
            "Neighbors: 15, folds count: 10 avg score: 0.944660004984932\n",
            "Neighbors: 16, folds count: 10 avg score: 0.9452963768608523\n",
            "Neighbors: 17, folds count: 10 avg score: 0.9458307842204245\n",
            "Neighbors: 18, folds count: 10 avg score: 0.9460417374753586\n",
            "Neighbors: 19, folds count: 10 avg score: 0.945937053905241\n",
            "Neighbors: 20, folds count: 10 avg score: 0.9456158656787437\n",
            "Neighbors: 21, folds count: 10 avg score: 0.9455116352842543\n",
            "Neighbors: 22, folds count: 10 avg score: 0.9473190129834818\n",
            "Neighbors: 23, folds count: 10 avg score: 0.9461497065687807\n",
            "Neighbors: 24, folds count: 10 avg score: 0.9468933677746809\n",
            "Neighbors: 25, folds count: 10 avg score: 0.9462560895475042\n",
            "Neighbors: 26, folds count: 10 avg score: 0.9465737656628826\n",
            "Neighbors: 27, folds count: 10 avg score: 0.9465759182471165\n",
            "Neighbors: 28, folds count: 10 avg score: 0.9477442050166542\n",
            "Neighbors: 29, folds count: 10 avg score: 0.9468947273015657\n"
          ]
        }
      ]
    },
    {
      "cell_type": "code",
      "source": [
        "plt.plot(range(2, 30), train_score, label=\"train_score\")\n",
        "plt.plot(range(2, 30), test_score, label=\"test_score\")\n",
        "plt.xlabel(\"k\")\n",
        "plt.ylabel(\"accuracy\")\n",
        "plt.legend()"
      ],
      "metadata": {
        "colab": {
          "base_uri": "https://localhost:8080/",
          "height": 466
        },
        "id": "yrIc7fx8FB9F",
        "outputId": "586d2003-1283-44c1-fa3d-700d44529188"
      },
      "execution_count": 142,
      "outputs": [
        {
          "output_type": "execute_result",
          "data": {
            "text/plain": [
              "<matplotlib.legend.Legend at 0x7c10148369b0>"
            ]
          },
          "metadata": {},
          "execution_count": 142
        },
        {
          "output_type": "display_data",
          "data": {
            "text/plain": [
              "<Figure size 640x480 with 1 Axes>"
            ],
            "image/png": "[encoded data removed]"
          },
          "metadata": {}
        }
      ]
    },
    {
      "cell_type": "markdown",
      "source": [
        "# Многоклассовая классификация"
      ],
      "metadata": {
        "id": "ZqR9AXoNG3z_"
      }
    },
    {
      "cell_type": "markdown",
      "source": [
        "**Привести описание датасета. Осуществить предобработку данных - \"подчистить данные\"**"
      ],
      "metadata": {
        "id": "ZMpjIU3yG5wv"
      }
    },
    {
      "cell_type": "markdown",
      "source": [
        "Аналогично бинарной классификации"
      ],
      "metadata": {
        "id": "yQ7a8yj2HRkt"
      }
    },
    {
      "cell_type": "code",
      "source": [
        "data = pd.read_csv('movies2.csv')"
      ],
      "metadata": {
        "id": "04i6Yb6BHZWj"
      },
      "execution_count": 345,
      "outputs": []
    },
    {
      "cell_type": "code",
      "source": [
        "# загрубим значение даты выхода для группировке по годам\n",
        "data['release_year'] = data[\"release_date\"].apply(lambda e:  str(round(int(e[0:4]), -1)) + '-e')"
      ],
      "metadata": {
        "id": "xwc6xkKEHjCB"
      },
      "execution_count": 346,
      "outputs": []
    },
    {
      "cell_type": "code",
      "source": [
        "#загрубим значения датасета. Выделим среди жанров фильма \"главный\"\n",
        "data = data[data['genre_names'] != '[]']\n",
        "data['main_genre'] = data[\"genre_names\"].apply(lambda e: e.split('\\'')[1])"
      ],
      "metadata": {
        "colab": {
          "base_uri": "https://localhost:8080/"
        },
        "id": "zKMXZN3iHjte",
        "outputId": "f1f17b6b-d3ff-42e9-e334-d65dafbfe314"
      },
      "execution_count": 347,
      "outputs": [
        {
          "output_type": "stream",
          "name": "stderr",
          "text": [
            "<ipython-input-347-76eda0bdf38b>:3: SettingWithCopyWarning: \n",
            "A value is trying to be set on a copy of a slice from a DataFrame.\n",
            "Try using .loc[row_indexer,col_indexer] = value instead\n",
            "\n",
            "See the caveats in the documentation: https://pandas.pydata.org/pandas-docs/stable/user_guide/indexing.html#returning-a-view-versus-a-copy\n",
            "  data['main_genre'] = data[\"genre_names\"].apply(lambda e: e.split('\\'')[1])\n"
          ]
        }
      ]
    },
    {
      "cell_type": "code",
      "source": [
        "# округление 'popularity' до десятков\n",
        "data['popularity'] = data[\"popularity\"].apply(lambda e:  round(int(e), -1))"
      ],
      "metadata": {
        "id": "tGSMxchLHsNW"
      },
      "execution_count": 348,
      "outputs": []
    },
    {
      "cell_type": "code",
      "source": [
        "bins = [0, 6.3, 7.2, 10]\n",
        "labels = ['low', 'medium', 'high']\n",
        "data['rating'] = pd.cut(data['vote_average'], bins=bins, labels=labels)"
      ],
      "metadata": {
        "id": "iYnLMsl2M-kK"
      },
      "execution_count": 369,
      "outputs": []
    },
    {
      "cell_type": "code",
      "source": [
        "data['rating'].value_counts()"
      ],
      "metadata": {
        "colab": {
          "base_uri": "https://localhost:8080/"
        },
        "id": "RIHGF8hmTCJh",
        "outputId": "f7f6acbb-2a5d-450d-9a94-b10ed6fec89a"
      },
      "execution_count": 370,
      "outputs": [
        {
          "output_type": "execute_result",
          "data": {
            "text/plain": [
              "rating\n",
              "medium    3920\n",
              "low       3139\n",
              "high      2338\n",
              "Name: count, dtype: int64"
            ]
          },
          "metadata": {},
          "execution_count": 370
        }
      ]
    },
    {
      "cell_type": "code",
      "source": [
        "data.drop('overview', axis=1, inplace=True)\n",
        "data.drop('original_title', axis=1, inplace=True)\n",
        "data.drop('release_date', axis=1, inplace=True)\n",
        "data.drop('genre_names', axis=1, inplace=True)\n",
        "data.drop('vote_average', axis=1, inplace=True)\n",
        "data.drop('id', axis=1, inplace=True)"
      ],
      "metadata": {
        "id": "EWw90-yOHxPb"
      },
      "execution_count": 371,
      "outputs": []
    },
    {
      "cell_type": "markdown",
      "source": [
        "**Закодировать категориальные признаки при необходимости**"
      ],
      "metadata": {
        "id": "0RMKE3PnJQFF"
      }
    },
    {
      "cell_type": "markdown",
      "source": [
        "Предсказывать будем rating"
      ],
      "metadata": {
        "id": "2FeGou7iKK0S"
      }
    },
    {
      "cell_type": "code",
      "source": [
        "category_cols = ['release_year', 'main_genre', 'rating']\n",
        "dicts = []\n",
        "for col in category_cols:\n",
        "  print (col)\n",
        "  print(len(data[col].unique()))\n",
        "  keys, values = pd.factorize(data[col].unique())\n",
        "  d = dict(zip(values, keys))\n",
        "  data[col] = data[col].replace(d)\n",
        "  dicts.append(d)"
      ],
      "metadata": {
        "colab": {
          "base_uri": "https://localhost:8080/"
        },
        "id": "11f8N3DzKWv0",
        "outputId": "2284ba02-2ddc-4312-cab8-1e232a997c7c"
      },
      "execution_count": 372,
      "outputs": [
        {
          "output_type": "stream",
          "name": "stdout",
          "text": [
            "release_year\n",
            "12\n",
            "main_genre\n",
            "18\n",
            "rating\n",
            "3\n"
          ]
        }
      ]
    },
    {
      "cell_type": "code",
      "source": [
        "data"
      ],
      "metadata": {
        "colab": {
          "base_uri": "https://localhost:8080/",
          "height": 423
        },
        "id": "J8K5sfx-Kiz9",
        "outputId": "7505e833-2d2c-414e-fa6c-36090b481389"
      },
      "execution_count": 373,
      "outputs": [
        {
          "output_type": "execute_result",
          "data": {
            "text/plain": [
              "      popularity  vote_count  release_year  main_genre rating\n",
              "0            120       26221             0           0      0\n",
              "1            170       19877             1           0      0\n",
              "2            160       12001             1           0      0\n",
              "3             80       15409             0           0      0\n",
              "4             80        8276             2           0      0\n",
              "...          ...         ...           ...         ...    ...\n",
              "9395          10         346             3          10      2\n",
              "9396          10        1317             5          10      2\n",
              "9397          20         329             3           1      2\n",
              "9398          10         441             7           3      2\n",
              "9399          20         814             3          15      2\n",
              "\n",
              "[9397 rows x 5 columns]"
            ],
            "text/html": [
              "\n",
              "  <div id=\"df-1bb8aed1-1f57-4709-bc17-fbbaf5f8491a\" class=\"colab-df-container\">\n",
              "    <div>\n",
              "<style scoped>\n",
              "    .dataframe tbody tr th:only-of-type {\n",
              "        vertical-align: middle;\n",
              "    }\n",
              "\n",
              "    .dataframe tbody tr th {\n",
              "        vertical-align: top;\n",
              "    }\n",
              "\n",
              "    .dataframe thead th {\n",
              "        text-align: right;\n",
              "    }\n",
              "</style>\n",
              "<table border=\"1\" class=\"dataframe\">\n",
              "  <thead>\n",
              "    <tr style=\"text-align: right;\">\n",
              "      <th></th>\n",
              "      <th>popularity</th>\n",
              "      <th>vote_count</th>\n",
              "      <th>release_year</th>\n",
              "      <th>main_genre</th>\n",
              "      <th>rating</th>\n",
              "    </tr>\n",
              "  </thead>\n",
              "  <tbody>\n",
              "    <tr>\n",
              "      <th>0</th>\n",
              "      <td>120</td>\n",
              "      <td>26221</td>\n",
              "      <td>0</td>\n",
              "      <td>0</td>\n",
              "      <td>0</td>\n",
              "    </tr>\n",
              "    <tr>\n",
              "      <th>1</th>\n",
              "      <td>170</td>\n",
              "      <td>19877</td>\n",
              "      <td>1</td>\n",
              "      <td>0</td>\n",
              "      <td>0</td>\n",
              "    </tr>\n",
              "    <tr>\n",
              "      <th>2</th>\n",
              "      <td>160</td>\n",
              "      <td>12001</td>\n",
              "      <td>1</td>\n",
              "      <td>0</td>\n",
              "      <td>0</td>\n",
              "    </tr>\n",
              "    <tr>\n",
              "      <th>3</th>\n",
              "      <td>80</td>\n",
              "      <td>15409</td>\n",
              "      <td>0</td>\n",
              "      <td>0</td>\n",
              "      <td>0</td>\n",
              "    </tr>\n",
              "    <tr>\n",
              "      <th>4</th>\n",
              "      <td>80</td>\n",
              "      <td>8276</td>\n",
              "      <td>2</td>\n",
              "      <td>0</td>\n",
              "      <td>0</td>\n",
              "    </tr>\n",
              "    <tr>\n",
              "      <th>...</th>\n",
              "      <td>...</td>\n",
              "      <td>...</td>\n",
              "      <td>...</td>\n",
              "      <td>...</td>\n",
              "      <td>...</td>\n",
              "    </tr>\n",
              "    <tr>\n",
              "      <th>9395</th>\n",
              "      <td>10</td>\n",
              "      <td>346</td>\n",
              "      <td>3</td>\n",
              "      <td>10</td>\n",
              "      <td>2</td>\n",
              "    </tr>\n",
              "    <tr>\n",
              "      <th>9396</th>\n",
              "      <td>10</td>\n",
              "      <td>1317</td>\n",
              "      <td>5</td>\n",
              "      <td>10</td>\n",
              "      <td>2</td>\n",
              "    </tr>\n",
              "    <tr>\n",
              "      <th>9397</th>\n",
              "      <td>20</td>\n",
              "      <td>329</td>\n",
              "      <td>3</td>\n",
              "      <td>1</td>\n",
              "      <td>2</td>\n",
              "    </tr>\n",
              "    <tr>\n",
              "      <th>9398</th>\n",
              "      <td>10</td>\n",
              "      <td>441</td>\n",
              "      <td>7</td>\n",
              "      <td>3</td>\n",
              "      <td>2</td>\n",
              "    </tr>\n",
              "    <tr>\n",
              "      <th>9399</th>\n",
              "      <td>20</td>\n",
              "      <td>814</td>\n",
              "      <td>3</td>\n",
              "      <td>15</td>\n",
              "      <td>2</td>\n",
              "    </tr>\n",
              "  </tbody>\n",
              "</table>\n",
              "<p>9397 rows × 5 columns</p>\n",
              "</div>\n",
              "    <div class=\"colab-df-buttons\">\n",
              "\n",
              "  <div class=\"colab-df-container\">\n",
              "    <button class=\"colab-df-convert\" onclick=\"convertToInteractive('df-1bb8aed1-1f57-4709-bc17-fbbaf5f8491a')\"\n",
              "            title=\"Convert this dataframe to an interactive table.\"\n",
              "            style=\"display:none;\">\n",
              "\n",
              "  <svg xmlns=\"http://www.w3.org/2000/svg\" height=\"24px\" viewBox=\"0 -960 960 960\">\n",
              "    <path d=\"M120-120v-720h720v720H120Zm60-500h600v-160H180v160Zm220 220h160v-160H400v160Zm0 220h160v-160H400v160ZM180-400h160v-160H180v160Zm440 0h160v-160H620v160ZM180-180h160v-160H180v160Zm440 0h160v-160H620v160Z\"/>\n",
              "  </svg>\n",
              "    </button>\n",
              "\n",
              "  <style>\n",
              "    .colab-df-container {\n",
              "      display:flex;\n",
              "      gap: 12px;\n",
              "    }\n",
              "\n",
              "    .colab-df-convert {\n",
              "      background-color: #E8F0FE;\n",
              "      border: none;\n",
              "      border-radius: 50%;\n",
              "      cursor: pointer;\n",
              "      display: none;\n",
              "      fill: #1967D2;\n",
              "      height: 32px;\n",
              "      padding: 0 0 0 0;\n",
              "      width: 32px;\n",
              "    }\n",
              "\n",
              "    .colab-df-convert:hover {\n",
              "      background-color: #E2EBFA;\n",
              "      box-shadow: 0px 1px 2px rgba(60, 64, 67, 0.3), 0px 1px 3px 1px rgba(60, 64, 67, 0.15);\n",
              "      fill: #174EA6;\n",
              "    }\n",
              "\n",
              "    .colab-df-buttons div {\n",
              "      margin-bottom: 4px;\n",
              "    }\n",
              "\n",
              "    [theme=dark] .colab-df-convert {\n",
              "      background-color: #3B4455;\n",
              "      fill: #D2E3FC;\n",
              "    }\n",
              "\n",
              "    [theme=dark] .colab-df-convert:hover {\n",
              "      background-color: #434B5C;\n",
              "      box-shadow: 0px 1px 3px 1px rgba(0, 0, 0, 0.15);\n",
              "      filter: drop-shadow(0px 1px 2px rgba(0, 0, 0, 0.3));\n",
              "      fill: #FFFFFF;\n",
              "    }\n",
              "  </style>\n",
              "\n",
              "    <script>\n",
              "      const buttonEl =\n",
              "        document.querySelector('#df-1bb8aed1-1f57-4709-bc17-fbbaf5f8491a button.colab-df-convert');\n",
              "      buttonEl.style.display =\n",
              "        google.colab.kernel.accessAllowed ? 'block' : 'none';\n",
              "\n",
              "      async function convertToInteractive(key) {\n",
              "        const element = document.querySelector('#df-1bb8aed1-1f57-4709-bc17-fbbaf5f8491a');\n",
              "        const dataTable =\n",
              "          await google.colab.kernel.invokeFunction('convertToInteractive',\n",
              "                                                    [key], {});\n",
              "        if (!dataTable) return;\n",
              "\n",
              "        const docLinkHtml = 'Like what you see? Visit the ' +\n",
              "          '<a target=\"_blank\" href=https://colab.research.google.com/notebooks/data_table.ipynb>data table notebook</a>'\n",
              "          + ' to learn more about interactive tables.';\n",
              "        element.innerHTML = '';\n",
              "        dataTable['output_type'] = 'display_data';\n",
              "        await google.colab.output.renderOutput(dataTable, element);\n",
              "        const docLink = document.createElement('div');\n",
              "        docLink.innerHTML = docLinkHtml;\n",
              "        element.appendChild(docLink);\n",
              "      }\n",
              "    </script>\n",
              "  </div>\n",
              "\n",
              "\n",
              "<div id=\"df-24aa2af4-164c-469c-9265-7e33fbd8e9b3\">\n",
              "  <button class=\"colab-df-quickchart\" onclick=\"quickchart('df-24aa2af4-164c-469c-9265-7e33fbd8e9b3')\"\n",
              "            title=\"Suggest charts\"\n",
              "            style=\"display:none;\">\n",
              "\n",
              "<svg xmlns=\"http://www.w3.org/2000/svg\" height=\"24px\"viewBox=\"0 0 24 24\"\n",
              "     width=\"24px\">\n",
              "    <g>\n",
              "        <path d=\"M19 3H5c-1.1 0-2 .9-2 2v14c0 1.1.9 2 2 2h14c1.1 0 2-.9 2-2V5c0-1.1-.9-2-2-2zM9 17H7v-7h2v7zm4 0h-2V7h2v10zm4 0h-2v-4h2v4z\"/>\n",
              "    </g>\n",
              "</svg>\n",
              "  </button>\n",
              "\n",
              "<style>\n",
              "  .colab-df-quickchart {\n",
              "      --bg-color: #E8F0FE;\n",
              "      --fill-color: #1967D2;\n",
              "      --hover-bg-color: #E2EBFA;\n",
              "      --hover-fill-color: #174EA6;\n",
              "      --disabled-fill-color: #AAA;\n",
              "      --disabled-bg-color: #DDD;\n",
              "  }\n",
              "\n",
              "  [theme=dark] .colab-df-quickchart {\n",
              "      --bg-color: #3B4455;\n",
              "      --fill-color: #D2E3FC;\n",
              "      --hover-bg-color: #434B5C;\n",
              "      --hover-fill-color: #FFFFFF;\n",
              "      --disabled-bg-color: #3B4455;\n",
              "      --disabled-fill-color: #666;\n",
              "  }\n",
              "\n",
              "  .colab-df-quickchart {\n",
              "    background-color: var(--bg-color);\n",
              "    border: none;\n",
              "    border-radius: 50%;\n",
              "    cursor: pointer;\n",
              "    display: none;\n",
              "    fill: var(--fill-color);\n",
              "    height: 32px;\n",
              "    padding: 0;\n",
              "    width: 32px;\n",
              "  }\n",
              "\n",
              "  .colab-df-quickchart:hover {\n",
              "    background-color: var(--hover-bg-color);\n",
              "    box-shadow: 0 1px 2px rgba(60, 64, 67, 0.3), 0 1px 3px 1px rgba(60, 64, 67, 0.15);\n",
              "    fill: var(--button-hover-fill-color);\n",
              "  }\n",
              "\n",
              "  .colab-df-quickchart-complete:disabled,\n",
              "  .colab-df-quickchart-complete:disabled:hover {\n",
              "    background-color: var(--disabled-bg-color);\n",
              "    fill: var(--disabled-fill-color);\n",
              "    box-shadow: none;\n",
              "  }\n",
              "\n",
              "  .colab-df-spinner {\n",
              "    border: 2px solid var(--fill-color);\n",
              "    border-color: transparent;\n",
              "    border-bottom-color: var(--fill-color);\n",
              "    animation:\n",
              "      spin 1s steps(1) infinite;\n",
              "  }\n",
              "\n",
              "  @keyframes spin {\n",
              "    0% {\n",
              "      border-color: transparent;\n",
              "      border-bottom-color: var(--fill-color);\n",
              "      border-left-color: var(--fill-color);\n",
              "    }\n",
              "    20% {\n",
              "      border-color: transparent;\n",
              "      border-left-color: var(--fill-color);\n",
              "      border-top-color: var(--fill-color);\n",
              "    }\n",
              "    30% {\n",
              "      border-color: transparent;\n",
              "      border-left-color: var(--fill-color);\n",
              "      border-top-color: var(--fill-color);\n",
              "      border-right-color: var(--fill-color);\n",
              "    }\n",
              "    40% {\n",
              "      border-color: transparent;\n",
              "      border-right-color: var(--fill-color);\n",
              "      border-top-color: var(--fill-color);\n",
              "    }\n",
              "    60% {\n",
              "      border-color: transparent;\n",
              "      border-right-color: var(--fill-color);\n",
              "    }\n",
              "    80% {\n",
              "      border-color: transparent;\n",
              "      border-right-color: var(--fill-color);\n",
              "      border-bottom-color: var(--fill-color);\n",
              "    }\n",
              "    90% {\n",
              "      border-color: transparent;\n",
              "      border-bottom-color: var(--fill-color);\n",
              "    }\n",
              "  }\n",
              "</style>\n",
              "\n",
              "  <script>\n",
              "    async function quickchart(key) {\n",
              "      const quickchartButtonEl =\n",
              "        document.querySelector('#' + key + ' button');\n",
              "      quickchartButtonEl.disabled = true;  // To prevent multiple clicks.\n",
              "      quickchartButtonEl.classList.add('colab-df-spinner');\n",
              "      try {\n",
              "        const charts = await google.colab.kernel.invokeFunction(\n",
              "            'suggestCharts', [key], {});\n",
              "      } catch (error) {\n",
              "        console.error('Error during call to suggestCharts:', error);\n",
              "      }\n",
              "      quickchartButtonEl.classList.remove('colab-df-spinner');\n",
              "      quickchartButtonEl.classList.add('colab-df-quickchart-complete');\n",
              "    }\n",
              "    (() => {\n",
              "      let quickchartButtonEl =\n",
              "        document.querySelector('#df-24aa2af4-164c-469c-9265-7e33fbd8e9b3 button');\n",
              "      quickchartButtonEl.style.display =\n",
              "        google.colab.kernel.accessAllowed ? 'block' : 'none';\n",
              "    })();\n",
              "  </script>\n",
              "</div>\n",
              "    </div>\n",
              "  </div>\n"
            ],
            "application/vnd.google.colaboratory.intrinsic+json": {
              "type": "dataframe",
              "variable_name": "data",
              "summary": "{\n  \"name\": \"data\",\n  \"rows\": 9397,\n  \"fields\": [\n    {\n      \"column\": \"popularity\",\n      \"properties\": {\n        \"dtype\": \"number\",\n        \"std\": 90,\n        \"min\": 0,\n        \"max\": 3630,\n        \"num_unique_values\": 73,\n        \"samples\": [\n          30,\n          3150,\n          50\n        ],\n        \"semantic_type\": \"\",\n        \"description\": \"\"\n      }\n    },\n    {\n      \"column\": \"vote_count\",\n      \"properties\": {\n        \"dtype\": \"number\",\n        \"std\": 3092,\n        \"min\": 300,\n        \"max\": 35768,\n        \"num_unique_values\": 3428,\n        \"samples\": [\n          1367,\n          4427,\n          2871\n        ],\n        \"semantic_type\": \"\",\n        \"description\": \"\"\n      }\n    },\n    {\n      \"column\": \"release_year\",\n      \"properties\": {\n        \"dtype\": \"number\",\n        \"std\": 1,\n        \"min\": 0,\n        \"max\": 11,\n        \"num_unique_values\": 12,\n        \"samples\": [\n          10,\n          9,\n          0\n        ],\n        \"semantic_type\": \"\",\n        \"description\": \"\"\n      }\n    },\n    {\n      \"column\": \"main_genre\",\n      \"properties\": {\n        \"dtype\": \"number\",\n        \"std\": 4,\n        \"min\": 0,\n        \"max\": 17,\n        \"num_unique_values\": 18,\n        \"samples\": [\n          0,\n          1,\n          8\n        ],\n        \"semantic_type\": \"\",\n        \"description\": \"\"\n      }\n    },\n    {\n      \"column\": \"rating\",\n      \"properties\": {\n        \"dtype\": \"category\",\n        \"num_unique_values\": 3,\n        \"samples\": [\n          0,\n          1,\n          2\n        ],\n        \"semantic_type\": \"\",\n        \"description\": \"\"\n      }\n    }\n  ]\n}"
            }
          },
          "metadata": {},
          "execution_count": 373
        }
      ]
    },
    {
      "cell_type": "markdown",
      "source": [
        "**Выбрать какое-нибудь значение гиперпараметра `k`**\n"
      ],
      "metadata": {
        "id": "90qbPI_1Kkeq"
      }
    },
    {
      "cell_type": "code",
      "source": [
        "k = 3"
      ],
      "metadata": {
        "id": "O-P0PS6KKk3C"
      },
      "execution_count": 374,
      "outputs": []
    },
    {
      "cell_type": "markdown",
      "source": [
        "**Нормализовать данные**"
      ],
      "metadata": {
        "id": "2PlBpHjHLM7y"
      }
    },
    {
      "cell_type": "code",
      "source": [
        "x = data.drop('rating', axis=1)\n",
        "y = data['rating']\n",
        "cols = list(x.columns)"
      ],
      "metadata": {
        "id": "5mn9iHJsK4mL"
      },
      "execution_count": 375,
      "outputs": []
    },
    {
      "cell_type": "code",
      "source": [
        "scaler = StandardScaler()\n",
        "scaler.fit(x[cols])\n",
        "scaled = scaler.transform(x[cols])\n",
        "x_scaled = pd.DataFrame(scaled, columns=cols)"
      ],
      "metadata": {
        "id": "AIDfcHLKKxCe"
      },
      "execution_count": 376,
      "outputs": []
    },
    {
      "cell_type": "markdown",
      "source": [
        "**Разбить выборку на обучающую и тестовую**"
      ],
      "metadata": {
        "id": "XfCkQocwLOj5"
      }
    },
    {
      "cell_type": "code",
      "source": [
        "x_train, x_test, y_train, y_test = train_test_split(x, y, train_size=0.85)"
      ],
      "metadata": {
        "id": "fH8fCJZULTUd"
      },
      "execution_count": 384,
      "outputs": []
    },
    {
      "cell_type": "markdown",
      "source": [
        "**Осуществить многоклассовую классификацию**"
      ],
      "metadata": {
        "id": "s0DB1GDNLYG9"
      }
    },
    {
      "cell_type": "code",
      "source": [
        "model = KNeighborsClassifier(n_neighbors=k)\n",
        "model.fit(x_train, y_train)"
      ],
      "metadata": {
        "colab": {
          "base_uri": "https://localhost:8080/",
          "height": 74
        },
        "id": "ORvsPqQ3LcHU",
        "outputId": "fde23cbd-6c6a-4f57-b8ea-f05c2a010f02"
      },
      "execution_count": 385,
      "outputs": [
        {
          "output_type": "execute_result",
          "data": {
            "text/plain": [
              "KNeighborsClassifier(n_neighbors=3)"
            ],
            "text/html": [
              "<style>#sk-container-id-35 {color: black;background-color: white;}#sk-container-id-35 pre{padding: 0;}#sk-container-id-35 div.sk-toggleable {background-color: white;}#sk-container-id-35 label.sk-toggleable__label {cursor: pointer;display: block;width: 100%;margin-bottom: 0;padding: 0.3em;box-sizing: border-box;text-align: center;}#sk-container-id-35 label.sk-toggleable__label-arrow:before {content: \"▸\";float: left;margin-right: 0.25em;color: #696969;}#sk-container-id-35 label.sk-toggleable__label-arrow:hover:before {color: black;}#sk-container-id-35 div.sk-estimator:hover label.sk-toggleable__label-arrow:before {color: black;}#sk-container-id-35 div.sk-toggleable__content {max-height: 0;max-width: 0;overflow: hidden;text-align: left;background-color: #f0f8ff;}#sk-container-id-35 div.sk-toggleable__content pre {margin: 0.2em;color: black;border-radius: 0.25em;background-color: #f0f8ff;}#sk-container-id-35 input.sk-toggleable__control:checked~div.sk-toggleable__content {max-height: 200px;max-width: 100%;overflow: auto;}#sk-container-id-35 input.sk-toggleable__control:checked~label.sk-toggleable__label-arrow:before {content: \"▾\";}#sk-container-id-35 div.sk-estimator input.sk-toggleable__control:checked~label.sk-toggleable__label {background-color: #d4ebff;}#sk-container-id-35 div.sk-label input.sk-toggleable__control:checked~label.sk-toggleable__label {background-color: #d4ebff;}#sk-container-id-35 input.sk-hidden--visually {border: 0;clip: rect(1px 1px 1px 1px);clip: rect(1px, 1px, 1px, 1px);height: 1px;margin: -1px;overflow: hidden;padding: 0;position: absolute;width: 1px;}#sk-container-id-35 div.sk-estimator {font-family: monospace;background-color: #f0f8ff;border: 1px dotted black;border-radius: 0.25em;box-sizing: border-box;margin-bottom: 0.5em;}#sk-container-id-35 div.sk-estimator:hover {background-color: #d4ebff;}#sk-container-id-35 div.sk-parallel-item::after {content: \"\";width: 100%;border-bottom: 1px solid gray;flex-grow: 1;}#sk-container-id-35 div.sk-label:hover label.sk-toggleable__label {background-color: #d4ebff;}#sk-container-id-35 div.sk-serial::before {content: \"\";position: absolute;border-left: 1px solid gray;box-sizing: border-box;top: 0;bottom: 0;left: 50%;z-index: 0;}#sk-container-id-35 div.sk-serial {display: flex;flex-direction: column;align-items: center;background-color: white;padding-right: 0.2em;padding-left: 0.2em;position: relative;}#sk-container-id-35 div.sk-item {position: relative;z-index: 1;}#sk-container-id-35 div.sk-parallel {display: flex;align-items: stretch;justify-content: center;background-color: white;position: relative;}#sk-container-id-35 div.sk-item::before, #sk-container-id-35 div.sk-parallel-item::before {content: \"\";position: absolute;border-left: 1px solid gray;box-sizing: border-box;top: 0;bottom: 0;left: 50%;z-index: -1;}#sk-container-id-35 div.sk-parallel-item {display: flex;flex-direction: column;z-index: 1;position: relative;background-color: white;}#sk-container-id-35 div.sk-parallel-item:first-child::after {align-self: flex-end;width: 50%;}#sk-container-id-35 div.sk-parallel-item:last-child::after {align-self: flex-start;width: 50%;}#sk-container-id-35 div.sk-parallel-item:only-child::after {width: 0;}#sk-container-id-35 div.sk-dashed-wrapped {border: 1px dashed gray;margin: 0 0.4em 0.5em 0.4em;box-sizing: border-box;padding-bottom: 0.4em;background-color: white;}#sk-container-id-35 div.sk-label label {font-family: monospace;font-weight: bold;display: inline-block;line-height: 1.2em;}#sk-container-id-35 div.sk-label-container {text-align: center;}#sk-container-id-35 div.sk-container {/* jupyter's `normalize.less` sets `[hidden] { display: none; }` but bootstrap.min.css set `[hidden] { display: none !important; }` so we also need the `!important` here to be able to override the default hidden behavior on the sphinx rendered scikit-learn.org. See: https://github.com/scikit-learn/scikit-learn/issues/21755 */display: inline-block !important;position: relative;}#sk-container-id-35 div.sk-text-repr-fallback {display: none;}</style><div id=\"sk-container-id-35\" class=\"sk-top-container\"><div class=\"sk-text-repr-fallback\"><pre>KNeighborsClassifier(n_neighbors=3)</pre><b>In a Jupyter environment, please rerun this cell to show the HTML representation or trust the notebook. <br />On GitHub, the HTML representation is unable to render, please try loading this page with nbviewer.org.</b></div><div class=\"sk-container\" hidden><div class=\"sk-item\"><div class=\"sk-estimator sk-toggleable\"><input class=\"sk-toggleable__control sk-hidden--visually\" id=\"sk-estimator-id-35\" type=\"checkbox\" checked><label for=\"sk-estimator-id-35\" class=\"sk-toggleable__label sk-toggleable__label-arrow\">KNeighborsClassifier</label><div class=\"sk-toggleable__content\"><pre>KNeighborsClassifier(n_neighbors=3)</pre></div></div></div></div></div>"
            ]
          },
          "metadata": {},
          "execution_count": 385
        }
      ]
    },
    {
      "cell_type": "markdown",
      "source": [
        "**Посчитать метрики:** *accuracy, precision, recall, f-measure*, а также составить` classification_report`"
      ],
      "metadata": {
        "id": "XtKhsIxkL2IJ"
      }
    },
    {
      "cell_type": "code",
      "source": [
        "preds = model.predict(x_test)"
      ],
      "metadata": {
        "id": "5lXRLvDXLsII"
      },
      "execution_count": 386,
      "outputs": []
    },
    {
      "cell_type": "code",
      "source": [
        "print(f'Accuracy: {accuracy_score(y_test, preds)}')\n",
        "print(f'Precision (micro): {precision_score(y_test, preds, average=\"micro\")}')\n",
        "print(f'Recall (micro): {recall_score(y_test, preds, average=\"micro\")}')\n",
        "print(f'F1-measure (micro): {f1_score(y_test, preds, average=\"micro\")}')\n",
        "print(classification_report(y_test, preds))"
      ],
      "metadata": {
        "colab": {
          "base_uri": "https://localhost:8080/"
        },
        "id": "YeLdr8YBL5rC",
        "outputId": "dcd1fc2c-274a-4320-fdff-0de8f6e33a71"
      },
      "execution_count": 387,
      "outputs": [
        {
          "output_type": "stream",
          "name": "stdout",
          "text": [
            "Accuracy: 0.3730496453900709\n",
            "Precision (micro): 0.3730496453900709\n",
            "Recall (micro): 0.3730496453900709\n",
            "F1-measure (micro): 0.3730496453900709\n",
            "              precision    recall  f1-score   support\n",
            "\n",
            "           0       0.31      0.39      0.35       371\n",
            "           1       0.42      0.36      0.39       593\n",
            "           2       0.38      0.37      0.38       446\n",
            "\n",
            "    accuracy                           0.37      1410\n",
            "   macro avg       0.37      0.37      0.37      1410\n",
            "weighted avg       0.38      0.37      0.37      1410\n",
            "\n"
          ]
        }
      ]
    },
    {
      "cell_type": "markdown",
      "source": [
        "**Построить** `сorrelation heatmap` и/или воспользоваться методом `corr()`. **Выбрать наиболее важные признаки** эвристически или на основании каких-нибудь вычислений"
      ],
      "metadata": {
        "id": "I9l0GzsjNjbI"
      }
    },
    {
      "cell_type": "code",
      "source": [
        "corr_matrix = x_train.corr()\n",
        "sns.heatmap(corr_matrix)"
      ],
      "metadata": {
        "colab": {
          "base_uri": "https://localhost:8080/",
          "height": 452
        },
        "id": "vvijI4PiNkDF",
        "outputId": "23e242b0-9bf7-4095-d8da-72e8fed6725a"
      },
      "execution_count": 388,
      "outputs": [
        {
          "output_type": "execute_result",
          "data": {
            "text/plain": [
              "<Axes: >"
            ]
          },
          "metadata": {},
          "execution_count": 388
        },
        {
          "output_type": "display_data",
          "data": {
            "text/plain": [
              "<Figure size 640x480 with 2 Axes>"
            ],
            "image/png": "[encoded data removed]"
          },
          "metadata": {}
        }
      ]
    },
    {
      "cell_type": "code",
      "source": [
        "# зануляем главную диагональ в матрице корреляции\n",
        "np.fill_diagonal(corr_matrix.values, 0)\n",
        "# отфильтровываем по порогу и группируем отфильтрованные значения по каждому признаку, вычисляя сумму\n",
        "feature_list = (corr_matrix.abs() > 0.07).sum(axis=1)\n",
        "# сортируем по убыванию\n",
        "feature_sort_list = feature_list.sort_values(ascending=False)\n",
        "# фильтруем\n",
        "new_features = feature_sort_list[feature_sort_list > 0].index\n",
        "new_features"
      ],
      "metadata": {
        "colab": {
          "base_uri": "https://localhost:8080/"
        },
        "id": "QeGQbIIiNtHV",
        "outputId": "8aa8636e-d1a9-4738-9006-64c98eae1ef1"
      },
      "execution_count": 389,
      "outputs": [
        {
          "output_type": "execute_result",
          "data": {
            "text/plain": [
              "Index(['popularity', 'vote_count', 'main_genre'], dtype='object')"
            ]
          },
          "metadata": {},
          "execution_count": 389
        }
      ]
    },
    {
      "cell_type": "markdown",
      "source": [
        "**Осуществить многоклассовую классификацию с отфильтрованными признаками**"
      ],
      "metadata": {
        "id": "tovMvfq9N4ZE"
      }
    },
    {
      "cell_type": "code",
      "source": [
        "filtered_model = KNeighborsClassifier(n_neighbors=k, metric='euclidean')\n",
        "# обучение\n",
        "filtered_model.fit(x_train[new_features], y_train)"
      ],
      "metadata": {
        "colab": {
          "base_uri": "https://localhost:8080/",
          "height": 74
        },
        "id": "e8WoQnMZN0gL",
        "outputId": "eb316341-6757-4638-cf87-bb7ba9c082df"
      },
      "execution_count": 390,
      "outputs": [
        {
          "output_type": "execute_result",
          "data": {
            "text/plain": [
              "KNeighborsClassifier(metric='euclidean', n_neighbors=3)"
            ],
            "text/html": [
              "<style>#sk-container-id-36 {color: black;background-color: white;}#sk-container-id-36 pre{padding: 0;}#sk-container-id-36 div.sk-toggleable {background-color: white;}#sk-container-id-36 label.sk-toggleable__label {cursor: pointer;display: block;width: 100%;margin-bottom: 0;padding: 0.3em;box-sizing: border-box;text-align: center;}#sk-container-id-36 label.sk-toggleable__label-arrow:before {content: \"▸\";float: left;margin-right: 0.25em;color: #696969;}#sk-container-id-36 label.sk-toggleable__label-arrow:hover:before {color: black;}#sk-container-id-36 div.sk-estimator:hover label.sk-toggleable__label-arrow:before {color: black;}#sk-container-id-36 div.sk-toggleable__content {max-height: 0;max-width: 0;overflow: hidden;text-align: left;background-color: #f0f8ff;}#sk-container-id-36 div.sk-toggleable__content pre {margin: 0.2em;color: black;border-radius: 0.25em;background-color: #f0f8ff;}#sk-container-id-36 input.sk-toggleable__control:checked~div.sk-toggleable__content {max-height: 200px;max-width: 100%;overflow: auto;}#sk-container-id-36 input.sk-toggleable__control:checked~label.sk-toggleable__label-arrow:before {content: \"▾\";}#sk-container-id-36 div.sk-estimator input.sk-toggleable__control:checked~label.sk-toggleable__label {background-color: #d4ebff;}#sk-container-id-36 div.sk-label input.sk-toggleable__control:checked~label.sk-toggleable__label {background-color: #d4ebff;}#sk-container-id-36 input.sk-hidden--visually {border: 0;clip: rect(1px 1px 1px 1px);clip: rect(1px, 1px, 1px, 1px);height: 1px;margin: -1px;overflow: hidden;padding: 0;position: absolute;width: 1px;}#sk-container-id-36 div.sk-estimator {font-family: monospace;background-color: #f0f8ff;border: 1px dotted black;border-radius: 0.25em;box-sizing: border-box;margin-bottom: 0.5em;}#sk-container-id-36 div.sk-estimator:hover {background-color: #d4ebff;}#sk-container-id-36 div.sk-parallel-item::after {content: \"\";width: 100%;border-bottom: 1px solid gray;flex-grow: 1;}#sk-container-id-36 div.sk-label:hover label.sk-toggleable__label {background-color: #d4ebff;}#sk-container-id-36 div.sk-serial::before {content: \"\";position: absolute;border-left: 1px solid gray;box-sizing: border-box;top: 0;bottom: 0;left: 50%;z-index: 0;}#sk-container-id-36 div.sk-serial {display: flex;flex-direction: column;align-items: center;background-color: white;padding-right: 0.2em;padding-left: 0.2em;position: relative;}#sk-container-id-36 div.sk-item {position: relative;z-index: 1;}#sk-container-id-36 div.sk-parallel {display: flex;align-items: stretch;justify-content: center;background-color: white;position: relative;}#sk-container-id-36 div.sk-item::before, #sk-container-id-36 div.sk-parallel-item::before {content: \"\";position: absolute;border-left: 1px solid gray;box-sizing: border-box;top: 0;bottom: 0;left: 50%;z-index: -1;}#sk-container-id-36 div.sk-parallel-item {display: flex;flex-direction: column;z-index: 1;position: relative;background-color: white;}#sk-container-id-36 div.sk-parallel-item:first-child::after {align-self: flex-end;width: 50%;}#sk-container-id-36 div.sk-parallel-item:last-child::after {align-self: flex-start;width: 50%;}#sk-container-id-36 div.sk-parallel-item:only-child::after {width: 0;}#sk-container-id-36 div.sk-dashed-wrapped {border: 1px dashed gray;margin: 0 0.4em 0.5em 0.4em;box-sizing: border-box;padding-bottom: 0.4em;background-color: white;}#sk-container-id-36 div.sk-label label {font-family: monospace;font-weight: bold;display: inline-block;line-height: 1.2em;}#sk-container-id-36 div.sk-label-container {text-align: center;}#sk-container-id-36 div.sk-container {/* jupyter's `normalize.less` sets `[hidden] { display: none; }` but bootstrap.min.css set `[hidden] { display: none !important; }` so we also need the `!important` here to be able to override the default hidden behavior on the sphinx rendered scikit-learn.org. See: https://github.com/scikit-learn/scikit-learn/issues/21755 */display: inline-block !important;position: relative;}#sk-container-id-36 div.sk-text-repr-fallback {display: none;}</style><div id=\"sk-container-id-36\" class=\"sk-top-container\"><div class=\"sk-text-repr-fallback\"><pre>KNeighborsClassifier(metric=&#x27;euclidean&#x27;, n_neighbors=3)</pre><b>In a Jupyter environment, please rerun this cell to show the HTML representation or trust the notebook. <br />On GitHub, the HTML representation is unable to render, please try loading this page with nbviewer.org.</b></div><div class=\"sk-container\" hidden><div class=\"sk-item\"><div class=\"sk-estimator sk-toggleable\"><input class=\"sk-toggleable__control sk-hidden--visually\" id=\"sk-estimator-id-36\" type=\"checkbox\" checked><label for=\"sk-estimator-id-36\" class=\"sk-toggleable__label sk-toggleable__label-arrow\">KNeighborsClassifier</label><div class=\"sk-toggleable__content\"><pre>KNeighborsClassifier(metric=&#x27;euclidean&#x27;, n_neighbors=3)</pre></div></div></div></div></div>"
            ]
          },
          "metadata": {},
          "execution_count": 390
        }
      ]
    },
    {
      "cell_type": "markdown",
      "source": [
        "**Посчитать метрики:** *accuracy, precision, recall, f-measure*, а также составить` classification_report`"
      ],
      "metadata": {
        "id": "-shIO2SHN9x-"
      }
    },
    {
      "cell_type": "code",
      "source": [
        "preds_filtered = filtered_model.predict(x_test[new_features])"
      ],
      "metadata": {
        "id": "mxWgYwsIOdsn"
      },
      "execution_count": 391,
      "outputs": []
    },
    {
      "cell_type": "code",
      "source": [
        "print(f'Accuracy: {accuracy_score(y_test, preds_filtered)}')\n",
        "print(f'Precision (micro): {precision_score(y_test, preds_filtered, average=\"micro\")}')\n",
        "print(f'Recall (micro): {recall_score(y_test, preds_filtered, average=\"micro\")}')\n",
        "print(f'F1-measure (micro): {f1_score(y_test, preds_filtered, average=\"micro\")}')\n",
        "print(classification_report(y_test, preds_filtered))"
      ],
      "metadata": {
        "colab": {
          "base_uri": "https://localhost:8080/"
        },
        "id": "gyyVswyiOdLs",
        "outputId": "51beb663-3850-479f-80a8-286332d2ef09"
      },
      "execution_count": 392,
      "outputs": [
        {
          "output_type": "stream",
          "name": "stdout",
          "text": [
            "Accuracy: 0.3773049645390071\n",
            "Precision (micro): 0.3773049645390071\n",
            "Recall (micro): 0.3773049645390071\n",
            "F1-measure (micro): 0.3773049645390071\n",
            "              precision    recall  f1-score   support\n",
            "\n",
            "           0       0.31      0.40      0.35       371\n",
            "           1       0.43      0.37      0.40       593\n",
            "           2       0.39      0.37      0.38       446\n",
            "\n",
            "    accuracy                           0.38      1410\n",
            "   macro avg       0.38      0.38      0.38      1410\n",
            "weighted avg       0.38      0.38      0.38      1410\n",
            "\n"
          ]
        }
      ]
    },
    {
      "cell_type": "markdown",
      "source": [
        "**Сравнить результаты \"до\" и \"после\" фильтрации, сделать выводы**"
      ],
      "metadata": {
        "id": "g99ESjcsO-SB"
      }
    },
    {
      "cell_type": "markdown",
      "source": [
        "Точность  модели практически не изменилась, однако теперь она обеспечивается меньшим количеством признаков"
      ],
      "metadata": {
        "id": "6W36NJ57PEdQ"
      }
    },
    {
      "cell_type": "markdown",
      "source": [
        "**Перебрать значения гиперпараметра в каком-нибудь диапазоне с использованием кросс-валидации. Построить график train/test accuracy в зависимости от значения k**"
      ],
      "metadata": {
        "id": "SHJAduM9PUsu"
      }
    },
    {
      "cell_type": "code",
      "source": [
        "scaler_filter = StandardScaler()\n",
        "scaler_filter.fit(x[new_features])\n",
        "x_scaled_filtered = pd.DataFrame(scaler_filter.transform(x[new_features]), columns=new_features)\n",
        "x_train_scaled_filtered = pd.DataFrame(scaler_filter.transform(x_train[new_features]), columns=new_features)\n",
        "x_test_scaled_filtered = pd.DataFrame(scaler_filter.transform(x_test[new_features]), columns=new_features)"
      ],
      "metadata": {
        "id": "Bfi8g5PTO93-"
      },
      "execution_count": 393,
      "outputs": []
    },
    {
      "cell_type": "code",
      "source": [
        "train_score = []\n",
        "test_score = []\n",
        "\n",
        "for k in range(2, 100):\n",
        "    model = KNeighborsClassifier(n_neighbors=k)\n",
        "    scores = cross_val_score(model, x_scaled_filtered, y, cv = 10)\n",
        "    print(f\"Neighbors: {k}, folds count: 10 avg score: {scores.mean()}\")\n",
        "    model.fit(x_train_scaled_filtered, y_train)\n",
        "    pred_train = model.predict(x_train_scaled_filtered)\n",
        "    pred_test = model.predict(x_test_scaled_filtered)\n",
        "    train_score.append(accuracy_score(y_train, pred_train))\n",
        "    test_score.append(accuracy_score(y_test, pred_test))"
      ],
      "metadata": {
        "colab": {
          "base_uri": "https://localhost:8080/"
        },
        "id": "0yVvB9yrPgJg",
        "outputId": "d50ea5ca-ead4-4f85-e8bf-fb15e12f3354"
      },
      "execution_count": 396,
      "outputs": [
        {
          "output_type": "stream",
          "name": "stdout",
          "text": [
            "Neighbors: 2, folds count: 10 avg score: 0.39566276935626404\n",
            "Neighbors: 3, folds count: 10 avg score: 0.41917567353227747\n",
            "Neighbors: 4, folds count: 10 avg score: 0.4397122334760836\n",
            "Neighbors: 5, folds count: 10 avg score: 0.4356720594566424\n",
            "Neighbors: 6, folds count: 10 avg score: 0.4468423855165069\n",
            "Neighbors: 7, folds count: 10 avg score: 0.459721410282555\n",
            "Neighbors: 8, folds count: 10 avg score: 0.45408152629551585\n",
            "Neighbors: 9, folds count: 10 avg score: 0.45801848956563107\n",
            "Neighbors: 10, folds count: 10 avg score: 0.4599328167131172\n",
            "Neighbors: 11, folds count: 10 avg score: 0.467701606507602\n",
            "Neighbors: 12, folds count: 10 avg score: 0.4662119049237532\n",
            "Neighbors: 13, folds count: 10 avg score: 0.4716407223619513\n",
            "Neighbors: 14, folds count: 10 avg score: 0.48089513515963106\n",
            "Neighbors: 15, folds count: 10 avg score: 0.4797267350961866\n",
            "Neighbors: 16, folds count: 10 avg score: 0.4784467405342941\n",
            "Neighbors: 17, folds count: 10 avg score: 0.4805770058686244\n",
            "Neighbors: 18, folds count: 10 avg score: 0.4795104570276211\n",
            "Neighbors: 19, folds count: 10 avg score: 0.4787665692339066\n",
            "Neighbors: 20, folds count: 10 avg score: 0.47950785126775886\n",
            "Neighbors: 21, folds count: 10 avg score: 0.4820644415743322\n",
            "Neighbors: 22, folds count: 10 avg score: 0.4813190809598259\n",
            "Neighbors: 23, folds count: 10 avg score: 0.4830227947340992\n",
            "Neighbors: 24, folds count: 10 avg score: 0.4845120431423198\n",
            "Neighbors: 25, folds count: 10 avg score: 0.4827039856796501\n",
            "Neighbors: 26, folds count: 10 avg score: 0.4854700564203657\n",
            "Neighbors: 27, folds count: 10 avg score: 0.48578920535653597\n",
            "Neighbors: 28, folds count: 10 avg score: 0.4860006117870981\n",
            "Neighbors: 29, folds count: 10 avg score: 0.48185020279609364\n",
            "Neighbors: 30, folds count: 10 avg score: 0.4853617474452223\n",
            "Neighbors: 31, folds count: 10 avg score: 0.48461672671243744\n",
            "Neighbors: 32, folds count: 10 avg score: 0.48717037137742736\n",
            "Neighbors: 33, folds count: 10 avg score: 0.4891925543244284\n",
            "Neighbors: 34, folds count: 10 avg score: 0.49015068089638136\n",
            "Neighbors: 35, folds count: 10 avg score: 0.4899376883511205\n",
            "Neighbors: 36, folds count: 10 avg score: 0.49057711916253144\n",
            "Neighbors: 37, folds count: 10 avg score: 0.49185439467065467\n",
            "Neighbors: 38, folds count: 10 avg score: 0.49313019735798613\n",
            "Neighbors: 39, folds count: 10 avg score: 0.4907901117077923\n",
            "Neighbors: 40, folds count: 10 avg score: 0.4935560691546009\n",
            "Neighbors: 41, folds count: 10 avg score: 0.4927052319126277\n",
            "Neighbors: 42, folds count: 10 avg score: 0.49249291913080917\n",
            "Neighbors: 43, folds count: 10 avg score: 0.49291833775179567\n",
            "Neighbors: 44, folds count: 10 avg score: 0.4970687467428002\n",
            "Neighbors: 45, folds count: 10 avg score: 0.49536582602587637\n",
            "Neighbors: 46, folds count: 10 avg score: 0.4940896834568237\n",
            "Neighbors: 47, folds count: 10 avg score: 0.4938763510298417\n",
            "Neighbors: 48, folds count: 10 avg score: 0.4945152153717173\n",
            "Neighbors: 49, folds count: 10 avg score: 0.49334420954841046\n",
            "Neighbors: 50, folds count: 10 avg score: 0.49611152652210366\n",
            "Neighbors: 51, folds count: 10 avg score: 0.4952602361045023\n",
            "Neighbors: 52, folds count: 10 avg score: 0.49568463508032545\n",
            "Neighbors: 53, folds count: 10 avg score: 0.49547300206194916\n",
            "Neighbors: 54, folds count: 10 avg score: 0.49525955634106006\n",
            "Neighbors: 55, folds count: 10 avg score: 0.49483368454444526\n",
            "Neighbors: 56, folds count: 10 avg score: 0.49600446377993795\n",
            "Neighbors: 57, folds count: 10 avg score: 0.49462137176262655\n",
            "Neighbors: 58, folds count: 10 avg score: 0.4931308771214285\n",
            "Neighbors: 59, folds count: 10 avg score: 0.4931316701787777\n",
            "Neighbors: 60, folds count: 10 avg score: 0.4939834137720074\n",
            "Neighbors: 61, folds count: 10 avg score: 0.4948335712505382\n",
            "Neighbors: 62, folds count: 10 avg score: 0.4957919244103051\n",
            "Neighbors: 63, folds count: 10 avg score: 0.49302449414270494\n",
            "Neighbors: 64, folds count: 10 avg score: 0.4940891169872884\n",
            "Neighbors: 65, folds count: 10 avg score: 0.4941942537330342\n",
            "Neighbors: 66, folds count: 10 avg score: 0.494940973874425\n",
            "Neighbors: 67, folds count: 10 avg score: 0.49504690367752024\n",
            "Neighbors: 68, folds count: 10 avg score: 0.4933445494301316\n",
            "Neighbors: 69, folds count: 10 avg score: 0.49281229465479354\n",
            "Neighbors: 70, folds count: 10 avg score: 0.4931316701787778\n",
            "Neighbors: 71, folds count: 10 avg score: 0.49217320372510365\n",
            "Neighbors: 72, folds count: 10 avg score: 0.49004509097500737\n",
            "Neighbors: 73, folds count: 10 avg score: 0.49121587021050017\n",
            "Neighbors: 74, folds count: 10 avg score: 0.48887419844560764\n",
            "Neighbors: 75, folds count: 10 avg score: 0.4905773457503456\n",
            "Neighbors: 76, folds count: 10 avg score: 0.48930075000566464\n",
            "Neighbors: 77, folds count: 10 avg score: 0.49249371218815857\n",
            "Neighbors: 78, folds count: 10 avg score: 0.4941952733781977\n",
            "Neighbors: 79, folds count: 10 avg score: 0.4925995286973467\n",
            "Neighbors: 80, folds count: 10 avg score: 0.4945137425509256\n",
            "Neighbors: 81, folds count: 10 avg score: 0.4930255137878685\n",
            "Neighbors: 82, folds count: 10 avg score: 0.4930240409670768\n",
            "Neighbors: 83, folds count: 10 avg score: 0.4919596447103075\n",
            "Neighbors: 84, folds count: 10 avg score: 0.4946196723540209\n",
            "Neighbors: 85, folds count: 10 avg score: 0.49483243831146756\n",
            "Neighbors: 86, folds count: 10 avg score: 0.49461967235402077\n",
            "Neighbors: 87, folds count: 10 avg score: 0.494725715451023\n",
            "Neighbors: 88, folds count: 10 avg score: 0.49334239684589765\n",
            "Neighbors: 89, folds count: 10 avg score: 0.4944072462782952\n",
            "Neighbors: 90, folds count: 10 avg score: 0.49387544467858513\n",
            "Neighbors: 91, folds count: 10 avg score: 0.49334341649106117\n",
            "Neighbors: 92, folds count: 10 avg score: 0.4917469920467677\n",
            "Neighbors: 93, folds count: 10 avg score: 0.49174733192848885\n",
            "Neighbors: 94, folds count: 10 avg score: 0.4911084675866132\n",
            "Neighbors: 95, folds count: 10 avg score: 0.4907880724174654\n",
            "Neighbors: 96, folds count: 10 avg score: 0.4917463122833253\n",
            "Neighbors: 97, folds count: 10 avg score: 0.4925971495252985\n",
            "Neighbors: 98, folds count: 10 avg score: 0.4918526952620487\n",
            "Neighbors: 99, folds count: 10 avg score: 0.49504565744454265\n"
          ]
        }
      ]
    },
    {
      "cell_type": "code",
      "source": [
        "plt.plot(range(2, 100), train_score, label=\"train_score\")\n",
        "plt.plot(range(2, 100), test_score, label=\"test_score\")\n",
        "plt.xlabel(\"k\")\n",
        "plt.ylabel(\"accuracy\")\n",
        "plt.legend()"
      ],
      "metadata": {
        "colab": {
          "base_uri": "https://localhost:8080/",
          "height": 466
        },
        "id": "_ZwLla-QPlP1",
        "outputId": "44bd7a07-547d-4801-b98f-90c24beb313e"
      },
      "execution_count": 397,
      "outputs": [
        {
          "output_type": "execute_result",
          "data": {
            "text/plain": [
              "<matplotlib.legend.Legend at 0x7c1012964c70>"
            ]
          },
          "metadata": {},
          "execution_count": 397
        },
        {
          "output_type": "display_data",
          "data": {
            "text/plain": [
              "<Figure size 640x480 with 1 Axes>"
            ],
            "image/png": "[encoded data removed]"
          },
          "metadata": {}
        }
      ]
    },
    {
      "cell_type": "markdown",
      "source": [
        "**Для лучшего классификатора привести метрики, classification_report, построить confusion matrix**"
      ],
      "metadata": {
        "id": "xYvzKw3lQDzt"
      }
    },
    {
      "cell_type": "markdown",
      "source": [
        "Наилучший результат на тестовой выборке при k=6"
      ],
      "metadata": {
        "id": "1WkhTcn6QJDt"
      }
    },
    {
      "cell_type": "code",
      "source": [
        "test_score.index(max(test_score[1:]))"
      ],
      "metadata": {
        "colab": {
          "base_uri": "https://localhost:8080/"
        },
        "id": "zYOYvScgSmsz",
        "outputId": "d9c81938-d9a0-4a85-9068-287fc102d0f6"
      },
      "execution_count": 398,
      "outputs": [
        {
          "output_type": "execute_result",
          "data": {
            "text/plain": [
              "36"
            ]
          },
          "metadata": {},
          "execution_count": 398
        }
      ]
    },
    {
      "cell_type": "code",
      "source": [
        "filtered_model = KNeighborsClassifier(n_neighbors=36)\n",
        "# обучение\n",
        "filtered_model.fit(x_train_scaled_filtered, y_train)"
      ],
      "metadata": {
        "colab": {
          "base_uri": "https://localhost:8080/",
          "height": 74
        },
        "id": "BYSU7ooDQZA5",
        "outputId": "b04347a5-d792-416d-f5d1-b8e026c58476"
      },
      "execution_count": 399,
      "outputs": [
        {
          "output_type": "execute_result",
          "data": {
            "text/plain": [
              "KNeighborsClassifier(n_neighbors=36)"
            ],
            "text/html": [
              "<style>#sk-container-id-37 {color: black;background-color: white;}#sk-container-id-37 pre{padding: 0;}#sk-container-id-37 div.sk-toggleable {background-color: white;}#sk-container-id-37 label.sk-toggleable__label {cursor: pointer;display: block;width: 100%;margin-bottom: 0;padding: 0.3em;box-sizing: border-box;text-align: center;}#sk-container-id-37 label.sk-toggleable__label-arrow:before {content: \"▸\";float: left;margin-right: 0.25em;color: #696969;}#sk-container-id-37 label.sk-toggleable__label-arrow:hover:before {color: black;}#sk-container-id-37 div.sk-estimator:hover label.sk-toggleable__label-arrow:before {color: black;}#sk-container-id-37 div.sk-toggleable__content {max-height: 0;max-width: 0;overflow: hidden;text-align: left;background-color: #f0f8ff;}#sk-container-id-37 div.sk-toggleable__content pre {margin: 0.2em;color: black;border-radius: 0.25em;background-color: #f0f8ff;}#sk-container-id-37 input.sk-toggleable__control:checked~div.sk-toggleable__content {max-height: 200px;max-width: 100%;overflow: auto;}#sk-container-id-37 input.sk-toggleable__control:checked~label.sk-toggleable__label-arrow:before {content: \"▾\";}#sk-container-id-37 div.sk-estimator input.sk-toggleable__control:checked~label.sk-toggleable__label {background-color: #d4ebff;}#sk-container-id-37 div.sk-label input.sk-toggleable__control:checked~label.sk-toggleable__label {background-color: #d4ebff;}#sk-container-id-37 input.sk-hidden--visually {border: 0;clip: rect(1px 1px 1px 1px);clip: rect(1px, 1px, 1px, 1px);height: 1px;margin: -1px;overflow: hidden;padding: 0;position: absolute;width: 1px;}#sk-container-id-37 div.sk-estimator {font-family: monospace;background-color: #f0f8ff;border: 1px dotted black;border-radius: 0.25em;box-sizing: border-box;margin-bottom: 0.5em;}#sk-container-id-37 div.sk-estimator:hover {background-color: #d4ebff;}#sk-container-id-37 div.sk-parallel-item::after {content: \"\";width: 100%;border-bottom: 1px solid gray;flex-grow: 1;}#sk-container-id-37 div.sk-label:hover label.sk-toggleable__label {background-color: #d4ebff;}#sk-container-id-37 div.sk-serial::before {content: \"\";position: absolute;border-left: 1px solid gray;box-sizing: border-box;top: 0;bottom: 0;left: 50%;z-index: 0;}#sk-container-id-37 div.sk-serial {display: flex;flex-direction: column;align-items: center;background-color: white;padding-right: 0.2em;padding-left: 0.2em;position: relative;}#sk-container-id-37 div.sk-item {position: relative;z-index: 1;}#sk-container-id-37 div.sk-parallel {display: flex;align-items: stretch;justify-content: center;background-color: white;position: relative;}#sk-container-id-37 div.sk-item::before, #sk-container-id-37 div.sk-parallel-item::before {content: \"\";position: absolute;border-left: 1px solid gray;box-sizing: border-box;top: 0;bottom: 0;left: 50%;z-index: -1;}#sk-container-id-37 div.sk-parallel-item {display: flex;flex-direction: column;z-index: 1;position: relative;background-color: white;}#sk-container-id-37 div.sk-parallel-item:first-child::after {align-self: flex-end;width: 50%;}#sk-container-id-37 div.sk-parallel-item:last-child::after {align-self: flex-start;width: 50%;}#sk-container-id-37 div.sk-parallel-item:only-child::after {width: 0;}#sk-container-id-37 div.sk-dashed-wrapped {border: 1px dashed gray;margin: 0 0.4em 0.5em 0.4em;box-sizing: border-box;padding-bottom: 0.4em;background-color: white;}#sk-container-id-37 div.sk-label label {font-family: monospace;font-weight: bold;display: inline-block;line-height: 1.2em;}#sk-container-id-37 div.sk-label-container {text-align: center;}#sk-container-id-37 div.sk-container {/* jupyter's `normalize.less` sets `[hidden] { display: none; }` but bootstrap.min.css set `[hidden] { display: none !important; }` so we also need the `!important` here to be able to override the default hidden behavior on the sphinx rendered scikit-learn.org. See: https://github.com/scikit-learn/scikit-learn/issues/21755 */display: inline-block !important;position: relative;}#sk-container-id-37 div.sk-text-repr-fallback {display: none;}</style><div id=\"sk-container-id-37\" class=\"sk-top-container\"><div class=\"sk-text-repr-fallback\"><pre>KNeighborsClassifier(n_neighbors=36)</pre><b>In a Jupyter environment, please rerun this cell to show the HTML representation or trust the notebook. <br />On GitHub, the HTML representation is unable to render, please try loading this page with nbviewer.org.</b></div><div class=\"sk-container\" hidden><div class=\"sk-item\"><div class=\"sk-estimator sk-toggleable\"><input class=\"sk-toggleable__control sk-hidden--visually\" id=\"sk-estimator-id-37\" type=\"checkbox\" checked><label for=\"sk-estimator-id-37\" class=\"sk-toggleable__label sk-toggleable__label-arrow\">KNeighborsClassifier</label><div class=\"sk-toggleable__content\"><pre>KNeighborsClassifier(n_neighbors=36)</pre></div></div></div></div></div>"
            ]
          },
          "metadata": {},
          "execution_count": 399
        }
      ]
    },
    {
      "cell_type": "code",
      "source": [
        "preds = model.predict(x_test_scaled_filtered)"
      ],
      "metadata": {
        "id": "WY9kuNmWQkJ2"
      },
      "execution_count": 400,
      "outputs": []
    },
    {
      "cell_type": "code",
      "source": [
        "print(f'Accuracy: {accuracy_score(y_test, preds)}')\n",
        "print(f'Precision (micro): {precision_score(y_test, preds, average=\"micro\")}')\n",
        "print(f'Recall (micro): {recall_score(y_test, preds, average=\"micro\")}')\n",
        "print(f'F1-measure (micro): {f1_score(y_test, preds, average=\"micro\")}')\n",
        "print(classification_report(y_test, preds))"
      ],
      "metadata": {
        "colab": {
          "base_uri": "https://localhost:8080/"
        },
        "id": "7hDy_x9MQprG",
        "outputId": "a7ddd8bf-666f-403d-baca-b97ed5ff57e3"
      },
      "execution_count": 401,
      "outputs": [
        {
          "output_type": "stream",
          "name": "stdout",
          "text": [
            "Accuracy: 0.475177304964539\n",
            "Precision (micro): 0.475177304964539\n",
            "Recall (micro): 0.475177304964539\n",
            "F1-measure (micro): 0.475177304964539\n",
            "              precision    recall  f1-score   support\n",
            "\n",
            "           0       0.57      0.22      0.32       371\n",
            "           1       0.45      0.55      0.50       593\n",
            "           2       0.48      0.58      0.52       446\n",
            "\n",
            "    accuracy                           0.48      1410\n",
            "   macro avg       0.50      0.45      0.45      1410\n",
            "weighted avg       0.49      0.48      0.46      1410\n",
            "\n"
          ]
        }
      ]
    },
    {
      "cell_type": "code",
      "source": [
        "from sklearn.metrics import confusion_matrix\n",
        "sns.heatmap(data=confusion_matrix(y_test, preds, normalize='true'), square=True, annot=True, fmt='.2f')"
      ],
      "metadata": {
        "colab": {
          "base_uri": "https://localhost:8080/",
          "height": 447
        },
        "id": "mrs-VL1EQxLc",
        "outputId": "17e31e45-7178-470b-a5a2-4ef5fa877622"
      },
      "execution_count": 402,
      "outputs": [
        {
          "output_type": "execute_result",
          "data": {
            "text/plain": [
              "<Axes: >"
            ]
          },
          "metadata": {},
          "execution_count": 402
        },
        {
          "output_type": "display_data",
          "data": {
            "text/plain": [
              "<Figure size 640x480 with 2 Axes>"
            ],
            "image/png": "[encoded data removed]"
          },
          "metadata": {}
        }
      ]
    }
  ]
}